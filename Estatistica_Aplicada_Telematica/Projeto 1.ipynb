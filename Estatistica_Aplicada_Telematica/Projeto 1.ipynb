{
 "cells": [
  {
   "cell_type": "markdown",
   "id": "dc82caae",
   "metadata": {},
   "source": [
    "# <center> ESTATÍSTICA APLICADA </center>"
   ]
  },
  {
   "cell_type": "markdown",
   "id": "7f01636d",
   "metadata": {},
   "source": [
    "# <center>  Projeto 1 </center>"
   ]
  },
  {
   "cell_type": "markdown",
   "id": "df6ecaec",
   "metadata": {},
   "source": [
    "# <center>  José Silvestre da Silva Galvão </center>"
   ]
  },
  {
   "cell_type": "markdown",
   "id": "dad23cd6-7f46-4f0d-b0f1-11ed99a8492e",
   "metadata": {},
   "source": [
    "### <center> Tarefa 1 </center>"
   ]
  },
  {
   "cell_type": "markdown",
   "id": "cae1d1ec",
   "metadata": {},
   "source": [
    "Sim, é possível acessar os arquivos compactados diretamente do site sem precisar baixar."
   ]
  },
  {
   "cell_type": "code",
   "execution_count": 8,
   "id": "3f1655ad",
   "metadata": {},
   "outputs": [],
   "source": [
    "import pandas as pd\n",
    "import numpy as np\n"
   ]
  },
  {
   "cell_type": "markdown",
   "id": "6d3ffee8",
   "metadata": {},
   "source": [
    "Para facilitar o meu trabalho coloquei os links em uma váriavel."
   ]
  },
  {
   "cell_type": "code",
   "execution_count": 9,
   "id": "0e90e096",
   "metadata": {},
   "outputs": [],
   "source": [
    "arq2018 = \"https://arquivos.prf.gov.br/arquivos/index.php/s/EF4uPKCihT0ouXd/download\"\n",
    "arq2019 = \"https://arquivos.prf.gov.br/arquivos/index.php/s/sdvJndbl5wLyh3J/download\"\n",
    "arq2020 = \"https://arquivos.prf.gov.br/arquivos/index.php/s/hXimwPNR9lyqdMS/download\""
   ]
  },
  {
   "cell_type": "markdown",
   "id": "6cd613a5",
   "metadata": {},
   "source": [
    "Fiz a descompactação do arquivo diretamente do site usando o compression zip. E depois gerei o dataframe."
   ]
  },
  {
   "cell_type": "code",
   "execution_count": 10,
   "id": "6ef96f08",
   "metadata": {},
   "outputs": [
    {
     "data": {
      "text/html": [
       "<div>\n",
       "<style scoped>\n",
       "    .dataframe tbody tr th:only-of-type {\n",
       "        vertical-align: middle;\n",
       "    }\n",
       "\n",
       "    .dataframe tbody tr th {\n",
       "        vertical-align: top;\n",
       "    }\n",
       "\n",
       "    .dataframe thead th {\n",
       "        text-align: right;\n",
       "    }\n",
       "</style>\n",
       "<table border=\"1\" class=\"dataframe\">\n",
       "  <thead>\n",
       "    <tr style=\"text-align: right;\">\n",
       "      <th></th>\n",
       "      <th>id</th>\n",
       "      <th>pesid</th>\n",
       "      <th>data_inversa</th>\n",
       "      <th>dia_semana</th>\n",
       "      <th>horario</th>\n",
       "      <th>uf</th>\n",
       "      <th>br</th>\n",
       "      <th>km</th>\n",
       "      <th>municipio</th>\n",
       "      <th>causa_principal</th>\n",
       "      <th>...</th>\n",
       "      <th>sexo</th>\n",
       "      <th>ilesos</th>\n",
       "      <th>feridos_leves</th>\n",
       "      <th>feridos_graves</th>\n",
       "      <th>mortos</th>\n",
       "      <th>latitude</th>\n",
       "      <th>longitude</th>\n",
       "      <th>regional</th>\n",
       "      <th>delegacia</th>\n",
       "      <th>uop</th>\n",
       "    </tr>\n",
       "  </thead>\n",
       "  <tbody>\n",
       "    <tr>\n",
       "      <th>0</th>\n",
       "      <td>99973.0</td>\n",
       "      <td>216523.0</td>\n",
       "      <td>2018-01-01</td>\n",
       "      <td>segunda-feira</td>\n",
       "      <td>00:20:00</td>\n",
       "      <td>RJ</td>\n",
       "      <td>116.0</td>\n",
       "      <td>303,5</td>\n",
       "      <td>RESENDE</td>\n",
       "      <td>Sim</td>\n",
       "      <td>...</td>\n",
       "      <td>Masculino</td>\n",
       "      <td>0</td>\n",
       "      <td>0</td>\n",
       "      <td>1</td>\n",
       "      <td>0</td>\n",
       "      <td>-22,46937</td>\n",
       "      <td>-44,44705</td>\n",
       "      <td>SR-RJ</td>\n",
       "      <td>DEL5/7</td>\n",
       "      <td>UOP03/RJ</td>\n",
       "    </tr>\n",
       "    <tr>\n",
       "      <th>1</th>\n",
       "      <td>99973.0</td>\n",
       "      <td>216524.0</td>\n",
       "      <td>2018-01-01</td>\n",
       "      <td>segunda-feira</td>\n",
       "      <td>00:20:00</td>\n",
       "      <td>RJ</td>\n",
       "      <td>116.0</td>\n",
       "      <td>303,5</td>\n",
       "      <td>RESENDE</td>\n",
       "      <td>Sim</td>\n",
       "      <td>...</td>\n",
       "      <td>Feminino</td>\n",
       "      <td>0</td>\n",
       "      <td>0</td>\n",
       "      <td>1</td>\n",
       "      <td>0</td>\n",
       "      <td>-22,46937</td>\n",
       "      <td>-44,44705</td>\n",
       "      <td>SR-RJ</td>\n",
       "      <td>DEL5/7</td>\n",
       "      <td>UOP03/RJ</td>\n",
       "    </tr>\n",
       "    <tr>\n",
       "      <th>2</th>\n",
       "      <td>99973.0</td>\n",
       "      <td>216532.0</td>\n",
       "      <td>2018-01-01</td>\n",
       "      <td>segunda-feira</td>\n",
       "      <td>00:20:00</td>\n",
       "      <td>RJ</td>\n",
       "      <td>116.0</td>\n",
       "      <td>303,5</td>\n",
       "      <td>RESENDE</td>\n",
       "      <td>Sim</td>\n",
       "      <td>...</td>\n",
       "      <td>Masculino</td>\n",
       "      <td>1</td>\n",
       "      <td>0</td>\n",
       "      <td>0</td>\n",
       "      <td>0</td>\n",
       "      <td>-22,46937</td>\n",
       "      <td>-44,44705</td>\n",
       "      <td>SR-RJ</td>\n",
       "      <td>DEL5/7</td>\n",
       "      <td>UOP03/RJ</td>\n",
       "    </tr>\n",
       "    <tr>\n",
       "      <th>3</th>\n",
       "      <td>99973.0</td>\n",
       "      <td>216527.0</td>\n",
       "      <td>2018-01-01</td>\n",
       "      <td>segunda-feira</td>\n",
       "      <td>00:20:00</td>\n",
       "      <td>RJ</td>\n",
       "      <td>116.0</td>\n",
       "      <td>303,5</td>\n",
       "      <td>RESENDE</td>\n",
       "      <td>Sim</td>\n",
       "      <td>...</td>\n",
       "      <td>Feminino</td>\n",
       "      <td>0</td>\n",
       "      <td>0</td>\n",
       "      <td>1</td>\n",
       "      <td>0</td>\n",
       "      <td>-22,46937</td>\n",
       "      <td>-44,44705</td>\n",
       "      <td>SR-RJ</td>\n",
       "      <td>DEL5/7</td>\n",
       "      <td>UOP03/RJ</td>\n",
       "    </tr>\n",
       "    <tr>\n",
       "      <th>4</th>\n",
       "      <td>99973.0</td>\n",
       "      <td>216530.0</td>\n",
       "      <td>2018-01-01</td>\n",
       "      <td>segunda-feira</td>\n",
       "      <td>00:20:00</td>\n",
       "      <td>RJ</td>\n",
       "      <td>116.0</td>\n",
       "      <td>303,5</td>\n",
       "      <td>RESENDE</td>\n",
       "      <td>Sim</td>\n",
       "      <td>...</td>\n",
       "      <td>Masculino</td>\n",
       "      <td>0</td>\n",
       "      <td>0</td>\n",
       "      <td>1</td>\n",
       "      <td>0</td>\n",
       "      <td>-22,46937</td>\n",
       "      <td>-44,44705</td>\n",
       "      <td>SR-RJ</td>\n",
       "      <td>DEL5/7</td>\n",
       "      <td>UOP03/RJ</td>\n",
       "    </tr>\n",
       "  </tbody>\n",
       "</table>\n",
       "<p>5 rows × 37 columns</p>\n",
       "</div>"
      ],
      "text/plain": [
       "        id     pesid data_inversa     dia_semana   horario  uf     br     km  \\\n",
       "0  99973.0  216523.0   2018-01-01  segunda-feira  00:20:00  RJ  116.0  303,5   \n",
       "1  99973.0  216524.0   2018-01-01  segunda-feira  00:20:00  RJ  116.0  303,5   \n",
       "2  99973.0  216532.0   2018-01-01  segunda-feira  00:20:00  RJ  116.0  303,5   \n",
       "3  99973.0  216527.0   2018-01-01  segunda-feira  00:20:00  RJ  116.0  303,5   \n",
       "4  99973.0  216530.0   2018-01-01  segunda-feira  00:20:00  RJ  116.0  303,5   \n",
       "\n",
       "  municipio causa_principal  ...       sexo  ilesos feridos_leves  \\\n",
       "0   RESENDE             Sim  ...  Masculino       0             0   \n",
       "1   RESENDE             Sim  ...   Feminino       0             0   \n",
       "2   RESENDE             Sim  ...  Masculino       1             0   \n",
       "3   RESENDE             Sim  ...   Feminino       0             0   \n",
       "4   RESENDE             Sim  ...  Masculino       0             0   \n",
       "\n",
       "  feridos_graves mortos   latitude  longitude regional delegacia       uop  \n",
       "0              1      0  -22,46937  -44,44705    SR-RJ    DEL5/7  UOP03/RJ  \n",
       "1              1      0  -22,46937  -44,44705    SR-RJ    DEL5/7  UOP03/RJ  \n",
       "2              0      0  -22,46937  -44,44705    SR-RJ    DEL5/7  UOP03/RJ  \n",
       "3              1      0  -22,46937  -44,44705    SR-RJ    DEL5/7  UOP03/RJ  \n",
       "4              1      0  -22,46937  -44,44705    SR-RJ    DEL5/7  UOP03/RJ  \n",
       "\n",
       "[5 rows x 37 columns]"
      ]
     },
     "execution_count": 10,
     "metadata": {},
     "output_type": "execute_result"
    }
   ],
   "source": [
    "df2018 = pd.read_csv(arq2018, compression = 'zip', encoding='iso8859-1', sep = ';')\n",
    "df2018.head()"
   ]
  },
  {
   "cell_type": "code",
   "execution_count": 11,
   "id": "2b2df1aa",
   "metadata": {},
   "outputs": [
    {
     "data": {
      "text/html": [
       "<div>\n",
       "<style scoped>\n",
       "    .dataframe tbody tr th:only-of-type {\n",
       "        vertical-align: middle;\n",
       "    }\n",
       "\n",
       "    .dataframe tbody tr th {\n",
       "        vertical-align: top;\n",
       "    }\n",
       "\n",
       "    .dataframe thead th {\n",
       "        text-align: right;\n",
       "    }\n",
       "</style>\n",
       "<table border=\"1\" class=\"dataframe\">\n",
       "  <thead>\n",
       "    <tr style=\"text-align: right;\">\n",
       "      <th></th>\n",
       "      <th>id</th>\n",
       "      <th>pesid</th>\n",
       "      <th>data_inversa</th>\n",
       "      <th>dia_semana</th>\n",
       "      <th>horario</th>\n",
       "      <th>uf</th>\n",
       "      <th>br</th>\n",
       "      <th>km</th>\n",
       "      <th>municipio</th>\n",
       "      <th>causa_principal</th>\n",
       "      <th>...</th>\n",
       "      <th>sexo</th>\n",
       "      <th>ilesos</th>\n",
       "      <th>feridos_leves</th>\n",
       "      <th>feridos_graves</th>\n",
       "      <th>mortos</th>\n",
       "      <th>latitude</th>\n",
       "      <th>longitude</th>\n",
       "      <th>regional</th>\n",
       "      <th>delegacia</th>\n",
       "      <th>uop</th>\n",
       "    </tr>\n",
       "  </thead>\n",
       "  <tbody>\n",
       "    <tr>\n",
       "      <th>0</th>\n",
       "      <td>182210.0</td>\n",
       "      <td>402103.0</td>\n",
       "      <td>2019-01-01</td>\n",
       "      <td>terça-feira</td>\n",
       "      <td>01:30:00</td>\n",
       "      <td>SP</td>\n",
       "      <td>116.0</td>\n",
       "      <td>218</td>\n",
       "      <td>GUARULHOS</td>\n",
       "      <td>Sim</td>\n",
       "      <td>...</td>\n",
       "      <td>Masculino</td>\n",
       "      <td>0</td>\n",
       "      <td>1</td>\n",
       "      <td>0</td>\n",
       "      <td>0</td>\n",
       "      <td>-23,46052014</td>\n",
       "      <td>-46,48772478</td>\n",
       "      <td>SR-SP</td>\n",
       "      <td>DEL6/1</td>\n",
       "      <td>UOP01/SP</td>\n",
       "    </tr>\n",
       "    <tr>\n",
       "      <th>1</th>\n",
       "      <td>182210.0</td>\n",
       "      <td>402106.0</td>\n",
       "      <td>2019-01-01</td>\n",
       "      <td>terça-feira</td>\n",
       "      <td>01:30:00</td>\n",
       "      <td>SP</td>\n",
       "      <td>116.0</td>\n",
       "      <td>218</td>\n",
       "      <td>GUARULHOS</td>\n",
       "      <td>Sim</td>\n",
       "      <td>...</td>\n",
       "      <td>Masculino</td>\n",
       "      <td>0</td>\n",
       "      <td>1</td>\n",
       "      <td>0</td>\n",
       "      <td>0</td>\n",
       "      <td>-23,46052014</td>\n",
       "      <td>-46,48772478</td>\n",
       "      <td>SR-SP</td>\n",
       "      <td>DEL6/1</td>\n",
       "      <td>UOP01/SP</td>\n",
       "    </tr>\n",
       "    <tr>\n",
       "      <th>2</th>\n",
       "      <td>182210.0</td>\n",
       "      <td>402104.0</td>\n",
       "      <td>2019-01-01</td>\n",
       "      <td>terça-feira</td>\n",
       "      <td>01:30:00</td>\n",
       "      <td>SP</td>\n",
       "      <td>116.0</td>\n",
       "      <td>218</td>\n",
       "      <td>GUARULHOS</td>\n",
       "      <td>Sim</td>\n",
       "      <td>...</td>\n",
       "      <td>Feminino</td>\n",
       "      <td>0</td>\n",
       "      <td>1</td>\n",
       "      <td>0</td>\n",
       "      <td>0</td>\n",
       "      <td>-23,46052014</td>\n",
       "      <td>-46,48772478</td>\n",
       "      <td>SR-SP</td>\n",
       "      <td>DEL6/1</td>\n",
       "      <td>UOP01/SP</td>\n",
       "    </tr>\n",
       "    <tr>\n",
       "      <th>3</th>\n",
       "      <td>182210.0</td>\n",
       "      <td>402102.0</td>\n",
       "      <td>2019-01-01</td>\n",
       "      <td>terça-feira</td>\n",
       "      <td>01:30:00</td>\n",
       "      <td>SP</td>\n",
       "      <td>116.0</td>\n",
       "      <td>218</td>\n",
       "      <td>GUARULHOS</td>\n",
       "      <td>Sim</td>\n",
       "      <td>...</td>\n",
       "      <td>Masculino</td>\n",
       "      <td>0</td>\n",
       "      <td>1</td>\n",
       "      <td>0</td>\n",
       "      <td>0</td>\n",
       "      <td>-23,46052014</td>\n",
       "      <td>-46,48772478</td>\n",
       "      <td>SR-SP</td>\n",
       "      <td>DEL6/1</td>\n",
       "      <td>UOP01/SP</td>\n",
       "    </tr>\n",
       "    <tr>\n",
       "      <th>4</th>\n",
       "      <td>182211.0</td>\n",
       "      <td>402126.0</td>\n",
       "      <td>2019-01-01</td>\n",
       "      <td>terça-feira</td>\n",
       "      <td>01:30:00</td>\n",
       "      <td>PR</td>\n",
       "      <td>373.0</td>\n",
       "      <td>177,3</td>\n",
       "      <td>PONTA GROSSA</td>\n",
       "      <td>Sim</td>\n",
       "      <td>...</td>\n",
       "      <td>Masculino</td>\n",
       "      <td>0</td>\n",
       "      <td>1</td>\n",
       "      <td>0</td>\n",
       "      <td>0</td>\n",
       "      <td>-25,05533957</td>\n",
       "      <td>-50,22776753</td>\n",
       "      <td>SR-PR</td>\n",
       "      <td>DEL7/3</td>\n",
       "      <td>UOP01/PR</td>\n",
       "    </tr>\n",
       "  </tbody>\n",
       "</table>\n",
       "<p>5 rows × 37 columns</p>\n",
       "</div>"
      ],
      "text/plain": [
       "         id     pesid data_inversa   dia_semana   horario  uf     br     km  \\\n",
       "0  182210.0  402103.0   2019-01-01  terça-feira  01:30:00  SP  116.0    218   \n",
       "1  182210.0  402106.0   2019-01-01  terça-feira  01:30:00  SP  116.0    218   \n",
       "2  182210.0  402104.0   2019-01-01  terça-feira  01:30:00  SP  116.0    218   \n",
       "3  182210.0  402102.0   2019-01-01  terça-feira  01:30:00  SP  116.0    218   \n",
       "4  182211.0  402126.0   2019-01-01  terça-feira  01:30:00  PR  373.0  177,3   \n",
       "\n",
       "      municipio causa_principal  ...       sexo  ilesos feridos_leves  \\\n",
       "0     GUARULHOS             Sim  ...  Masculino       0             1   \n",
       "1     GUARULHOS             Sim  ...  Masculino       0             1   \n",
       "2     GUARULHOS             Sim  ...   Feminino       0             1   \n",
       "3     GUARULHOS             Sim  ...  Masculino       0             1   \n",
       "4  PONTA GROSSA             Sim  ...  Masculino       0             1   \n",
       "\n",
       "  feridos_graves mortos      latitude     longitude regional delegacia  \\\n",
       "0              0      0  -23,46052014  -46,48772478    SR-SP    DEL6/1   \n",
       "1              0      0  -23,46052014  -46,48772478    SR-SP    DEL6/1   \n",
       "2              0      0  -23,46052014  -46,48772478    SR-SP    DEL6/1   \n",
       "3              0      0  -23,46052014  -46,48772478    SR-SP    DEL6/1   \n",
       "4              0      0  -25,05533957  -50,22776753    SR-PR    DEL7/3   \n",
       "\n",
       "        uop  \n",
       "0  UOP01/SP  \n",
       "1  UOP01/SP  \n",
       "2  UOP01/SP  \n",
       "3  UOP01/SP  \n",
       "4  UOP01/PR  \n",
       "\n",
       "[5 rows x 37 columns]"
      ]
     },
     "execution_count": 11,
     "metadata": {},
     "output_type": "execute_result"
    }
   ],
   "source": [
    "df2019 = pd.read_csv(arq2019, compression = 'zip', encoding ='iso8859-1', sep = ';')\n",
    "df2019.head()"
   ]
  },
  {
   "cell_type": "code",
   "execution_count": 12,
   "id": "c395f3f7",
   "metadata": {
    "scrolled": true
   },
   "outputs": [
    {
     "data": {
      "text/html": [
       "<div>\n",
       "<style scoped>\n",
       "    .dataframe tbody tr th:only-of-type {\n",
       "        vertical-align: middle;\n",
       "    }\n",
       "\n",
       "    .dataframe tbody tr th {\n",
       "        vertical-align: top;\n",
       "    }\n",
       "\n",
       "    .dataframe thead th {\n",
       "        text-align: right;\n",
       "    }\n",
       "</style>\n",
       "<table border=\"1\" class=\"dataframe\">\n",
       "  <thead>\n",
       "    <tr style=\"text-align: right;\">\n",
       "      <th></th>\n",
       "      <th>id</th>\n",
       "      <th>pesid</th>\n",
       "      <th>data_inversa</th>\n",
       "      <th>dia_semana</th>\n",
       "      <th>horario</th>\n",
       "      <th>uf</th>\n",
       "      <th>br</th>\n",
       "      <th>km</th>\n",
       "      <th>municipio</th>\n",
       "      <th>causa_principal</th>\n",
       "      <th>...</th>\n",
       "      <th>sexo</th>\n",
       "      <th>ilesos</th>\n",
       "      <th>feridos_leves</th>\n",
       "      <th>feridos_graves</th>\n",
       "      <th>mortos</th>\n",
       "      <th>latitude</th>\n",
       "      <th>longitude</th>\n",
       "      <th>regional</th>\n",
       "      <th>delegacia</th>\n",
       "      <th>uop</th>\n",
       "    </tr>\n",
       "  </thead>\n",
       "  <tbody>\n",
       "    <tr>\n",
       "      <th>0</th>\n",
       "      <td>260031.0</td>\n",
       "      <td>578987.0</td>\n",
       "      <td>2020-01-01</td>\n",
       "      <td>quarta-feira</td>\n",
       "      <td>01:00:00</td>\n",
       "      <td>TO</td>\n",
       "      <td>153.0</td>\n",
       "      <td>678,1</td>\n",
       "      <td>GURUPI</td>\n",
       "      <td>Sim</td>\n",
       "      <td>...</td>\n",
       "      <td>Masculino</td>\n",
       "      <td>0</td>\n",
       "      <td>0</td>\n",
       "      <td>1</td>\n",
       "      <td>0</td>\n",
       "      <td>-11,77460203</td>\n",
       "      <td>-49,10744996</td>\n",
       "      <td>SR-TO</td>\n",
       "      <td>UOP01/TO</td>\n",
       "      <td>NaN</td>\n",
       "    </tr>\n",
       "    <tr>\n",
       "      <th>1</th>\n",
       "      <td>260031.0</td>\n",
       "      <td>578986.0</td>\n",
       "      <td>2020-01-01</td>\n",
       "      <td>quarta-feira</td>\n",
       "      <td>01:00:00</td>\n",
       "      <td>TO</td>\n",
       "      <td>153.0</td>\n",
       "      <td>678,1</td>\n",
       "      <td>GURUPI</td>\n",
       "      <td>Sim</td>\n",
       "      <td>...</td>\n",
       "      <td>Feminino</td>\n",
       "      <td>0</td>\n",
       "      <td>0</td>\n",
       "      <td>1</td>\n",
       "      <td>0</td>\n",
       "      <td>-11,77460203</td>\n",
       "      <td>-49,10744996</td>\n",
       "      <td>SR-TO</td>\n",
       "      <td>UOP01/TO</td>\n",
       "      <td>NaN</td>\n",
       "    </tr>\n",
       "    <tr>\n",
       "      <th>2</th>\n",
       "      <td>260031.0</td>\n",
       "      <td>578988.0</td>\n",
       "      <td>2020-01-01</td>\n",
       "      <td>quarta-feira</td>\n",
       "      <td>01:00:00</td>\n",
       "      <td>TO</td>\n",
       "      <td>153.0</td>\n",
       "      <td>678,1</td>\n",
       "      <td>GURUPI</td>\n",
       "      <td>Sim</td>\n",
       "      <td>...</td>\n",
       "      <td>Masculino</td>\n",
       "      <td>0</td>\n",
       "      <td>0</td>\n",
       "      <td>1</td>\n",
       "      <td>0</td>\n",
       "      <td>-11,77460203</td>\n",
       "      <td>-49,10744996</td>\n",
       "      <td>SR-TO</td>\n",
       "      <td>UOP01/TO</td>\n",
       "      <td>NaN</td>\n",
       "    </tr>\n",
       "    <tr>\n",
       "      <th>3</th>\n",
       "      <td>260031.0</td>\n",
       "      <td>578991.0</td>\n",
       "      <td>2020-01-01</td>\n",
       "      <td>quarta-feira</td>\n",
       "      <td>01:00:00</td>\n",
       "      <td>TO</td>\n",
       "      <td>153.0</td>\n",
       "      <td>678,1</td>\n",
       "      <td>GURUPI</td>\n",
       "      <td>Sim</td>\n",
       "      <td>...</td>\n",
       "      <td>Feminino</td>\n",
       "      <td>0</td>\n",
       "      <td>0</td>\n",
       "      <td>1</td>\n",
       "      <td>0</td>\n",
       "      <td>-11,77460203</td>\n",
       "      <td>-49,10744996</td>\n",
       "      <td>SR-TO</td>\n",
       "      <td>UOP01/TO</td>\n",
       "      <td>NaN</td>\n",
       "    </tr>\n",
       "    <tr>\n",
       "      <th>4</th>\n",
       "      <td>260031.0</td>\n",
       "      <td>578475.0</td>\n",
       "      <td>2020-01-01</td>\n",
       "      <td>quarta-feira</td>\n",
       "      <td>01:00:00</td>\n",
       "      <td>TO</td>\n",
       "      <td>153.0</td>\n",
       "      <td>678,1</td>\n",
       "      <td>GURUPI</td>\n",
       "      <td>Sim</td>\n",
       "      <td>...</td>\n",
       "      <td>Feminino</td>\n",
       "      <td>0</td>\n",
       "      <td>0</td>\n",
       "      <td>1</td>\n",
       "      <td>0</td>\n",
       "      <td>-11,77460203</td>\n",
       "      <td>-49,10744996</td>\n",
       "      <td>SR-TO</td>\n",
       "      <td>UOP01/TO</td>\n",
       "      <td>NaN</td>\n",
       "    </tr>\n",
       "  </tbody>\n",
       "</table>\n",
       "<p>5 rows × 37 columns</p>\n",
       "</div>"
      ],
      "text/plain": [
       "         id     pesid data_inversa    dia_semana   horario  uf     br     km  \\\n",
       "0  260031.0  578987.0   2020-01-01  quarta-feira  01:00:00  TO  153.0  678,1   \n",
       "1  260031.0  578986.0   2020-01-01  quarta-feira  01:00:00  TO  153.0  678,1   \n",
       "2  260031.0  578988.0   2020-01-01  quarta-feira  01:00:00  TO  153.0  678,1   \n",
       "3  260031.0  578991.0   2020-01-01  quarta-feira  01:00:00  TO  153.0  678,1   \n",
       "4  260031.0  578475.0   2020-01-01  quarta-feira  01:00:00  TO  153.0  678,1   \n",
       "\n",
       "  municipio causa_principal  ...       sexo  ilesos feridos_leves  \\\n",
       "0    GURUPI             Sim  ...  Masculino       0             0   \n",
       "1    GURUPI             Sim  ...   Feminino       0             0   \n",
       "2    GURUPI             Sim  ...  Masculino       0             0   \n",
       "3    GURUPI             Sim  ...   Feminino       0             0   \n",
       "4    GURUPI             Sim  ...   Feminino       0             0   \n",
       "\n",
       "  feridos_graves mortos      latitude     longitude regional delegacia  uop  \n",
       "0              1      0  -11,77460203  -49,10744996    SR-TO  UOP01/TO  NaN  \n",
       "1              1      0  -11,77460203  -49,10744996    SR-TO  UOP01/TO  NaN  \n",
       "2              1      0  -11,77460203  -49,10744996    SR-TO  UOP01/TO  NaN  \n",
       "3              1      0  -11,77460203  -49,10744996    SR-TO  UOP01/TO  NaN  \n",
       "4              1      0  -11,77460203  -49,10744996    SR-TO  UOP01/TO  NaN  \n",
       "\n",
       "[5 rows x 37 columns]"
      ]
     },
     "execution_count": 12,
     "metadata": {},
     "output_type": "execute_result"
    }
   ],
   "source": [
    "df2020 = pd.read_csv(arq2020, compression = 'zip', encoding = 'utf_8_sig', sep = ';')\n",
    "df20 = df2020.replace({'terça':'terça-feira','quarta':'quarta-feira','quinta':'quinta-feira','sexta':'sexta-feira'})\n",
    "df20.head()"
   ]
  },
  {
   "cell_type": "markdown",
   "id": "5c572ca4",
   "metadata": {},
   "source": [
    "### <center> Tarefa 2 </center>"
   ]
  },
  {
   "cell_type": "markdown",
   "id": "f60d9679",
   "metadata": {},
   "source": [
    "#### A)"
   ]
  },
  {
   "cell_type": "markdown",
   "id": "1d2efb39",
   "metadata": {},
   "source": [
    "#### Para saber a quantidade de acidentes que tiveram, usei o len()."
   ]
  },
  {
   "cell_type": "code",
   "execution_count": 13,
   "id": "ce3f950b",
   "metadata": {},
   "outputs": [
    {
     "data": {
      "text/plain": [
       "324809"
      ]
     },
     "execution_count": 13,
     "metadata": {},
     "output_type": "execute_result"
    }
   ],
   "source": [
    "len(df2018)"
   ]
  },
  {
   "cell_type": "markdown",
   "id": "54b75cbf",
   "metadata": {},
   "source": [
    "Em 2018 aconteceram 324809 acidentes"
   ]
  },
  {
   "cell_type": "code",
   "execution_count": 14,
   "id": "6e9c04b3",
   "metadata": {},
   "outputs": [
    {
     "data": {
      "text/plain": [
       "331666"
      ]
     },
     "execution_count": 14,
     "metadata": {},
     "output_type": "execute_result"
    }
   ],
   "source": [
    "len(df2019)"
   ]
  },
  {
   "cell_type": "markdown",
   "id": "c1e70eba",
   "metadata": {},
   "source": [
    "No ano de 2019 aconteceram 331666 acidentes"
   ]
  },
  {
   "cell_type": "code",
   "execution_count": 15,
   "id": "2e2c052f",
   "metadata": {},
   "outputs": [
    {
     "data": {
      "text/plain": [
       "394482"
      ]
     },
     "execution_count": 15,
     "metadata": {},
     "output_type": "execute_result"
    }
   ],
   "source": [
    "len(df20)"
   ]
  },
  {
   "cell_type": "markdown",
   "id": "50377ad8",
   "metadata": {},
   "source": [
    "E no ano de 2020 aconteceram 394482 acidentes."
   ]
  },
  {
   "cell_type": "markdown",
   "id": "d8c26f76",
   "metadata": {},
   "source": [
    "#### B)"
   ]
  },
  {
   "cell_type": "markdown",
   "id": "3097b5d1",
   "metadata": {},
   "source": [
    "#### Usei a função shape() para retornar o numero de linhas e o numero de colunas do dataframe. Onde o numero de variaveis são o número de colunas."
   ]
  },
  {
   "cell_type": "code",
   "execution_count": 16,
   "id": "eb1127a0",
   "metadata": {},
   "outputs": [
    {
     "data": {
      "text/plain": [
       "(324809, 37)"
      ]
     },
     "execution_count": 16,
     "metadata": {},
     "output_type": "execute_result"
    }
   ],
   "source": [
    "df2018.shape"
   ]
  },
  {
   "cell_type": "code",
   "execution_count": 17,
   "id": "15d92844",
   "metadata": {},
   "outputs": [
    {
     "data": {
      "text/plain": [
       "(331666, 37)"
      ]
     },
     "execution_count": 17,
     "metadata": {},
     "output_type": "execute_result"
    }
   ],
   "source": [
    "df2019.shape"
   ]
  },
  {
   "cell_type": "code",
   "execution_count": 18,
   "id": "c7b5e31f",
   "metadata": {},
   "outputs": [
    {
     "data": {
      "text/plain": [
       "(394482, 37)"
      ]
     },
     "execution_count": 18,
     "metadata": {},
     "output_type": "execute_result"
    }
   ],
   "source": [
    "df20.shape"
   ]
  },
  {
   "cell_type": "markdown",
   "id": "dd248023",
   "metadata": {},
   "source": [
    "Nos anos de 2018, 2019 e 2020, existem no total 37 variaveis em cada um."
   ]
  },
  {
   "cell_type": "markdown",
   "id": "c9ed74b6",
   "metadata": {},
   "source": [
    "#### C)"
   ]
  },
  {
   "cell_type": "code",
   "execution_count": 19,
   "id": "adfdb312",
   "metadata": {},
   "outputs": [
    {
     "data": {
      "text/plain": [
       "CURITIBA             3945\n",
       "BRASILIA             3784\n",
       "SAO JOSE             3398\n",
       "GUARULHOS            3052\n",
       "BETIM                2741\n",
       "                     ... \n",
       "SAO FERNANDO            1\n",
       "SAO BENTINHO            1\n",
       "MOGI DAS CRUZES         1\n",
       "CUNHA                   1\n",
       "CAJUEIRO DA PRAIA       1\n",
       "Name: municipio, Length: 1782, dtype: int64"
      ]
     },
     "execution_count": 19,
     "metadata": {},
     "output_type": "execute_result"
    }
   ],
   "source": [
    "df2018['municipio'].value_counts()"
   ]
  },
  {
   "cell_type": "markdown",
   "id": "ba9373e6",
   "metadata": {},
   "source": [
    "Em 2018 os municipios com mais acidentes foram, Curitiba com 3945 acidentes, Brasilia com 3784, São José com 3398, Guarulhos 3052 e Betim com 2741 acidentes. "
   ]
  },
  {
   "cell_type": "code",
   "execution_count": 20,
   "id": "dc3a2831",
   "metadata": {},
   "outputs": [
    {
     "data": {
      "text/plain": [
       "BRASILIA            5274\n",
       "CURITIBA            4622\n",
       "SAO JOSE            3693\n",
       "GUARULHOS           3477\n",
       "FORTALEZA           2523\n",
       "                    ... \n",
       "PEDRO LEOPOLDO         1\n",
       "PEDRAS DE FOGO         1\n",
       "PRADO                  1\n",
       "FRANCISCO MACEDO       1\n",
       "PLACAS                 1\n",
       "Name: municipio, Length: 1767, dtype: int64"
      ]
     },
     "execution_count": 20,
     "metadata": {},
     "output_type": "execute_result"
    }
   ],
   "source": [
    "df2019['municipio'].value_counts()"
   ]
  },
  {
   "cell_type": "markdown",
   "id": "c9d3816e",
   "metadata": {},
   "source": [
    "Em 2019 os municipios com mais acidentes foram, Brasilia com 5274 acidentes, Curitiba com 4622, São José com 3693, Guarulhos 3477 e Fortaleza com 2523 acidentes. "
   ]
  },
  {
   "cell_type": "code",
   "execution_count": 21,
   "id": "21298d1d",
   "metadata": {},
   "outputs": [
    {
     "data": {
      "text/plain": [
       "BRASILIA                6688\n",
       "CURITIBA                4919\n",
       "PORTO VELHO             4435\n",
       "GUARULHOS               4223\n",
       "BETIM                   3934\n",
       "                        ... \n",
       "SALVADOR DAS MISSOES       1\n",
       "ALCOBACA                   1\n",
       "SERTAO                     1\n",
       "URANDI                     1\n",
       "VICENTINA                  1\n",
       "Name: municipio, Length: 1789, dtype: int64"
      ]
     },
     "execution_count": 21,
     "metadata": {},
     "output_type": "execute_result"
    }
   ],
   "source": [
    "df20['municipio'].value_counts()"
   ]
  },
  {
   "cell_type": "markdown",
   "id": "c757959b",
   "metadata": {},
   "source": [
    "Em 2020 os municipios com mais acidentes foram, Brasilia com 6688 acidentes, Curitiba com 4919, Porto Velho com 4435, Guarulhos 4223 e Betim com 3934 acidentes. "
   ]
  },
  {
   "cell_type": "markdown",
   "id": "99a64006",
   "metadata": {},
   "source": [
    "#### D)"
   ]
  },
  {
   "cell_type": "code",
   "execution_count": 22,
   "id": "1cf961c1",
   "metadata": {},
   "outputs": [
    {
     "data": {
      "text/plain": [
       "1123"
      ]
     },
     "execution_count": 22,
     "metadata": {},
     "output_type": "execute_result"
    }
   ],
   "source": [
    "df2019['feridos_graves'][(df2019['estado_fisico'] == 'Lesões Graves') & (df2019['uf'] == 'PB')].count()"
   ]
  },
  {
   "cell_type": "markdown",
   "id": "d2cf6913",
   "metadata": {},
   "source": [
    "Na Paraíba tiveram o total de 1123 acidentes com lesões graves."
   ]
  },
  {
   "cell_type": "markdown",
   "id": "6bf819fb",
   "metadata": {},
   "source": [
    "### <center> Tarefa 3 </center>"
   ]
  },
  {
   "cell_type": "markdown",
   "id": "a292bf84",
   "metadata": {},
   "source": [
    "#### A)"
   ]
  },
  {
   "cell_type": "markdown",
   "id": "bad70ce6",
   "metadata": {},
   "source": [
    "Primeiro fiz a função dos estados de todos os anos."
   ]
  },
  {
   "cell_type": "code",
   "execution_count": 23,
   "id": "8e0dec39",
   "metadata": {},
   "outputs": [],
   "source": [
    "estados = pd.concat([df2018[['uf']], df2019[['uf']], df20[['uf']]])"
   ]
  },
  {
   "cell_type": "code",
   "execution_count": 24,
   "id": "98748317",
   "metadata": {},
   "outputs": [
    {
     "data": {
      "text/plain": [
       "uf\n",
       "MG    146963\n",
       "PR    118735\n",
       "SC    101854\n",
       "RS     74589\n",
       "SP     68387\n",
       "GO     58570\n",
       "BA     55478\n",
       "RJ     54203\n",
       "MT     42913\n",
       "PE     35702\n",
       "RO     32903\n",
       "MS     31569\n",
       "ES     31041\n",
       "CE     28329\n",
       "PB     26449\n",
       "MA     22820\n",
       "PI     21952\n",
       "PA     20254\n",
       "RN     17763\n",
       "DF     15746\n",
       "TO     12824\n",
       "AL      9050\n",
       "SE      8845\n",
       "RR      3936\n",
       "AC      3708\n",
       "AM      3459\n",
       "AP      2915\n",
       "dtype: int64"
      ]
     },
     "execution_count": 24,
     "metadata": {},
     "output_type": "execute_result"
    }
   ],
   "source": [
    "estados.value_counts()"
   ]
  },
  {
   "cell_type": "markdown",
   "id": "d4f926f0",
   "metadata": {},
   "source": [
    "Depois, usei o metodo value_counts(), para saber a ocorrencia em cada estado e colocar em ordem "
   ]
  },
  {
   "cell_type": "code",
   "execution_count": 43,
   "id": "a24af7ea",
   "metadata": {},
   "outputs": [],
   "source": [
    "estados.to_csv('estados.csv')"
   ]
  },
  {
   "cell_type": "markdown",
   "id": "81c87dca",
   "metadata": {},
   "source": [
    "Tranformei o df de estados para csv."
   ]
  },
  {
   "cell_type": "markdown",
   "id": "9dba5b83",
   "metadata": {},
   "source": [
    "#### B)"
   ]
  },
  {
   "cell_type": "markdown",
   "id": "ab420477",
   "metadata": {},
   "source": [
    "Primeiro vou fazer a junção dos 3 anos para um unico dataframe."
   ]
  },
  {
   "cell_type": "code",
   "execution_count": 26,
   "id": "4a090f65",
   "metadata": {},
   "outputs": [],
   "source": [
    "anos = pd.concat([df2018, df2019, df20], ignore_index = True)"
   ]
  },
  {
   "cell_type": "markdown",
   "id": "3e8ca13c",
   "metadata": {},
   "source": [
    "Depois, fiz o ranking do dia da semana de cada ano."
   ]
  },
  {
   "cell_type": "code",
   "execution_count": 27,
   "id": "060bc2bc",
   "metadata": {},
   "outputs": [
    {
     "data": {
      "text/plain": [
       "sábado           55378\n",
       "domingo          54759\n",
       "sexta-feira      49438\n",
       "segunda-feira    42716\n",
       "quinta-feira     42194\n",
       "quarta-feira     40232\n",
       "terça-feira      40092\n",
       "Name: dia_semana, dtype: int64"
      ]
     },
     "execution_count": 27,
     "metadata": {},
     "output_type": "execute_result"
    }
   ],
   "source": [
    "df2018['dia_semana'].value_counts()"
   ]
  },
  {
   "cell_type": "code",
   "execution_count": 28,
   "id": "023d1e39",
   "metadata": {},
   "outputs": [
    {
     "data": {
      "text/plain": [
       "domingo          57096\n",
       "sábado           55706\n",
       "sexta-feira      51667\n",
       "segunda-feira    43146\n",
       "quinta-feira     42844\n",
       "quarta-feira     40702\n",
       "terça-feira      40505\n",
       "Name: dia_semana, dtype: int64"
      ]
     },
     "execution_count": 28,
     "metadata": {},
     "output_type": "execute_result"
    }
   ],
   "source": [
    "df2019['dia_semana'].value_counts()"
   ]
  },
  {
   "cell_type": "code",
   "execution_count": 29,
   "id": "37579ed2",
   "metadata": {},
   "outputs": [
    {
     "data": {
      "text/plain": [
       "domingo         68317\n",
       "sábado          67187\n",
       "sexta-feira     62075\n",
       "segunda         51911\n",
       "quinta-feira    49776\n",
       "quarta-feira    48683\n",
       "terça-feira     46533\n",
       "Name: dia_semana, dtype: int64"
      ]
     },
     "execution_count": 29,
     "metadata": {},
     "output_type": "execute_result"
    }
   ],
   "source": [
    "df20['dia_semana'].value_counts()"
   ]
  },
  {
   "cell_type": "markdown",
   "id": "f5c69bc5",
   "metadata": {},
   "source": [
    "E por fim, fiz o ranking dos 3 anos."
   ]
  },
  {
   "cell_type": "code",
   "execution_count": 30,
   "id": "c13d50c9",
   "metadata": {},
   "outputs": [],
   "source": [
    "rankingtotal = anos['dia_semana'].value_counts()"
   ]
  },
  {
   "cell_type": "code",
   "execution_count": 31,
   "id": "b97080af",
   "metadata": {},
   "outputs": [
    {
     "data": {
      "text/plain": [
       "domingo          180172\n",
       "sábado           178271\n",
       "sexta-feira      163180\n",
       "quinta-feira     134814\n",
       "quarta-feira     129617\n",
       "terça-feira      127130\n",
       "segunda-feira     85862\n",
       "segunda           51911\n",
       "Name: dia_semana, dtype: int64"
      ]
     },
     "execution_count": 31,
     "metadata": {},
     "output_type": "execute_result"
    }
   ],
   "source": [
    "rankingtotal"
   ]
  },
  {
   "cell_type": "markdown",
   "id": "b8a58132",
   "metadata": {},
   "source": [
    "Transformei o rankingtotal em csv."
   ]
  },
  {
   "cell_type": "code",
   "execution_count": 44,
   "id": "7d21510d",
   "metadata": {},
   "outputs": [],
   "source": [
    "rankingtotal.to_csv('rankingtotal.csv')"
   ]
  },
  {
   "cell_type": "markdown",
   "id": "2f2d75e0",
   "metadata": {},
   "source": [
    "### <center> Tarefa 4 </center>"
   ]
  },
  {
   "cell_type": "markdown",
   "id": "c755cb86",
   "metadata": {},
   "source": [
    "#### A)"
   ]
  },
  {
   "cell_type": "code",
   "execution_count": 33,
   "id": "d2b592c7",
   "metadata": {},
   "outputs": [],
   "source": [
    "maisOcorrido = anos['causa_acidente']"
   ]
  },
  {
   "cell_type": "code",
   "execution_count": 34,
   "id": "1c0483e5",
   "metadata": {},
   "outputs": [
    {
     "data": {
      "text/plain": [
       "Falta de Atenção à Condução                                       337949\n",
       "Desobediência às normas de trânsito pelo condutor                 142169\n",
       "Velocidade Incompatível                                           127360\n",
       "Não guardar distância de segurança                                 81560\n",
       "Ingestão de Álcool                                                 70466\n",
       "                                                                   ...  \n",
       "Pista em desnível                                                      3\n",
       "Ingestão de álcool ou de substâncias psicoativas pelo pedestre         2\n",
       "Problema com o freio                                                   2\n",
       "Demais Fenômenos da natureza                                           2\n",
       "Fumaça                                                                 2\n",
       "Name: causa_acidente, Length: 67, dtype: int64"
      ]
     },
     "execution_count": 34,
     "metadata": {},
     "output_type": "execute_result"
    }
   ],
   "source": [
    "maisOcorrido.value_counts()"
   ]
  },
  {
   "cell_type": "markdown",
   "id": "d5fd84b8",
   "metadata": {},
   "source": [
    "A causa mais frequente dos 3 anos juntos foi ***FALTA DE ATENÇÃO À CONDUÇÃO*** e as formas de acidente mais rara foram ***Ingestão de álcool ou de substâncias psicoativas pelo pedestre, Demais Fenômenos da natureza, Fumaça e Problema com o freio.***"
   ]
  },
  {
   "cell_type": "markdown",
   "id": "d392de2d",
   "metadata": {},
   "source": [
    "#### B)"
   ]
  },
  {
   "cell_type": "code",
   "execution_count": 35,
   "id": "9a9f41a1",
   "metadata": {},
   "outputs": [
    {
     "data": {
      "text/plain": [
       "ilesos  feridos_graves\n",
       "0       0                 165938\n",
       "1       0                 125209\n",
       "0       1                  33662\n",
       "dtype: int64"
      ]
     },
     "execution_count": 35,
     "metadata": {},
     "output_type": "execute_result"
    }
   ],
   "source": [
    "df2018[['ilesos', 'feridos_graves']].value_counts()\n"
   ]
  },
  {
   "cell_type": "code",
   "execution_count": 36,
   "id": "e69f3893",
   "metadata": {},
   "outputs": [
    {
     "data": {
      "text/plain": [
       "324809"
      ]
     },
     "execution_count": 36,
     "metadata": {},
     "output_type": "execute_result"
    }
   ],
   "source": [
    "len(df2018)"
   ]
  },
  {
   "cell_type": "markdown",
   "id": "a3387023",
   "metadata": {},
   "source": [
    "A proporção de pessoas **ilesas** foi de:"
   ]
  },
  {
   "cell_type": "code",
   "execution_count": 37,
   "id": "c7a29c64",
   "metadata": {},
   "outputs": [
    {
     "data": {
      "text/plain": [
       "0.38548500811245995"
      ]
     },
     "execution_count": 37,
     "metadata": {},
     "output_type": "execute_result"
    }
   ],
   "source": [
    "125209/324809"
   ]
  },
  {
   "cell_type": "markdown",
   "id": "1098a71e",
   "metadata": {},
   "source": [
    "Com o value_counts() consegui o numero de feridos graves e os ilesos. Já com o len() consegui o numero total de acidentes.\n",
    "A proporção de ilesos é de 0.38548500811245995 ou aproximadamente 38,54%"
   ]
  },
  {
   "cell_type": "code",
   "execution_count": 38,
   "id": "402b33d7",
   "metadata": {},
   "outputs": [
    {
     "data": {
      "text/plain": [
       "0.10363629086632452"
      ]
     },
     "execution_count": 38,
     "metadata": {},
     "output_type": "execute_result"
    }
   ],
   "source": [
    "33662/324809"
   ]
  },
  {
   "cell_type": "markdown",
   "id": "1c2671e2",
   "metadata": {},
   "source": [
    "A proporção de feridos graves é de 0.10363629086632452 ou aproximadamente 10,36%"
   ]
  },
  {
   "cell_type": "code",
   "execution_count": null,
   "id": "6900f0c1",
   "metadata": {},
   "outputs": [],
   "source": []
  }
 ],
 "metadata": {
  "kernelspec": {
   "display_name": "Python 3.9.13 64-bit (microsoft store)",
   "language": "python",
   "name": "python3"
  },
  "language_info": {
   "codemirror_mode": {
    "name": "ipython",
    "version": 3
   },
   "file_extension": ".py",
   "mimetype": "text/x-python",
   "name": "python",
   "nbconvert_exporter": "python",
   "pygments_lexer": "ipython3",
   "version": "3.9.13"
  },
  "vscode": {
   "interpreter": {
    "hash": "92620262f98eb96ff24517672e5d9b221ba493f2b65aa91b9dc2340200823c7f"
   }
  }
 },
 "nbformat": 4,
 "nbformat_minor": 5
}
