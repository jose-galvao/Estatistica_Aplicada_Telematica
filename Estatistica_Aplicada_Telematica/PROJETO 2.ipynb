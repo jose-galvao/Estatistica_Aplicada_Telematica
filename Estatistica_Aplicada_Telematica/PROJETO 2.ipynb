{
 "cells": [
  {
   "cell_type": "markdown",
   "id": "bc0e720d-677d-4ff3-929f-9a6b8e69d264",
   "metadata": {},
   "source": [
    "# <center> ESTATÍSTICA APLICADA </center>"
   ]
  },
  {
   "cell_type": "markdown",
   "id": "6a738c69-045b-4c17-a428-4de70fa39f7f",
   "metadata": {},
   "source": [
    "# <center>  Projeto 2 </center>"
   ]
  },
  {
   "cell_type": "markdown",
   "id": "cfa552ee-78a0-4a3e-a291-c91f169585ce",
   "metadata": {},
   "source": [
    "# <center>  José Silvestre da Silva Galvão </center>"
   ]
  },
  {
   "cell_type": "code",
   "execution_count": 1,
   "id": "bdccc644",
   "metadata": {},
   "outputs": [],
   "source": [
    "import pandas as pd\n",
    "import numpy as np\n",
    "import matplotlib.pyplot as plt\n",
    "import math\n",
    "import seaborn as sns"
   ]
  },
  {
   "cell_type": "code",
   "execution_count": 2,
   "id": "aaa198f8",
   "metadata": {},
   "outputs": [
    {
     "data": {
      "text/html": [
       "<div>\n",
       "<style scoped>\n",
       "    .dataframe tbody tr th:only-of-type {\n",
       "        vertical-align: middle;\n",
       "    }\n",
       "\n",
       "    .dataframe tbody tr th {\n",
       "        vertical-align: top;\n",
       "    }\n",
       "\n",
       "    .dataframe thead th {\n",
       "        text-align: right;\n",
       "    }\n",
       "</style>\n",
       "<table border=\"1\" class=\"dataframe\">\n",
       "  <thead>\n",
       "    <tr style=\"text-align: right;\">\n",
       "      <th></th>\n",
       "      <th>state</th>\n",
       "      <th>stop_date</th>\n",
       "      <th>stop_time</th>\n",
       "      <th>county_name</th>\n",
       "      <th>driver_gender</th>\n",
       "      <th>driver_race</th>\n",
       "      <th>violation_raw</th>\n",
       "      <th>violation</th>\n",
       "      <th>search_conducted</th>\n",
       "      <th>search_type</th>\n",
       "      <th>stop_outcome</th>\n",
       "      <th>is_arrested</th>\n",
       "      <th>stop_duration</th>\n",
       "      <th>drugs_related_stop</th>\n",
       "      <th>district</th>\n",
       "    </tr>\n",
       "  </thead>\n",
       "  <tbody>\n",
       "    <tr>\n",
       "      <th>0</th>\n",
       "      <td>RI</td>\n",
       "      <td>2005-01-04</td>\n",
       "      <td>12:55</td>\n",
       "      <td>NaN</td>\n",
       "      <td>M</td>\n",
       "      <td>White</td>\n",
       "      <td>Equipment/Inspection Violation</td>\n",
       "      <td>Equipment</td>\n",
       "      <td>False</td>\n",
       "      <td>NaN</td>\n",
       "      <td>Citation</td>\n",
       "      <td>False</td>\n",
       "      <td>0-15 Min</td>\n",
       "      <td>False</td>\n",
       "      <td>Zone X4</td>\n",
       "    </tr>\n",
       "    <tr>\n",
       "      <th>1</th>\n",
       "      <td>RI</td>\n",
       "      <td>2005-01-23</td>\n",
       "      <td>23:15</td>\n",
       "      <td>NaN</td>\n",
       "      <td>M</td>\n",
       "      <td>White</td>\n",
       "      <td>Speeding</td>\n",
       "      <td>Speeding</td>\n",
       "      <td>False</td>\n",
       "      <td>NaN</td>\n",
       "      <td>Citation</td>\n",
       "      <td>False</td>\n",
       "      <td>0-15 Min</td>\n",
       "      <td>False</td>\n",
       "      <td>Zone K3</td>\n",
       "    </tr>\n",
       "    <tr>\n",
       "      <th>2</th>\n",
       "      <td>RI</td>\n",
       "      <td>2005-02-17</td>\n",
       "      <td>04:15</td>\n",
       "      <td>NaN</td>\n",
       "      <td>M</td>\n",
       "      <td>White</td>\n",
       "      <td>Speeding</td>\n",
       "      <td>Speeding</td>\n",
       "      <td>False</td>\n",
       "      <td>NaN</td>\n",
       "      <td>Citation</td>\n",
       "      <td>False</td>\n",
       "      <td>0-15 Min</td>\n",
       "      <td>False</td>\n",
       "      <td>Zone X4</td>\n",
       "    </tr>\n",
       "    <tr>\n",
       "      <th>3</th>\n",
       "      <td>RI</td>\n",
       "      <td>2005-02-20</td>\n",
       "      <td>17:15</td>\n",
       "      <td>NaN</td>\n",
       "      <td>M</td>\n",
       "      <td>White</td>\n",
       "      <td>Call for Service</td>\n",
       "      <td>Other</td>\n",
       "      <td>False</td>\n",
       "      <td>NaN</td>\n",
       "      <td>Arrest Driver</td>\n",
       "      <td>True</td>\n",
       "      <td>16-30 Min</td>\n",
       "      <td>False</td>\n",
       "      <td>Zone X1</td>\n",
       "    </tr>\n",
       "    <tr>\n",
       "      <th>4</th>\n",
       "      <td>RI</td>\n",
       "      <td>2005-02-24</td>\n",
       "      <td>01:20</td>\n",
       "      <td>NaN</td>\n",
       "      <td>F</td>\n",
       "      <td>White</td>\n",
       "      <td>Speeding</td>\n",
       "      <td>Speeding</td>\n",
       "      <td>False</td>\n",
       "      <td>NaN</td>\n",
       "      <td>Citation</td>\n",
       "      <td>False</td>\n",
       "      <td>0-15 Min</td>\n",
       "      <td>False</td>\n",
       "      <td>Zone X3</td>\n",
       "    </tr>\n",
       "    <tr>\n",
       "      <th>...</th>\n",
       "      <td>...</td>\n",
       "      <td>...</td>\n",
       "      <td>...</td>\n",
       "      <td>...</td>\n",
       "      <td>...</td>\n",
       "      <td>...</td>\n",
       "      <td>...</td>\n",
       "      <td>...</td>\n",
       "      <td>...</td>\n",
       "      <td>...</td>\n",
       "      <td>...</td>\n",
       "      <td>...</td>\n",
       "      <td>...</td>\n",
       "      <td>...</td>\n",
       "      <td>...</td>\n",
       "    </tr>\n",
       "    <tr>\n",
       "      <th>91736</th>\n",
       "      <td>RI</td>\n",
       "      <td>2015-12-31</td>\n",
       "      <td>21:21</td>\n",
       "      <td>NaN</td>\n",
       "      <td>F</td>\n",
       "      <td>Black</td>\n",
       "      <td>Other Traffic Violation</td>\n",
       "      <td>Moving violation</td>\n",
       "      <td>False</td>\n",
       "      <td>NaN</td>\n",
       "      <td>Citation</td>\n",
       "      <td>False</td>\n",
       "      <td>0-15 Min</td>\n",
       "      <td>False</td>\n",
       "      <td>Zone K2</td>\n",
       "    </tr>\n",
       "    <tr>\n",
       "      <th>91737</th>\n",
       "      <td>RI</td>\n",
       "      <td>2015-12-31</td>\n",
       "      <td>21:59</td>\n",
       "      <td>NaN</td>\n",
       "      <td>F</td>\n",
       "      <td>White</td>\n",
       "      <td>Speeding</td>\n",
       "      <td>Speeding</td>\n",
       "      <td>False</td>\n",
       "      <td>NaN</td>\n",
       "      <td>Citation</td>\n",
       "      <td>False</td>\n",
       "      <td>0-15 Min</td>\n",
       "      <td>False</td>\n",
       "      <td>Zone K3</td>\n",
       "    </tr>\n",
       "    <tr>\n",
       "      <th>91738</th>\n",
       "      <td>RI</td>\n",
       "      <td>2015-12-31</td>\n",
       "      <td>22:04</td>\n",
       "      <td>NaN</td>\n",
       "      <td>M</td>\n",
       "      <td>White</td>\n",
       "      <td>Other Traffic Violation</td>\n",
       "      <td>Moving violation</td>\n",
       "      <td>False</td>\n",
       "      <td>NaN</td>\n",
       "      <td>Citation</td>\n",
       "      <td>False</td>\n",
       "      <td>0-15 Min</td>\n",
       "      <td>False</td>\n",
       "      <td>Zone X3</td>\n",
       "    </tr>\n",
       "    <tr>\n",
       "      <th>91739</th>\n",
       "      <td>RI</td>\n",
       "      <td>2015-12-31</td>\n",
       "      <td>22:09</td>\n",
       "      <td>NaN</td>\n",
       "      <td>F</td>\n",
       "      <td>Hispanic</td>\n",
       "      <td>Equipment/Inspection Violation</td>\n",
       "      <td>Equipment</td>\n",
       "      <td>False</td>\n",
       "      <td>NaN</td>\n",
       "      <td>Warning</td>\n",
       "      <td>False</td>\n",
       "      <td>0-15 Min</td>\n",
       "      <td>False</td>\n",
       "      <td>Zone K3</td>\n",
       "    </tr>\n",
       "    <tr>\n",
       "      <th>91740</th>\n",
       "      <td>RI</td>\n",
       "      <td>2015-12-31</td>\n",
       "      <td>22:47</td>\n",
       "      <td>NaN</td>\n",
       "      <td>M</td>\n",
       "      <td>White</td>\n",
       "      <td>Registration Violation</td>\n",
       "      <td>Registration/plates</td>\n",
       "      <td>False</td>\n",
       "      <td>NaN</td>\n",
       "      <td>Citation</td>\n",
       "      <td>False</td>\n",
       "      <td>0-15 Min</td>\n",
       "      <td>False</td>\n",
       "      <td>Zone X4</td>\n",
       "    </tr>\n",
       "  </tbody>\n",
       "</table>\n",
       "<p>91741 rows × 15 columns</p>\n",
       "</div>"
      ],
      "text/plain": [
       "      state   stop_date stop_time  county_name driver_gender driver_race  \\\n",
       "0        RI  2005-01-04     12:55          NaN             M       White   \n",
       "1        RI  2005-01-23     23:15          NaN             M       White   \n",
       "2        RI  2005-02-17     04:15          NaN             M       White   \n",
       "3        RI  2005-02-20     17:15          NaN             M       White   \n",
       "4        RI  2005-02-24     01:20          NaN             F       White   \n",
       "...     ...         ...       ...          ...           ...         ...   \n",
       "91736    RI  2015-12-31     21:21          NaN             F       Black   \n",
       "91737    RI  2015-12-31     21:59          NaN             F       White   \n",
       "91738    RI  2015-12-31     22:04          NaN             M       White   \n",
       "91739    RI  2015-12-31     22:09          NaN             F    Hispanic   \n",
       "91740    RI  2015-12-31     22:47          NaN             M       White   \n",
       "\n",
       "                        violation_raw            violation  search_conducted  \\\n",
       "0      Equipment/Inspection Violation            Equipment             False   \n",
       "1                            Speeding             Speeding             False   \n",
       "2                            Speeding             Speeding             False   \n",
       "3                    Call for Service                Other             False   \n",
       "4                            Speeding             Speeding             False   \n",
       "...                               ...                  ...               ...   \n",
       "91736         Other Traffic Violation     Moving violation             False   \n",
       "91737                        Speeding             Speeding             False   \n",
       "91738         Other Traffic Violation     Moving violation             False   \n",
       "91739  Equipment/Inspection Violation            Equipment             False   \n",
       "91740          Registration Violation  Registration/plates             False   \n",
       "\n",
       "      search_type   stop_outcome is_arrested stop_duration  \\\n",
       "0             NaN       Citation       False      0-15 Min   \n",
       "1             NaN       Citation       False      0-15 Min   \n",
       "2             NaN       Citation       False      0-15 Min   \n",
       "3             NaN  Arrest Driver        True     16-30 Min   \n",
       "4             NaN       Citation       False      0-15 Min   \n",
       "...           ...            ...         ...           ...   \n",
       "91736         NaN       Citation       False      0-15 Min   \n",
       "91737         NaN       Citation       False      0-15 Min   \n",
       "91738         NaN       Citation       False      0-15 Min   \n",
       "91739         NaN        Warning       False      0-15 Min   \n",
       "91740         NaN       Citation       False      0-15 Min   \n",
       "\n",
       "       drugs_related_stop district  \n",
       "0                   False  Zone X4  \n",
       "1                   False  Zone K3  \n",
       "2                   False  Zone X4  \n",
       "3                   False  Zone X1  \n",
       "4                   False  Zone X3  \n",
       "...                   ...      ...  \n",
       "91736               False  Zone K2  \n",
       "91737               False  Zone K3  \n",
       "91738               False  Zone X3  \n",
       "91739               False  Zone K3  \n",
       "91740               False  Zone X4  \n",
       "\n",
       "[91741 rows x 15 columns]"
      ]
     },
     "execution_count": 2,
     "metadata": {},
     "output_type": "execute_result"
    }
   ],
   "source": [
    "df_police = pd.read_csv(\"C:/Users/joses/Dropbox/PC/Downloads/police.csv\", encoding='unicode_escape')\n",
    "df_police\n"
   ]
  },
  {
   "cell_type": "code",
   "execution_count": 3,
   "id": "7fa98f6b",
   "metadata": {},
   "outputs": [
    {
     "data": {
      "text/html": [
       "<div>\n",
       "<style scoped>\n",
       "    .dataframe tbody tr th:only-of-type {\n",
       "        vertical-align: middle;\n",
       "    }\n",
       "\n",
       "    .dataframe tbody tr th {\n",
       "        vertical-align: top;\n",
       "    }\n",
       "\n",
       "    .dataframe thead th {\n",
       "        text-align: right;\n",
       "    }\n",
       "</style>\n",
       "<table border=\"1\" class=\"dataframe\">\n",
       "  <thead>\n",
       "    <tr style=\"text-align: right;\">\n",
       "      <th></th>\n",
       "      <th>STATION</th>\n",
       "      <th>DATE</th>\n",
       "      <th>TAVG</th>\n",
       "      <th>TMIN</th>\n",
       "      <th>TMAX</th>\n",
       "      <th>AWND</th>\n",
       "      <th>WSF2</th>\n",
       "      <th>WT01</th>\n",
       "      <th>WT02</th>\n",
       "      <th>WT03</th>\n",
       "      <th>...</th>\n",
       "      <th>WT11</th>\n",
       "      <th>WT13</th>\n",
       "      <th>WT14</th>\n",
       "      <th>WT15</th>\n",
       "      <th>WT16</th>\n",
       "      <th>WT17</th>\n",
       "      <th>WT18</th>\n",
       "      <th>WT19</th>\n",
       "      <th>WT21</th>\n",
       "      <th>WT22</th>\n",
       "    </tr>\n",
       "  </thead>\n",
       "  <tbody>\n",
       "    <tr>\n",
       "      <th>0</th>\n",
       "      <td>USW00014765</td>\n",
       "      <td>2005-01-01</td>\n",
       "      <td>44.0</td>\n",
       "      <td>35</td>\n",
       "      <td>53</td>\n",
       "      <td>8.95</td>\n",
       "      <td>25.1</td>\n",
       "      <td>1.0</td>\n",
       "      <td>NaN</td>\n",
       "      <td>NaN</td>\n",
       "      <td>...</td>\n",
       "      <td>NaN</td>\n",
       "      <td>1.0</td>\n",
       "      <td>NaN</td>\n",
       "      <td>NaN</td>\n",
       "      <td>NaN</td>\n",
       "      <td>NaN</td>\n",
       "      <td>NaN</td>\n",
       "      <td>NaN</td>\n",
       "      <td>NaN</td>\n",
       "      <td>NaN</td>\n",
       "    </tr>\n",
       "    <tr>\n",
       "      <th>1</th>\n",
       "      <td>USW00014765</td>\n",
       "      <td>2005-01-02</td>\n",
       "      <td>36.0</td>\n",
       "      <td>28</td>\n",
       "      <td>44</td>\n",
       "      <td>9.40</td>\n",
       "      <td>14.1</td>\n",
       "      <td>NaN</td>\n",
       "      <td>NaN</td>\n",
       "      <td>NaN</td>\n",
       "      <td>...</td>\n",
       "      <td>NaN</td>\n",
       "      <td>NaN</td>\n",
       "      <td>NaN</td>\n",
       "      <td>NaN</td>\n",
       "      <td>1.0</td>\n",
       "      <td>NaN</td>\n",
       "      <td>1.0</td>\n",
       "      <td>NaN</td>\n",
       "      <td>NaN</td>\n",
       "      <td>NaN</td>\n",
       "    </tr>\n",
       "    <tr>\n",
       "      <th>2</th>\n",
       "      <td>USW00014765</td>\n",
       "      <td>2005-01-03</td>\n",
       "      <td>49.0</td>\n",
       "      <td>44</td>\n",
       "      <td>53</td>\n",
       "      <td>6.93</td>\n",
       "      <td>17.0</td>\n",
       "      <td>1.0</td>\n",
       "      <td>NaN</td>\n",
       "      <td>NaN</td>\n",
       "      <td>...</td>\n",
       "      <td>NaN</td>\n",
       "      <td>1.0</td>\n",
       "      <td>NaN</td>\n",
       "      <td>NaN</td>\n",
       "      <td>1.0</td>\n",
       "      <td>NaN</td>\n",
       "      <td>NaN</td>\n",
       "      <td>NaN</td>\n",
       "      <td>NaN</td>\n",
       "      <td>NaN</td>\n",
       "    </tr>\n",
       "    <tr>\n",
       "      <th>3</th>\n",
       "      <td>USW00014765</td>\n",
       "      <td>2005-01-04</td>\n",
       "      <td>42.0</td>\n",
       "      <td>39</td>\n",
       "      <td>45</td>\n",
       "      <td>6.93</td>\n",
       "      <td>16.1</td>\n",
       "      <td>1.0</td>\n",
       "      <td>NaN</td>\n",
       "      <td>NaN</td>\n",
       "      <td>...</td>\n",
       "      <td>NaN</td>\n",
       "      <td>1.0</td>\n",
       "      <td>1.0</td>\n",
       "      <td>NaN</td>\n",
       "      <td>1.0</td>\n",
       "      <td>NaN</td>\n",
       "      <td>NaN</td>\n",
       "      <td>NaN</td>\n",
       "      <td>NaN</td>\n",
       "      <td>NaN</td>\n",
       "    </tr>\n",
       "    <tr>\n",
       "      <th>4</th>\n",
       "      <td>USW00014765</td>\n",
       "      <td>2005-01-05</td>\n",
       "      <td>36.0</td>\n",
       "      <td>28</td>\n",
       "      <td>43</td>\n",
       "      <td>7.83</td>\n",
       "      <td>17.0</td>\n",
       "      <td>1.0</td>\n",
       "      <td>NaN</td>\n",
       "      <td>NaN</td>\n",
       "      <td>...</td>\n",
       "      <td>NaN</td>\n",
       "      <td>1.0</td>\n",
       "      <td>NaN</td>\n",
       "      <td>NaN</td>\n",
       "      <td>1.0</td>\n",
       "      <td>NaN</td>\n",
       "      <td>1.0</td>\n",
       "      <td>NaN</td>\n",
       "      <td>NaN</td>\n",
       "      <td>NaN</td>\n",
       "    </tr>\n",
       "    <tr>\n",
       "      <th>...</th>\n",
       "      <td>...</td>\n",
       "      <td>...</td>\n",
       "      <td>...</td>\n",
       "      <td>...</td>\n",
       "      <td>...</td>\n",
       "      <td>...</td>\n",
       "      <td>...</td>\n",
       "      <td>...</td>\n",
       "      <td>...</td>\n",
       "      <td>...</td>\n",
       "      <td>...</td>\n",
       "      <td>...</td>\n",
       "      <td>...</td>\n",
       "      <td>...</td>\n",
       "      <td>...</td>\n",
       "      <td>...</td>\n",
       "      <td>...</td>\n",
       "      <td>...</td>\n",
       "      <td>...</td>\n",
       "      <td>...</td>\n",
       "      <td>...</td>\n",
       "    </tr>\n",
       "    <tr>\n",
       "      <th>4012</th>\n",
       "      <td>USW00014765</td>\n",
       "      <td>2015-12-27</td>\n",
       "      <td>51.0</td>\n",
       "      <td>44</td>\n",
       "      <td>61</td>\n",
       "      <td>9.17</td>\n",
       "      <td>28.0</td>\n",
       "      <td>1.0</td>\n",
       "      <td>NaN</td>\n",
       "      <td>NaN</td>\n",
       "      <td>...</td>\n",
       "      <td>NaN</td>\n",
       "      <td>NaN</td>\n",
       "      <td>NaN</td>\n",
       "      <td>NaN</td>\n",
       "      <td>NaN</td>\n",
       "      <td>NaN</td>\n",
       "      <td>NaN</td>\n",
       "      <td>NaN</td>\n",
       "      <td>NaN</td>\n",
       "      <td>NaN</td>\n",
       "    </tr>\n",
       "    <tr>\n",
       "      <th>4013</th>\n",
       "      <td>USW00014765</td>\n",
       "      <td>2015-12-28</td>\n",
       "      <td>40.0</td>\n",
       "      <td>30</td>\n",
       "      <td>44</td>\n",
       "      <td>12.30</td>\n",
       "      <td>23.0</td>\n",
       "      <td>NaN</td>\n",
       "      <td>NaN</td>\n",
       "      <td>NaN</td>\n",
       "      <td>...</td>\n",
       "      <td>NaN</td>\n",
       "      <td>NaN</td>\n",
       "      <td>NaN</td>\n",
       "      <td>NaN</td>\n",
       "      <td>NaN</td>\n",
       "      <td>NaN</td>\n",
       "      <td>NaN</td>\n",
       "      <td>NaN</td>\n",
       "      <td>NaN</td>\n",
       "      <td>NaN</td>\n",
       "    </tr>\n",
       "    <tr>\n",
       "      <th>4014</th>\n",
       "      <td>USW00014765</td>\n",
       "      <td>2015-12-29</td>\n",
       "      <td>33.0</td>\n",
       "      <td>28</td>\n",
       "      <td>40</td>\n",
       "      <td>12.53</td>\n",
       "      <td>18.1</td>\n",
       "      <td>1.0</td>\n",
       "      <td>NaN</td>\n",
       "      <td>NaN</td>\n",
       "      <td>...</td>\n",
       "      <td>NaN</td>\n",
       "      <td>NaN</td>\n",
       "      <td>NaN</td>\n",
       "      <td>NaN</td>\n",
       "      <td>NaN</td>\n",
       "      <td>NaN</td>\n",
       "      <td>NaN</td>\n",
       "      <td>NaN</td>\n",
       "      <td>NaN</td>\n",
       "      <td>NaN</td>\n",
       "    </tr>\n",
       "    <tr>\n",
       "      <th>4015</th>\n",
       "      <td>USW00014765</td>\n",
       "      <td>2015-12-30</td>\n",
       "      <td>30.0</td>\n",
       "      <td>27</td>\n",
       "      <td>35</td>\n",
       "      <td>6.93</td>\n",
       "      <td>15.0</td>\n",
       "      <td>1.0</td>\n",
       "      <td>NaN</td>\n",
       "      <td>NaN</td>\n",
       "      <td>...</td>\n",
       "      <td>NaN</td>\n",
       "      <td>NaN</td>\n",
       "      <td>NaN</td>\n",
       "      <td>NaN</td>\n",
       "      <td>NaN</td>\n",
       "      <td>NaN</td>\n",
       "      <td>NaN</td>\n",
       "      <td>NaN</td>\n",
       "      <td>NaN</td>\n",
       "      <td>NaN</td>\n",
       "    </tr>\n",
       "    <tr>\n",
       "      <th>4016</th>\n",
       "      <td>USW00014765</td>\n",
       "      <td>2015-12-31</td>\n",
       "      <td>39.0</td>\n",
       "      <td>35</td>\n",
       "      <td>50</td>\n",
       "      <td>8.05</td>\n",
       "      <td>18.1</td>\n",
       "      <td>1.0</td>\n",
       "      <td>NaN</td>\n",
       "      <td>NaN</td>\n",
       "      <td>...</td>\n",
       "      <td>NaN</td>\n",
       "      <td>NaN</td>\n",
       "      <td>NaN</td>\n",
       "      <td>NaN</td>\n",
       "      <td>NaN</td>\n",
       "      <td>NaN</td>\n",
       "      <td>NaN</td>\n",
       "      <td>NaN</td>\n",
       "      <td>NaN</td>\n",
       "      <td>NaN</td>\n",
       "    </tr>\n",
       "  </tbody>\n",
       "</table>\n",
       "<p>4017 rows × 27 columns</p>\n",
       "</div>"
      ],
      "text/plain": [
       "          STATION        DATE  TAVG  TMIN  TMAX   AWND  WSF2  WT01  WT02  \\\n",
       "0     USW00014765  2005-01-01  44.0    35    53   8.95  25.1   1.0   NaN   \n",
       "1     USW00014765  2005-01-02  36.0    28    44   9.40  14.1   NaN   NaN   \n",
       "2     USW00014765  2005-01-03  49.0    44    53   6.93  17.0   1.0   NaN   \n",
       "3     USW00014765  2005-01-04  42.0    39    45   6.93  16.1   1.0   NaN   \n",
       "4     USW00014765  2005-01-05  36.0    28    43   7.83  17.0   1.0   NaN   \n",
       "...           ...         ...   ...   ...   ...    ...   ...   ...   ...   \n",
       "4012  USW00014765  2015-12-27  51.0    44    61   9.17  28.0   1.0   NaN   \n",
       "4013  USW00014765  2015-12-28  40.0    30    44  12.30  23.0   NaN   NaN   \n",
       "4014  USW00014765  2015-12-29  33.0    28    40  12.53  18.1   1.0   NaN   \n",
       "4015  USW00014765  2015-12-30  30.0    27    35   6.93  15.0   1.0   NaN   \n",
       "4016  USW00014765  2015-12-31  39.0    35    50   8.05  18.1   1.0   NaN   \n",
       "\n",
       "      WT03  ...  WT11  WT13  WT14  WT15  WT16  WT17  WT18  WT19  WT21  WT22  \n",
       "0      NaN  ...   NaN   1.0   NaN   NaN   NaN   NaN   NaN   NaN   NaN   NaN  \n",
       "1      NaN  ...   NaN   NaN   NaN   NaN   1.0   NaN   1.0   NaN   NaN   NaN  \n",
       "2      NaN  ...   NaN   1.0   NaN   NaN   1.0   NaN   NaN   NaN   NaN   NaN  \n",
       "3      NaN  ...   NaN   1.0   1.0   NaN   1.0   NaN   NaN   NaN   NaN   NaN  \n",
       "4      NaN  ...   NaN   1.0   NaN   NaN   1.0   NaN   1.0   NaN   NaN   NaN  \n",
       "...    ...  ...   ...   ...   ...   ...   ...   ...   ...   ...   ...   ...  \n",
       "4012   NaN  ...   NaN   NaN   NaN   NaN   NaN   NaN   NaN   NaN   NaN   NaN  \n",
       "4013   NaN  ...   NaN   NaN   NaN   NaN   NaN   NaN   NaN   NaN   NaN   NaN  \n",
       "4014   NaN  ...   NaN   NaN   NaN   NaN   NaN   NaN   NaN   NaN   NaN   NaN  \n",
       "4015   NaN  ...   NaN   NaN   NaN   NaN   NaN   NaN   NaN   NaN   NaN   NaN  \n",
       "4016   NaN  ...   NaN   NaN   NaN   NaN   NaN   NaN   NaN   NaN   NaN   NaN  \n",
       "\n",
       "[4017 rows x 27 columns]"
      ]
     },
     "execution_count": 3,
     "metadata": {},
     "output_type": "execute_result"
    }
   ],
   "source": [
    "df_weather = pd.read_csv(\"C:/Users/joses/Dropbox/PC/Downloads/weather.csv\", encoding='unicode_escape')\n",
    "df_weather"
   ]
  },
  {
   "cell_type": "markdown",
   "id": "a34540fa",
   "metadata": {},
   "source": [
    "## Questão 1"
   ]
  },
  {
   "cell_type": "markdown",
   "id": "f1aab9da",
   "metadata": {},
   "source": [
    "### A)"
   ]
  },
  {
   "cell_type": "markdown",
   "id": "17d01b01",
   "metadata": {},
   "source": [
    "Usando o len index(representando as linhas) e um len columns (representando as colunas), temos o número exato de linhas e colunas do data frame police."
   ]
  },
  {
   "cell_type": "code",
   "execution_count": 4,
   "id": "80b8651e",
   "metadata": {},
   "outputs": [
    {
     "name": "stdout",
     "output_type": "stream",
     "text": [
      "Linhas:  91741\n",
      "Colunas:  15\n"
     ]
    }
   ],
   "source": [
    "print(\"Linhas: \",len(df_police.index))\n",
    "print(\"Colunas: \",len(df_police.columns))"
   ]
  },
  {
   "cell_type": "markdown",
   "id": "84f758db",
   "metadata": {},
   "source": [
    "### B)"
   ]
  },
  {
   "cell_type": "markdown",
   "id": "ef88228c",
   "metadata": {},
   "source": [
    "Usando o metado isna, temos os dados faltosos e ao usar o sum esses dados são contabilizados, sendo assim:"
   ]
  },
  {
   "cell_type": "code",
   "execution_count": 5,
   "id": "c97a8c22",
   "metadata": {},
   "outputs": [
    {
     "data": {
      "text/plain": [
       "state                     0\n",
       "stop_date                 0\n",
       "stop_time                 0\n",
       "county_name           91741\n",
       "driver_gender          5205\n",
       "driver_race            5202\n",
       "violation_raw          5202\n",
       "violation              5202\n",
       "search_conducted          0\n",
       "search_type           88434\n",
       "stop_outcome           5202\n",
       "is_arrested            5202\n",
       "stop_duration          5202\n",
       "drugs_related_stop        0\n",
       "district                  0\n",
       "dtype: int64"
      ]
     },
     "execution_count": 5,
     "metadata": {},
     "output_type": "execute_result"
    }
   ],
   "source": [
    "df_police.isna().sum()"
   ]
  },
  {
   "cell_type": "markdown",
   "id": "f2bf6b8c",
   "metadata": {},
   "source": [
    "### C)"
   ]
  },
  {
   "cell_type": "markdown",
   "id": "79eedfa1",
   "metadata": {},
   "source": [
    "Usando o .drop(), podemos excluir as colunas do dataframe e para confimar a exclusão logo abaixo está o df_police sem as colunas excluídas."
   ]
  },
  {
   "cell_type": "code",
   "execution_count": 6,
   "id": "1634dc1b",
   "metadata": {},
   "outputs": [],
   "source": [
    "df_police.drop(['county_name','state'], axis=1, inplace=True)"
   ]
  },
  {
   "cell_type": "code",
   "execution_count": 7,
   "id": "2132a951",
   "metadata": {},
   "outputs": [
    {
     "data": {
      "text/html": [
       "<div>\n",
       "<style scoped>\n",
       "    .dataframe tbody tr th:only-of-type {\n",
       "        vertical-align: middle;\n",
       "    }\n",
       "\n",
       "    .dataframe tbody tr th {\n",
       "        vertical-align: top;\n",
       "    }\n",
       "\n",
       "    .dataframe thead th {\n",
       "        text-align: right;\n",
       "    }\n",
       "</style>\n",
       "<table border=\"1\" class=\"dataframe\">\n",
       "  <thead>\n",
       "    <tr style=\"text-align: right;\">\n",
       "      <th></th>\n",
       "      <th>stop_date</th>\n",
       "      <th>stop_time</th>\n",
       "      <th>driver_gender</th>\n",
       "      <th>driver_race</th>\n",
       "      <th>violation_raw</th>\n",
       "      <th>violation</th>\n",
       "      <th>search_conducted</th>\n",
       "      <th>search_type</th>\n",
       "      <th>stop_outcome</th>\n",
       "      <th>is_arrested</th>\n",
       "      <th>stop_duration</th>\n",
       "      <th>drugs_related_stop</th>\n",
       "      <th>district</th>\n",
       "    </tr>\n",
       "  </thead>\n",
       "  <tbody>\n",
       "    <tr>\n",
       "      <th>0</th>\n",
       "      <td>2005-01-04</td>\n",
       "      <td>12:55</td>\n",
       "      <td>M</td>\n",
       "      <td>White</td>\n",
       "      <td>Equipment/Inspection Violation</td>\n",
       "      <td>Equipment</td>\n",
       "      <td>False</td>\n",
       "      <td>NaN</td>\n",
       "      <td>Citation</td>\n",
       "      <td>False</td>\n",
       "      <td>0-15 Min</td>\n",
       "      <td>False</td>\n",
       "      <td>Zone X4</td>\n",
       "    </tr>\n",
       "    <tr>\n",
       "      <th>1</th>\n",
       "      <td>2005-01-23</td>\n",
       "      <td>23:15</td>\n",
       "      <td>M</td>\n",
       "      <td>White</td>\n",
       "      <td>Speeding</td>\n",
       "      <td>Speeding</td>\n",
       "      <td>False</td>\n",
       "      <td>NaN</td>\n",
       "      <td>Citation</td>\n",
       "      <td>False</td>\n",
       "      <td>0-15 Min</td>\n",
       "      <td>False</td>\n",
       "      <td>Zone K3</td>\n",
       "    </tr>\n",
       "    <tr>\n",
       "      <th>2</th>\n",
       "      <td>2005-02-17</td>\n",
       "      <td>04:15</td>\n",
       "      <td>M</td>\n",
       "      <td>White</td>\n",
       "      <td>Speeding</td>\n",
       "      <td>Speeding</td>\n",
       "      <td>False</td>\n",
       "      <td>NaN</td>\n",
       "      <td>Citation</td>\n",
       "      <td>False</td>\n",
       "      <td>0-15 Min</td>\n",
       "      <td>False</td>\n",
       "      <td>Zone X4</td>\n",
       "    </tr>\n",
       "    <tr>\n",
       "      <th>3</th>\n",
       "      <td>2005-02-20</td>\n",
       "      <td>17:15</td>\n",
       "      <td>M</td>\n",
       "      <td>White</td>\n",
       "      <td>Call for Service</td>\n",
       "      <td>Other</td>\n",
       "      <td>False</td>\n",
       "      <td>NaN</td>\n",
       "      <td>Arrest Driver</td>\n",
       "      <td>True</td>\n",
       "      <td>16-30 Min</td>\n",
       "      <td>False</td>\n",
       "      <td>Zone X1</td>\n",
       "    </tr>\n",
       "    <tr>\n",
       "      <th>4</th>\n",
       "      <td>2005-02-24</td>\n",
       "      <td>01:20</td>\n",
       "      <td>F</td>\n",
       "      <td>White</td>\n",
       "      <td>Speeding</td>\n",
       "      <td>Speeding</td>\n",
       "      <td>False</td>\n",
       "      <td>NaN</td>\n",
       "      <td>Citation</td>\n",
       "      <td>False</td>\n",
       "      <td>0-15 Min</td>\n",
       "      <td>False</td>\n",
       "      <td>Zone X3</td>\n",
       "    </tr>\n",
       "    <tr>\n",
       "      <th>...</th>\n",
       "      <td>...</td>\n",
       "      <td>...</td>\n",
       "      <td>...</td>\n",
       "      <td>...</td>\n",
       "      <td>...</td>\n",
       "      <td>...</td>\n",
       "      <td>...</td>\n",
       "      <td>...</td>\n",
       "      <td>...</td>\n",
       "      <td>...</td>\n",
       "      <td>...</td>\n",
       "      <td>...</td>\n",
       "      <td>...</td>\n",
       "    </tr>\n",
       "    <tr>\n",
       "      <th>91736</th>\n",
       "      <td>2015-12-31</td>\n",
       "      <td>21:21</td>\n",
       "      <td>F</td>\n",
       "      <td>Black</td>\n",
       "      <td>Other Traffic Violation</td>\n",
       "      <td>Moving violation</td>\n",
       "      <td>False</td>\n",
       "      <td>NaN</td>\n",
       "      <td>Citation</td>\n",
       "      <td>False</td>\n",
       "      <td>0-15 Min</td>\n",
       "      <td>False</td>\n",
       "      <td>Zone K2</td>\n",
       "    </tr>\n",
       "    <tr>\n",
       "      <th>91737</th>\n",
       "      <td>2015-12-31</td>\n",
       "      <td>21:59</td>\n",
       "      <td>F</td>\n",
       "      <td>White</td>\n",
       "      <td>Speeding</td>\n",
       "      <td>Speeding</td>\n",
       "      <td>False</td>\n",
       "      <td>NaN</td>\n",
       "      <td>Citation</td>\n",
       "      <td>False</td>\n",
       "      <td>0-15 Min</td>\n",
       "      <td>False</td>\n",
       "      <td>Zone K3</td>\n",
       "    </tr>\n",
       "    <tr>\n",
       "      <th>91738</th>\n",
       "      <td>2015-12-31</td>\n",
       "      <td>22:04</td>\n",
       "      <td>M</td>\n",
       "      <td>White</td>\n",
       "      <td>Other Traffic Violation</td>\n",
       "      <td>Moving violation</td>\n",
       "      <td>False</td>\n",
       "      <td>NaN</td>\n",
       "      <td>Citation</td>\n",
       "      <td>False</td>\n",
       "      <td>0-15 Min</td>\n",
       "      <td>False</td>\n",
       "      <td>Zone X3</td>\n",
       "    </tr>\n",
       "    <tr>\n",
       "      <th>91739</th>\n",
       "      <td>2015-12-31</td>\n",
       "      <td>22:09</td>\n",
       "      <td>F</td>\n",
       "      <td>Hispanic</td>\n",
       "      <td>Equipment/Inspection Violation</td>\n",
       "      <td>Equipment</td>\n",
       "      <td>False</td>\n",
       "      <td>NaN</td>\n",
       "      <td>Warning</td>\n",
       "      <td>False</td>\n",
       "      <td>0-15 Min</td>\n",
       "      <td>False</td>\n",
       "      <td>Zone K3</td>\n",
       "    </tr>\n",
       "    <tr>\n",
       "      <th>91740</th>\n",
       "      <td>2015-12-31</td>\n",
       "      <td>22:47</td>\n",
       "      <td>M</td>\n",
       "      <td>White</td>\n",
       "      <td>Registration Violation</td>\n",
       "      <td>Registration/plates</td>\n",
       "      <td>False</td>\n",
       "      <td>NaN</td>\n",
       "      <td>Citation</td>\n",
       "      <td>False</td>\n",
       "      <td>0-15 Min</td>\n",
       "      <td>False</td>\n",
       "      <td>Zone X4</td>\n",
       "    </tr>\n",
       "  </tbody>\n",
       "</table>\n",
       "<p>91741 rows × 13 columns</p>\n",
       "</div>"
      ],
      "text/plain": [
       "        stop_date stop_time driver_gender driver_race  \\\n",
       "0      2005-01-04     12:55             M       White   \n",
       "1      2005-01-23     23:15             M       White   \n",
       "2      2005-02-17     04:15             M       White   \n",
       "3      2005-02-20     17:15             M       White   \n",
       "4      2005-02-24     01:20             F       White   \n",
       "...           ...       ...           ...         ...   \n",
       "91736  2015-12-31     21:21             F       Black   \n",
       "91737  2015-12-31     21:59             F       White   \n",
       "91738  2015-12-31     22:04             M       White   \n",
       "91739  2015-12-31     22:09             F    Hispanic   \n",
       "91740  2015-12-31     22:47             M       White   \n",
       "\n",
       "                        violation_raw            violation  search_conducted  \\\n",
       "0      Equipment/Inspection Violation            Equipment             False   \n",
       "1                            Speeding             Speeding             False   \n",
       "2                            Speeding             Speeding             False   \n",
       "3                    Call for Service                Other             False   \n",
       "4                            Speeding             Speeding             False   \n",
       "...                               ...                  ...               ...   \n",
       "91736         Other Traffic Violation     Moving violation             False   \n",
       "91737                        Speeding             Speeding             False   \n",
       "91738         Other Traffic Violation     Moving violation             False   \n",
       "91739  Equipment/Inspection Violation            Equipment             False   \n",
       "91740          Registration Violation  Registration/plates             False   \n",
       "\n",
       "      search_type   stop_outcome is_arrested stop_duration  \\\n",
       "0             NaN       Citation       False      0-15 Min   \n",
       "1             NaN       Citation       False      0-15 Min   \n",
       "2             NaN       Citation       False      0-15 Min   \n",
       "3             NaN  Arrest Driver        True     16-30 Min   \n",
       "4             NaN       Citation       False      0-15 Min   \n",
       "...           ...            ...         ...           ...   \n",
       "91736         NaN       Citation       False      0-15 Min   \n",
       "91737         NaN       Citation       False      0-15 Min   \n",
       "91738         NaN       Citation       False      0-15 Min   \n",
       "91739         NaN        Warning       False      0-15 Min   \n",
       "91740         NaN       Citation       False      0-15 Min   \n",
       "\n",
       "       drugs_related_stop district  \n",
       "0                   False  Zone X4  \n",
       "1                   False  Zone K3  \n",
       "2                   False  Zone X4  \n",
       "3                   False  Zone X1  \n",
       "4                   False  Zone X3  \n",
       "...                   ...      ...  \n",
       "91736               False  Zone K2  \n",
       "91737               False  Zone K3  \n",
       "91738               False  Zone X3  \n",
       "91739               False  Zone K3  \n",
       "91740               False  Zone X4  \n",
       "\n",
       "[91741 rows x 13 columns]"
      ]
     },
     "execution_count": 7,
     "metadata": {},
     "output_type": "execute_result"
    }
   ],
   "source": [
    "df_police"
   ]
  },
  {
   "cell_type": "markdown",
   "id": "57307a56",
   "metadata": {},
   "source": [
    "### D)"
   ]
  },
  {
   "cell_type": "markdown",
   "id": "d9f7ef72",
   "metadata": {},
   "source": [
    "Com o uso do .dropna(), pode-se fazer a exclusão de dados faltosos no dataframe."
   ]
  },
  {
   "cell_type": "code",
   "execution_count": 8,
   "id": "cc8d9100",
   "metadata": {},
   "outputs": [],
   "source": [
    "df_police = df_police.dropna(subset=['driver_gender'])"
   ]
  },
  {
   "cell_type": "markdown",
   "id": "91bf0d6c",
   "metadata": {},
   "source": [
    "### E)"
   ]
  },
  {
   "cell_type": "markdown",
   "id": "a2250e6f",
   "metadata": {},
   "source": [
    "A variável search_conducted é do tipo boleano, enquanto is_arrested e district são objects."
   ]
  },
  {
   "cell_type": "code",
   "execution_count": 9,
   "id": "111d902d",
   "metadata": {},
   "outputs": [
    {
     "name": "stdout",
     "output_type": "stream",
     "text": [
      "<class 'pandas.core.frame.DataFrame'>\n",
      "Int64Index: 86536 entries, 0 to 91740\n",
      "Data columns (total 13 columns):\n",
      " #   Column              Non-Null Count  Dtype \n",
      "---  ------              --------------  ----- \n",
      " 0   stop_date           86536 non-null  object\n",
      " 1   stop_time           86536 non-null  object\n",
      " 2   driver_gender       86536 non-null  object\n",
      " 3   driver_race         86536 non-null  object\n",
      " 4   violation_raw       86536 non-null  object\n",
      " 5   violation           86536 non-null  object\n",
      " 6   search_conducted    86536 non-null  bool  \n",
      " 7   search_type         3307 non-null   object\n",
      " 8   stop_outcome        86536 non-null  object\n",
      " 9   is_arrested         86536 non-null  object\n",
      " 10  stop_duration       86536 non-null  object\n",
      " 11  drugs_related_stop  86536 non-null  bool  \n",
      " 12  district            86536 non-null  object\n",
      "dtypes: bool(2), object(11)\n",
      "memory usage: 8.1+ MB\n"
     ]
    }
   ],
   "source": [
    "df_police.info()"
   ]
  },
  {
   "cell_type": "markdown",
   "id": "0d52e4d2",
   "metadata": {},
   "source": [
    "### F)"
   ]
  },
  {
   "cell_type": "markdown",
   "id": "143117fb",
   "metadata": {},
   "source": [
    "Primeiro irei concatenar as duas colunas e depois transforma a unica coluna no tipo datetime."
   ]
  },
  {
   "cell_type": "code",
   "execution_count": 10,
   "id": "d6d04d79",
   "metadata": {},
   "outputs": [
    {
     "name": "stdout",
     "output_type": "stream",
     "text": [
      "<class 'pandas.core.frame.DataFrame'>\n",
      "Int64Index: 86536 entries, 0 to 91740\n",
      "Data columns (total 14 columns):\n",
      " #   Column              Non-Null Count  Dtype         \n",
      "---  ------              --------------  -----         \n",
      " 0   stop_date           86536 non-null  object        \n",
      " 1   stop_time           86536 non-null  object        \n",
      " 2   driver_gender       86536 non-null  object        \n",
      " 3   driver_race         86536 non-null  object        \n",
      " 4   violation_raw       86536 non-null  object        \n",
      " 5   violation           86536 non-null  object        \n",
      " 6   search_conducted    86536 non-null  bool          \n",
      " 7   search_type         3307 non-null   object        \n",
      " 8   stop_outcome        86536 non-null  object        \n",
      " 9   is_arrested         86536 non-null  object        \n",
      " 10  stop_duration       86536 non-null  object        \n",
      " 11  drugs_related_stop  86536 non-null  bool          \n",
      " 12  district            86536 non-null  object        \n",
      " 13  stop_datetime       86536 non-null  datetime64[ns]\n",
      "dtypes: bool(2), datetime64[ns](1), object(11)\n",
      "memory usage: 8.7+ MB\n"
     ]
    },
    {
     "name": "stderr",
     "output_type": "stream",
     "text": [
      "<ipython-input-10-7bc6cbd389cb>:1: SettingWithCopyWarning: \n",
      "A value is trying to be set on a copy of a slice from a DataFrame.\n",
      "Try using .loc[row_indexer,col_indexer] = value instead\n",
      "\n",
      "See the caveats in the documentation: https://pandas.pydata.org/pandas-docs/stable/user_guide/indexing.html#returning-a-view-versus-a-copy\n",
      "  df_police['stop_datetime'] = df_police[\"stop_date\"] + \" \"+ df_police[\"stop_time\"]\n",
      "<ipython-input-10-7bc6cbd389cb>:2: SettingWithCopyWarning: \n",
      "A value is trying to be set on a copy of a slice from a DataFrame.\n",
      "Try using .loc[row_indexer,col_indexer] = value instead\n",
      "\n",
      "See the caveats in the documentation: https://pandas.pydata.org/pandas-docs/stable/user_guide/indexing.html#returning-a-view-versus-a-copy\n",
      "  df_police['stop_datetime']=df_police['stop_datetime'].astype('datetime64')\n"
     ]
    }
   ],
   "source": [
    "df_police['stop_datetime'] = df_police[\"stop_date\"] + \" \"+ df_police[\"stop_time\"]\n",
    "df_police['stop_datetime']=df_police['stop_datetime'].astype('datetime64')\n",
    "df_police.info()"
   ]
  },
  {
   "cell_type": "markdown",
   "id": "7d123cb5",
   "metadata": {},
   "source": [
    "### G)"
   ]
  },
  {
   "cell_type": "markdown",
   "id": "dad2e0ca",
   "metadata": {},
   "source": [
    "Usando o set_index() posso colocar qualquer coluna do dataset como indez do dataframe."
   ]
  },
  {
   "cell_type": "code",
   "execution_count": 11,
   "id": "9a721012",
   "metadata": {},
   "outputs": [],
   "source": [
    "df_police = df_police.set_index('stop_datetime')"
   ]
  },
  {
   "cell_type": "code",
   "execution_count": 12,
   "id": "c8511d84",
   "metadata": {},
   "outputs": [
    {
     "data": {
      "text/html": [
       "<div>\n",
       "<style scoped>\n",
       "    .dataframe tbody tr th:only-of-type {\n",
       "        vertical-align: middle;\n",
       "    }\n",
       "\n",
       "    .dataframe tbody tr th {\n",
       "        vertical-align: top;\n",
       "    }\n",
       "\n",
       "    .dataframe thead th {\n",
       "        text-align: right;\n",
       "    }\n",
       "</style>\n",
       "<table border=\"1\" class=\"dataframe\">\n",
       "  <thead>\n",
       "    <tr style=\"text-align: right;\">\n",
       "      <th></th>\n",
       "      <th>stop_date</th>\n",
       "      <th>stop_time</th>\n",
       "      <th>driver_gender</th>\n",
       "      <th>driver_race</th>\n",
       "      <th>violation_raw</th>\n",
       "      <th>violation</th>\n",
       "      <th>search_conducted</th>\n",
       "      <th>search_type</th>\n",
       "      <th>stop_outcome</th>\n",
       "      <th>is_arrested</th>\n",
       "      <th>stop_duration</th>\n",
       "      <th>drugs_related_stop</th>\n",
       "      <th>district</th>\n",
       "    </tr>\n",
       "    <tr>\n",
       "      <th>stop_datetime</th>\n",
       "      <th></th>\n",
       "      <th></th>\n",
       "      <th></th>\n",
       "      <th></th>\n",
       "      <th></th>\n",
       "      <th></th>\n",
       "      <th></th>\n",
       "      <th></th>\n",
       "      <th></th>\n",
       "      <th></th>\n",
       "      <th></th>\n",
       "      <th></th>\n",
       "      <th></th>\n",
       "    </tr>\n",
       "  </thead>\n",
       "  <tbody>\n",
       "    <tr>\n",
       "      <th>2005-01-04 12:55:00</th>\n",
       "      <td>2005-01-04</td>\n",
       "      <td>12:55</td>\n",
       "      <td>M</td>\n",
       "      <td>White</td>\n",
       "      <td>Equipment/Inspection Violation</td>\n",
       "      <td>Equipment</td>\n",
       "      <td>False</td>\n",
       "      <td>NaN</td>\n",
       "      <td>Citation</td>\n",
       "      <td>False</td>\n",
       "      <td>0-15 Min</td>\n",
       "      <td>False</td>\n",
       "      <td>Zone X4</td>\n",
       "    </tr>\n",
       "    <tr>\n",
       "      <th>2005-01-23 23:15:00</th>\n",
       "      <td>2005-01-23</td>\n",
       "      <td>23:15</td>\n",
       "      <td>M</td>\n",
       "      <td>White</td>\n",
       "      <td>Speeding</td>\n",
       "      <td>Speeding</td>\n",
       "      <td>False</td>\n",
       "      <td>NaN</td>\n",
       "      <td>Citation</td>\n",
       "      <td>False</td>\n",
       "      <td>0-15 Min</td>\n",
       "      <td>False</td>\n",
       "      <td>Zone K3</td>\n",
       "    </tr>\n",
       "    <tr>\n",
       "      <th>2005-02-17 04:15:00</th>\n",
       "      <td>2005-02-17</td>\n",
       "      <td>04:15</td>\n",
       "      <td>M</td>\n",
       "      <td>White</td>\n",
       "      <td>Speeding</td>\n",
       "      <td>Speeding</td>\n",
       "      <td>False</td>\n",
       "      <td>NaN</td>\n",
       "      <td>Citation</td>\n",
       "      <td>False</td>\n",
       "      <td>0-15 Min</td>\n",
       "      <td>False</td>\n",
       "      <td>Zone X4</td>\n",
       "    </tr>\n",
       "    <tr>\n",
       "      <th>2005-02-20 17:15:00</th>\n",
       "      <td>2005-02-20</td>\n",
       "      <td>17:15</td>\n",
       "      <td>M</td>\n",
       "      <td>White</td>\n",
       "      <td>Call for Service</td>\n",
       "      <td>Other</td>\n",
       "      <td>False</td>\n",
       "      <td>NaN</td>\n",
       "      <td>Arrest Driver</td>\n",
       "      <td>True</td>\n",
       "      <td>16-30 Min</td>\n",
       "      <td>False</td>\n",
       "      <td>Zone X1</td>\n",
       "    </tr>\n",
       "    <tr>\n",
       "      <th>2005-02-24 01:20:00</th>\n",
       "      <td>2005-02-24</td>\n",
       "      <td>01:20</td>\n",
       "      <td>F</td>\n",
       "      <td>White</td>\n",
       "      <td>Speeding</td>\n",
       "      <td>Speeding</td>\n",
       "      <td>False</td>\n",
       "      <td>NaN</td>\n",
       "      <td>Citation</td>\n",
       "      <td>False</td>\n",
       "      <td>0-15 Min</td>\n",
       "      <td>False</td>\n",
       "      <td>Zone X3</td>\n",
       "    </tr>\n",
       "    <tr>\n",
       "      <th>...</th>\n",
       "      <td>...</td>\n",
       "      <td>...</td>\n",
       "      <td>...</td>\n",
       "      <td>...</td>\n",
       "      <td>...</td>\n",
       "      <td>...</td>\n",
       "      <td>...</td>\n",
       "      <td>...</td>\n",
       "      <td>...</td>\n",
       "      <td>...</td>\n",
       "      <td>...</td>\n",
       "      <td>...</td>\n",
       "      <td>...</td>\n",
       "    </tr>\n",
       "    <tr>\n",
       "      <th>2015-12-31 21:21:00</th>\n",
       "      <td>2015-12-31</td>\n",
       "      <td>21:21</td>\n",
       "      <td>F</td>\n",
       "      <td>Black</td>\n",
       "      <td>Other Traffic Violation</td>\n",
       "      <td>Moving violation</td>\n",
       "      <td>False</td>\n",
       "      <td>NaN</td>\n",
       "      <td>Citation</td>\n",
       "      <td>False</td>\n",
       "      <td>0-15 Min</td>\n",
       "      <td>False</td>\n",
       "      <td>Zone K2</td>\n",
       "    </tr>\n",
       "    <tr>\n",
       "      <th>2015-12-31 21:59:00</th>\n",
       "      <td>2015-12-31</td>\n",
       "      <td>21:59</td>\n",
       "      <td>F</td>\n",
       "      <td>White</td>\n",
       "      <td>Speeding</td>\n",
       "      <td>Speeding</td>\n",
       "      <td>False</td>\n",
       "      <td>NaN</td>\n",
       "      <td>Citation</td>\n",
       "      <td>False</td>\n",
       "      <td>0-15 Min</td>\n",
       "      <td>False</td>\n",
       "      <td>Zone K3</td>\n",
       "    </tr>\n",
       "    <tr>\n",
       "      <th>2015-12-31 22:04:00</th>\n",
       "      <td>2015-12-31</td>\n",
       "      <td>22:04</td>\n",
       "      <td>M</td>\n",
       "      <td>White</td>\n",
       "      <td>Other Traffic Violation</td>\n",
       "      <td>Moving violation</td>\n",
       "      <td>False</td>\n",
       "      <td>NaN</td>\n",
       "      <td>Citation</td>\n",
       "      <td>False</td>\n",
       "      <td>0-15 Min</td>\n",
       "      <td>False</td>\n",
       "      <td>Zone X3</td>\n",
       "    </tr>\n",
       "    <tr>\n",
       "      <th>2015-12-31 22:09:00</th>\n",
       "      <td>2015-12-31</td>\n",
       "      <td>22:09</td>\n",
       "      <td>F</td>\n",
       "      <td>Hispanic</td>\n",
       "      <td>Equipment/Inspection Violation</td>\n",
       "      <td>Equipment</td>\n",
       "      <td>False</td>\n",
       "      <td>NaN</td>\n",
       "      <td>Warning</td>\n",
       "      <td>False</td>\n",
       "      <td>0-15 Min</td>\n",
       "      <td>False</td>\n",
       "      <td>Zone K3</td>\n",
       "    </tr>\n",
       "    <tr>\n",
       "      <th>2015-12-31 22:47:00</th>\n",
       "      <td>2015-12-31</td>\n",
       "      <td>22:47</td>\n",
       "      <td>M</td>\n",
       "      <td>White</td>\n",
       "      <td>Registration Violation</td>\n",
       "      <td>Registration/plates</td>\n",
       "      <td>False</td>\n",
       "      <td>NaN</td>\n",
       "      <td>Citation</td>\n",
       "      <td>False</td>\n",
       "      <td>0-15 Min</td>\n",
       "      <td>False</td>\n",
       "      <td>Zone X4</td>\n",
       "    </tr>\n",
       "  </tbody>\n",
       "</table>\n",
       "<p>86536 rows × 13 columns</p>\n",
       "</div>"
      ],
      "text/plain": [
       "                      stop_date stop_time driver_gender driver_race  \\\n",
       "stop_datetime                                                         \n",
       "2005-01-04 12:55:00  2005-01-04     12:55             M       White   \n",
       "2005-01-23 23:15:00  2005-01-23     23:15             M       White   \n",
       "2005-02-17 04:15:00  2005-02-17     04:15             M       White   \n",
       "2005-02-20 17:15:00  2005-02-20     17:15             M       White   \n",
       "2005-02-24 01:20:00  2005-02-24     01:20             F       White   \n",
       "...                         ...       ...           ...         ...   \n",
       "2015-12-31 21:21:00  2015-12-31     21:21             F       Black   \n",
       "2015-12-31 21:59:00  2015-12-31     21:59             F       White   \n",
       "2015-12-31 22:04:00  2015-12-31     22:04             M       White   \n",
       "2015-12-31 22:09:00  2015-12-31     22:09             F    Hispanic   \n",
       "2015-12-31 22:47:00  2015-12-31     22:47             M       White   \n",
       "\n",
       "                                      violation_raw            violation  \\\n",
       "stop_datetime                                                              \n",
       "2005-01-04 12:55:00  Equipment/Inspection Violation            Equipment   \n",
       "2005-01-23 23:15:00                        Speeding             Speeding   \n",
       "2005-02-17 04:15:00                        Speeding             Speeding   \n",
       "2005-02-20 17:15:00                Call for Service                Other   \n",
       "2005-02-24 01:20:00                        Speeding             Speeding   \n",
       "...                                             ...                  ...   \n",
       "2015-12-31 21:21:00         Other Traffic Violation     Moving violation   \n",
       "2015-12-31 21:59:00                        Speeding             Speeding   \n",
       "2015-12-31 22:04:00         Other Traffic Violation     Moving violation   \n",
       "2015-12-31 22:09:00  Equipment/Inspection Violation            Equipment   \n",
       "2015-12-31 22:47:00          Registration Violation  Registration/plates   \n",
       "\n",
       "                     search_conducted search_type   stop_outcome is_arrested  \\\n",
       "stop_datetime                                                                  \n",
       "2005-01-04 12:55:00             False         NaN       Citation       False   \n",
       "2005-01-23 23:15:00             False         NaN       Citation       False   \n",
       "2005-02-17 04:15:00             False         NaN       Citation       False   \n",
       "2005-02-20 17:15:00             False         NaN  Arrest Driver        True   \n",
       "2005-02-24 01:20:00             False         NaN       Citation       False   \n",
       "...                               ...         ...            ...         ...   \n",
       "2015-12-31 21:21:00             False         NaN       Citation       False   \n",
       "2015-12-31 21:59:00             False         NaN       Citation       False   \n",
       "2015-12-31 22:04:00             False         NaN       Citation       False   \n",
       "2015-12-31 22:09:00             False         NaN        Warning       False   \n",
       "2015-12-31 22:47:00             False         NaN       Citation       False   \n",
       "\n",
       "                    stop_duration  drugs_related_stop district  \n",
       "stop_datetime                                                   \n",
       "2005-01-04 12:55:00      0-15 Min               False  Zone X4  \n",
       "2005-01-23 23:15:00      0-15 Min               False  Zone K3  \n",
       "2005-02-17 04:15:00      0-15 Min               False  Zone X4  \n",
       "2005-02-20 17:15:00     16-30 Min               False  Zone X1  \n",
       "2005-02-24 01:20:00      0-15 Min               False  Zone X3  \n",
       "...                           ...                 ...      ...  \n",
       "2015-12-31 21:21:00      0-15 Min               False  Zone K2  \n",
       "2015-12-31 21:59:00      0-15 Min               False  Zone K3  \n",
       "2015-12-31 22:04:00      0-15 Min               False  Zone X3  \n",
       "2015-12-31 22:09:00      0-15 Min               False  Zone K3  \n",
       "2015-12-31 22:47:00      0-15 Min               False  Zone X4  \n",
       "\n",
       "[86536 rows x 13 columns]"
      ]
     },
     "execution_count": 12,
     "metadata": {},
     "output_type": "execute_result"
    }
   ],
   "source": [
    "df_police"
   ]
  },
  {
   "cell_type": "markdown",
   "id": "86d1eb29",
   "metadata": {},
   "source": [
    "## Questão 2"
   ]
  },
  {
   "cell_type": "markdown",
   "id": "486aecfc",
   "metadata": {},
   "source": [
    "### A)"
   ]
  },
  {
   "cell_type": "markdown",
   "id": "f40c9904",
   "metadata": {},
   "source": [
    "Com o uso do .value_counts() dá para ver que a infração mais cometida é a speeding(velocidade) e a menos cometida seat belt(cinto de segurança)."
   ]
  },
  {
   "cell_type": "code",
   "execution_count": 13,
   "id": "748e1fa5",
   "metadata": {},
   "outputs": [
    {
     "data": {
      "text/plain": [
       "Speeding               48423\n",
       "Moving violation       16224\n",
       "Equipment              10921\n",
       "Other                   4409\n",
       "Registration/plates     3703\n",
       "Seat belt               2856\n",
       "Name: violation, dtype: int64"
      ]
     },
     "execution_count": 13,
     "metadata": {},
     "output_type": "execute_result"
    }
   ],
   "source": [
    "df_police['violation'].value_counts()"
   ]
  },
  {
   "cell_type": "markdown",
   "id": "cbd6c57e",
   "metadata": {},
   "source": [
    "### B)"
   ]
  },
  {
   "cell_type": "markdown",
   "id": "cbd6c57e",
   "metadata": {},
   "source": [
    "Observando a tabela abaixo, é possivel observar que o sexo masculino comente um maior número de infrações que o sexo faminino. "
   ]
  },
  {
   "cell_type": "code",
   "execution_count": 14,
   "id": "f68527db",
   "metadata": {},
   "outputs": [],
   "source": [
    "fi=df_police[['violation','driver_gender']].value_counts()\n",
    "fr=df_police[['violation','driver_gender']].value_counts(normalize=True)"
   ]
  },
  {
   "cell_type": "code",
   "execution_count": 15,
   "id": "e8e5bbea",
   "metadata": {},
   "outputs": [],
   "source": [
    "fi=fi.sort_index(ascending=False)\n",
    "fr=(fr*100).sort_index(ascending=False)"
   ]
  },
  {
   "cell_type": "code",
   "execution_count": 16,
   "id": "b904f661",
   "metadata": {},
   "outputs": [
    {
     "data": {
      "text/html": [
       "<div>\n",
       "<style scoped>\n",
       "    .dataframe tbody tr th:only-of-type {\n",
       "        vertical-align: middle;\n",
       "    }\n",
       "\n",
       "    .dataframe tbody tr th {\n",
       "        vertical-align: top;\n",
       "    }\n",
       "\n",
       "    .dataframe thead th {\n",
       "        text-align: right;\n",
       "    }\n",
       "</style>\n",
       "<table border=\"1\" class=\"dataframe\">\n",
       "  <thead>\n",
       "    <tr style=\"text-align: right;\">\n",
       "      <th></th>\n",
       "      <th></th>\n",
       "      <th>fi</th>\n",
       "      <th>fr</th>\n",
       "    </tr>\n",
       "    <tr>\n",
       "      <th>violation</th>\n",
       "      <th>driver_gender</th>\n",
       "      <th></th>\n",
       "      <th></th>\n",
       "    </tr>\n",
       "  </thead>\n",
       "  <tbody>\n",
       "    <tr>\n",
       "      <th rowspan=\"2\" valign=\"top\">Speeding</th>\n",
       "      <th>M</th>\n",
       "      <td>32777</td>\n",
       "      <td>37.876722</td>\n",
       "    </tr>\n",
       "    <tr>\n",
       "      <th>F</th>\n",
       "      <td>15646</td>\n",
       "      <td>18.080337</td>\n",
       "    </tr>\n",
       "    <tr>\n",
       "      <th rowspan=\"2\" valign=\"top\">Seat belt</th>\n",
       "      <th>M</th>\n",
       "      <td>2278</td>\n",
       "      <td>2.632430</td>\n",
       "    </tr>\n",
       "    <tr>\n",
       "      <th>F</th>\n",
       "      <td>578</td>\n",
       "      <td>0.667930</td>\n",
       "    </tr>\n",
       "    <tr>\n",
       "      <th rowspan=\"2\" valign=\"top\">Registration/plates</th>\n",
       "      <th>M</th>\n",
       "      <td>2647</td>\n",
       "      <td>3.058843</td>\n",
       "    </tr>\n",
       "    <tr>\n",
       "      <th>F</th>\n",
       "      <td>1056</td>\n",
       "      <td>1.220301</td>\n",
       "    </tr>\n",
       "    <tr>\n",
       "      <th rowspan=\"2\" valign=\"top\">Other</th>\n",
       "      <th>M</th>\n",
       "      <td>3702</td>\n",
       "      <td>4.277988</td>\n",
       "    </tr>\n",
       "    <tr>\n",
       "      <th>F</th>\n",
       "      <td>707</td>\n",
       "      <td>0.817001</td>\n",
       "    </tr>\n",
       "    <tr>\n",
       "      <th rowspan=\"2\" valign=\"top\">Moving violation</th>\n",
       "      <th>M</th>\n",
       "      <td>12938</td>\n",
       "      <td>14.951003</td>\n",
       "    </tr>\n",
       "    <tr>\n",
       "      <th>F</th>\n",
       "      <td>3286</td>\n",
       "      <td>3.797264</td>\n",
       "    </tr>\n",
       "    <tr>\n",
       "      <th rowspan=\"2\" valign=\"top\">Equipment</th>\n",
       "      <th>M</th>\n",
       "      <td>8420</td>\n",
       "      <td>9.730055</td>\n",
       "    </tr>\n",
       "    <tr>\n",
       "      <th>F</th>\n",
       "      <td>2501</td>\n",
       "      <td>2.890127</td>\n",
       "    </tr>\n",
       "  </tbody>\n",
       "</table>\n",
       "</div>"
      ],
      "text/plain": [
       "                                      fi         fr\n",
       "violation           driver_gender                  \n",
       "Speeding            M              32777  37.876722\n",
       "                    F              15646  18.080337\n",
       "Seat belt           M               2278   2.632430\n",
       "                    F                578   0.667930\n",
       "Registration/plates M               2647   3.058843\n",
       "                    F               1056   1.220301\n",
       "Other               M               3702   4.277988\n",
       "                    F                707   0.817001\n",
       "Moving violation    M              12938  14.951003\n",
       "                    F               3286   3.797264\n",
       "Equipment           M               8420   9.730055\n",
       "                    F               2501   2.890127"
      ]
     },
     "execution_count": 16,
     "metadata": {},
     "output_type": "execute_result"
    }
   ],
   "source": [
    "dist = pd.concat([fi,fr],axis=1)\n",
    "dist.columns = ['fi', 'fr']\n",
    "dist"
   ]
  },
  {
   "cell_type": "markdown",
   "id": "e4a37582",
   "metadata": {},
   "source": [
    "### C)"
   ]
  },
  {
   "cell_type": "markdown",
   "id": "a9066aed",
   "metadata": {},
   "source": [
    "Usando o .plot.bar() é possivel fazer o gráfico da tabela de contingência."
   ]
  },
  {
   "cell_type": "code",
   "execution_count": 17,
   "id": "8d893d63",
   "metadata": {},
   "outputs": [
    {
     "data": {
      "text/plain": [
       "array([<AxesSubplot:title={'center':'fi'}, xlabel='violation,driver_gender'>,\n",
       "       <AxesSubplot:title={'center':'fr'}, xlabel='violation,driver_gender'>],\n",
       "      dtype=object)"
      ]
     },
     "execution_count": 17,
     "metadata": {},
     "output_type": "execute_result"
    },
    {
     "data": {
      "image/png": "[encoded data removed]",
      "text/plain": [
       "<Figure size 432x288 with 2 Axes>"
      ]
     },
     "metadata": {
      "needs_background": "light"
     },
     "output_type": "display_data"
    }
   ],
   "source": [
    "dist.plot.bar(subplots=True)"
   ]
  },
  {
   "cell_type": "markdown",
   "id": "81336db6",
   "metadata": {},
   "source": [
    "### D)"
   ]
  },
  {
   "cell_type": "markdown",
   "id": "a9ef6cec",
   "metadata": {},
   "source": [
    "Mais uma vez, o sexo masculino tem maior número em todos os indices. Tanto em Warning quanto em citation os homens estão na frente."
   ]
  },
  {
   "cell_type": "code",
   "execution_count": 18,
   "id": "ae63ec60",
   "metadata": {},
   "outputs": [],
   "source": [
    "fi=df_police[['stop_outcome','driver_gender']].value_counts()\n",
    "fr=df_police[['stop_outcome','driver_gender']].value_counts(normalize=True)"
   ]
  },
  {
   "cell_type": "code",
   "execution_count": 19,
   "id": "180830a5",
   "metadata": {},
   "outputs": [],
   "source": [
    "fi=fi.sort_index(ascending=False)\n",
    "fr=(fr*100).sort_index(ascending=False)"
   ]
  },
  {
   "cell_type": "code",
   "execution_count": 20,
   "id": "ddfdfb69",
   "metadata": {},
   "outputs": [
    {
     "data": {
      "text/html": [
       "<div>\n",
       "<style scoped>\n",
       "    .dataframe tbody tr th:only-of-type {\n",
       "        vertical-align: middle;\n",
       "    }\n",
       "\n",
       "    .dataframe tbody tr th {\n",
       "        vertical-align: top;\n",
       "    }\n",
       "\n",
       "    .dataframe thead th {\n",
       "        text-align: right;\n",
       "    }\n",
       "</style>\n",
       "<table border=\"1\" class=\"dataframe\">\n",
       "  <thead>\n",
       "    <tr style=\"text-align: right;\">\n",
       "      <th></th>\n",
       "      <th></th>\n",
       "      <th>fi</th>\n",
       "      <th>fr</th>\n",
       "    </tr>\n",
       "    <tr>\n",
       "      <th>stop_outcome</th>\n",
       "      <th>driver_gender</th>\n",
       "      <th></th>\n",
       "      <th></th>\n",
       "    </tr>\n",
       "  </thead>\n",
       "  <tbody>\n",
       "    <tr>\n",
       "      <th rowspan=\"2\" valign=\"top\">Warning</th>\n",
       "      <th>M</th>\n",
       "      <td>3651</td>\n",
       "      <td>4.219053</td>\n",
       "    </tr>\n",
       "    <tr>\n",
       "      <th>F</th>\n",
       "      <td>1485</td>\n",
       "      <td>1.716049</td>\n",
       "    </tr>\n",
       "    <tr>\n",
       "      <th rowspan=\"2\" valign=\"top\">No Action</th>\n",
       "      <th>M</th>\n",
       "      <td>423</td>\n",
       "      <td>0.488814</td>\n",
       "    </tr>\n",
       "    <tr>\n",
       "      <th>F</th>\n",
       "      <td>201</td>\n",
       "      <td>0.232273</td>\n",
       "    </tr>\n",
       "    <tr>\n",
       "      <th rowspan=\"2\" valign=\"top\">N/D</th>\n",
       "      <th>M</th>\n",
       "      <td>439</td>\n",
       "      <td>0.507303</td>\n",
       "    </tr>\n",
       "    <tr>\n",
       "      <th>F</th>\n",
       "      <td>168</td>\n",
       "      <td>0.194139</td>\n",
       "    </tr>\n",
       "    <tr>\n",
       "      <th rowspan=\"2\" valign=\"top\">Citation</th>\n",
       "      <th>M</th>\n",
       "      <td>55840</td>\n",
       "      <td>64.528058</td>\n",
       "    </tr>\n",
       "    <tr>\n",
       "      <th>F</th>\n",
       "      <td>21251</td>\n",
       "      <td>24.557410</td>\n",
       "    </tr>\n",
       "    <tr>\n",
       "      <th rowspan=\"2\" valign=\"top\">Arrest Passenger</th>\n",
       "      <th>M</th>\n",
       "      <td>230</td>\n",
       "      <td>0.265785</td>\n",
       "    </tr>\n",
       "    <tr>\n",
       "      <th>F</th>\n",
       "      <td>113</td>\n",
       "      <td>0.130581</td>\n",
       "    </tr>\n",
       "    <tr>\n",
       "      <th rowspan=\"2\" valign=\"top\">Arrest Driver</th>\n",
       "      <th>M</th>\n",
       "      <td>2179</td>\n",
       "      <td>2.518027</td>\n",
       "    </tr>\n",
       "    <tr>\n",
       "      <th>F</th>\n",
       "      <td>556</td>\n",
       "      <td>0.642507</td>\n",
       "    </tr>\n",
       "  </tbody>\n",
       "</table>\n",
       "</div>"
      ],
      "text/plain": [
       "                                   fi         fr\n",
       "stop_outcome     driver_gender                  \n",
       "Warning          M               3651   4.219053\n",
       "                 F               1485   1.716049\n",
       "No Action        M                423   0.488814\n",
       "                 F                201   0.232273\n",
       "N/D              M                439   0.507303\n",
       "                 F                168   0.194139\n",
       "Citation         M              55840  64.528058\n",
       "                 F              21251  24.557410\n",
       "Arrest Passenger M                230   0.265785\n",
       "                 F                113   0.130581\n",
       "Arrest Driver    M               2179   2.518027\n",
       "                 F                556   0.642507"
      ]
     },
     "execution_count": 20,
     "metadata": {},
     "output_type": "execute_result"
    }
   ],
   "source": [
    "dist = pd.concat([fi,fr],axis=1)\n",
    "dist.columns = ['fi', 'fr']\n",
    "dist"
   ]
  },
  {
   "cell_type": "markdown",
   "id": "d71141b1",
   "metadata": {},
   "source": [
    "### E)"
   ]
  },
  {
   "cell_type": "markdown",
   "id": "e9d994b8",
   "metadata": {},
   "source": [
    "De acordo com a analise da tabela abaixo é perceptivel que o sexo masculino é revistado com uma frequencia maior que o sexo feminino."
   ]
  },
  {
   "cell_type": "code",
   "execution_count": 21,
   "id": "a49f3945",
   "metadata": {},
   "outputs": [],
   "source": [
    "dist=df_police[['search_conducted','driver_gender']].astype('object').value_counts()"
   ]
  },
  {
   "cell_type": "code",
   "execution_count": 22,
   "id": "4c20b04b",
   "metadata": {},
   "outputs": [
    {
     "data": {
      "text/plain": [
       "search_conducted  driver_gender\n",
       "False             M                59911\n",
       "                  F                23318\n",
       "True              M                 2851\n",
       "                  F                  456\n",
       "dtype: int64"
      ]
     },
     "execution_count": 22,
     "metadata": {},
     "output_type": "execute_result"
    }
   ],
   "source": [
    "dist"
   ]
  },
  {
   "cell_type": "markdown",
   "id": "8a4279ca",
   "metadata": {},
   "source": [
    "### F)"
   ]
  },
  {
   "cell_type": "markdown",
   "id": "4a970c52",
   "metadata": {},
   "source": [
    "Fazendo as operações abaixou resultou em em revista para 86,2% para motoristas masculinos e 13,7 % para motoristas do sexo feminino."
   ]
  },
  {
   "cell_type": "code",
   "execution_count": 23,
   "id": "c4e25324",
   "metadata": {},
   "outputs": [
    {
     "data": {
      "text/plain": [
       "3307"
      ]
     },
     "execution_count": 23,
     "metadata": {},
     "output_type": "execute_result"
    }
   ],
   "source": [
    "taxa = dist[1]\n",
    "taxa.sum()"
   ]
  },
  {
   "cell_type": "code",
   "execution_count": 24,
   "id": "82931333",
   "metadata": {},
   "outputs": [
    {
     "data": {
      "text/plain": [
       "2851"
      ]
     },
     "execution_count": 24,
     "metadata": {},
     "output_type": "execute_result"
    }
   ],
   "source": [
    "taxmasculino = dist[1][0]\n",
    "taxmasculino"
   ]
  },
  {
   "cell_type": "code",
   "execution_count": 25,
   "id": "b920b261",
   "metadata": {},
   "outputs": [
    {
     "data": {
      "text/plain": [
       "456"
      ]
     },
     "execution_count": 25,
     "metadata": {},
     "output_type": "execute_result"
    }
   ],
   "source": [
    "taxfeminino = dist[1][1]\n",
    "taxfeminino"
   ]
  },
  {
   "cell_type": "code",
   "execution_count": 26,
   "id": "5c6e012d",
   "metadata": {},
   "outputs": [
    {
     "data": {
      "text/plain": [
       "86.21106743271848"
      ]
     },
     "execution_count": 26,
     "metadata": {},
     "output_type": "execute_result"
    }
   ],
   "source": [
    "distmasculino = taxmasculino * 100/taxa.sum()\n",
    "distmasculino"
   ]
  },
  {
   "cell_type": "code",
   "execution_count": 27,
   "id": "377a627e",
   "metadata": {},
   "outputs": [
    {
     "data": {
      "text/plain": [
       "13.788932567281524"
      ]
     },
     "execution_count": 27,
     "metadata": {},
     "output_type": "execute_result"
    }
   ],
   "source": [
    "distfeminino = taxfeminino * 100/taxa.sum()\n",
    "distfeminino"
   ]
  },
  {
   "cell_type": "markdown",
   "id": "5859c6ca",
   "metadata": {},
   "source": [
    "### G)"
   ]
  },
  {
   "cell_type": "markdown",
   "id": "e29b9de7",
   "metadata": {},
   "source": [
    "Em todas as hipóteses o sexo feminino tem uma taxa menor."
   ]
  },
  {
   "cell_type": "code",
   "execution_count": 28,
   "id": "d4ce1cf7",
   "metadata": {},
   "outputs": [],
   "source": [
    "gp = df_police.groupby(['driver_gender','violation']).size().unstack(1)\n"
   ]
  },
  {
   "cell_type": "code",
   "execution_count": 29,
   "id": "06526643",
   "metadata": {},
   "outputs": [],
   "source": [
    "gp.loc['Total',:]= gp.sum(axis=0)\n",
    "gp.loc[:,'Total'] = gp.sum(axis=1)"
   ]
  },
  {
   "cell_type": "code",
   "execution_count": 30,
   "id": "fc9194c2",
   "metadata": {
    "scrolled": true
   },
   "outputs": [
    {
     "data": {
      "text/html": [
       "<div>\n",
       "<style scoped>\n",
       "    .dataframe tbody tr th:only-of-type {\n",
       "        vertical-align: middle;\n",
       "    }\n",
       "\n",
       "    .dataframe tbody tr th {\n",
       "        vertical-align: top;\n",
       "    }\n",
       "\n",
       "    .dataframe thead th {\n",
       "        text-align: right;\n",
       "    }\n",
       "</style>\n",
       "<table border=\"1\" class=\"dataframe\">\n",
       "  <thead>\n",
       "    <tr style=\"text-align: right;\">\n",
       "      <th>violation</th>\n",
       "      <th>Equipment</th>\n",
       "      <th>Moving violation</th>\n",
       "      <th>Other</th>\n",
       "      <th>Registration/plates</th>\n",
       "      <th>Seat belt</th>\n",
       "      <th>Speeding</th>\n",
       "      <th>Total</th>\n",
       "    </tr>\n",
       "    <tr>\n",
       "      <th>driver_gender</th>\n",
       "      <th></th>\n",
       "      <th></th>\n",
       "      <th></th>\n",
       "      <th></th>\n",
       "      <th></th>\n",
       "      <th></th>\n",
       "      <th></th>\n",
       "    </tr>\n",
       "  </thead>\n",
       "  <tbody>\n",
       "    <tr>\n",
       "      <th>F</th>\n",
       "      <td>2501.0</td>\n",
       "      <td>3286.0</td>\n",
       "      <td>707.0</td>\n",
       "      <td>1056.0</td>\n",
       "      <td>578.0</td>\n",
       "      <td>15646.0</td>\n",
       "      <td>23774.0</td>\n",
       "    </tr>\n",
       "    <tr>\n",
       "      <th>M</th>\n",
       "      <td>8420.0</td>\n",
       "      <td>12938.0</td>\n",
       "      <td>3702.0</td>\n",
       "      <td>2647.0</td>\n",
       "      <td>2278.0</td>\n",
       "      <td>32777.0</td>\n",
       "      <td>62762.0</td>\n",
       "    </tr>\n",
       "    <tr>\n",
       "      <th>Total</th>\n",
       "      <td>10921.0</td>\n",
       "      <td>16224.0</td>\n",
       "      <td>4409.0</td>\n",
       "      <td>3703.0</td>\n",
       "      <td>2856.0</td>\n",
       "      <td>48423.0</td>\n",
       "      <td>86536.0</td>\n",
       "    </tr>\n",
       "  </tbody>\n",
       "</table>\n",
       "</div>"
      ],
      "text/plain": [
       "violation      Equipment  Moving violation   Other  Registration/plates  \\\n",
       "driver_gender                                                             \n",
       "F                 2501.0            3286.0   707.0               1056.0   \n",
       "M                 8420.0           12938.0  3702.0               2647.0   \n",
       "Total            10921.0           16224.0  4409.0               3703.0   \n",
       "\n",
       "violation      Seat belt  Speeding    Total  \n",
       "driver_gender                                \n",
       "F                  578.0   15646.0  23774.0  \n",
       "M                 2278.0   32777.0  62762.0  \n",
       "Total             2856.0   48423.0  86536.0  "
      ]
     },
     "execution_count": 30,
     "metadata": {},
     "output_type": "execute_result"
    }
   ],
   "source": [
    "gp"
   ]
  },
  {
   "cell_type": "markdown",
   "id": "11b2a81b",
   "metadata": {},
   "source": [
    "## Questão 3"
   ]
  },
  {
   "cell_type": "markdown",
   "id": "451055b6",
   "metadata": {},
   "source": [
    "### A)"
   ]
  },
  {
   "cell_type": "markdown",
   "id": "d634a649",
   "metadata": {},
   "source": [
    "Para fazer a média usa-se o metodo .mean()"
   ]
  },
  {
   "cell_type": "code",
   "execution_count": 31,
   "id": "79d712dc",
   "metadata": {},
   "outputs": [
    {
     "data": {
      "text/plain": [
       "0.0355690117407784"
      ]
     },
     "execution_count": 31,
     "metadata": {},
     "output_type": "execute_result"
    }
   ],
   "source": [
    "df_police['is_arrested'].mean()\n"
   ]
  },
  {
   "cell_type": "markdown",
   "id": "3afd1619",
   "metadata": {},
   "source": [
    "### B)"
   ]
  },
  {
   "cell_type": "code",
   "execution_count": 32,
   "id": "ceb5ca1f",
   "metadata": {},
   "outputs": [],
   "source": [
    "df_police = df_police.reset_index()\n"
   ]
  },
  {
   "cell_type": "code",
   "execution_count": 33,
   "id": "ba691346",
   "metadata": {},
   "outputs": [],
   "source": [
    "df_police['hourly_arrest_rate'] = df_police.groupby(by=df_police['stop_datetime'].dt.hour, sort=False)['is_arrested'].sum()"
   ]
  },
  {
   "cell_type": "code",
   "execution_count": 34,
   "id": "b16b954a",
   "metadata": {},
   "outputs": [],
   "source": [
    "df = df_police.dropna(subset=[\"hourly_arrest_rate\"])"
   ]
  },
  {
   "cell_type": "code",
   "execution_count": 35,
   "id": "8b82f604",
   "metadata": {},
   "outputs": [
    {
     "data": {
      "text/html": [
       "<div>\n",
       "<style scoped>\n",
       "    .dataframe tbody tr th:only-of-type {\n",
       "        vertical-align: middle;\n",
       "    }\n",
       "\n",
       "    .dataframe tbody tr th {\n",
       "        vertical-align: top;\n",
       "    }\n",
       "\n",
       "    .dataframe thead th {\n",
       "        text-align: right;\n",
       "    }\n",
       "</style>\n",
       "<table border=\"1\" class=\"dataframe\">\n",
       "  <thead>\n",
       "    <tr style=\"text-align: right;\">\n",
       "      <th></th>\n",
       "      <th>stop_datetime</th>\n",
       "      <th>stop_date</th>\n",
       "      <th>stop_time</th>\n",
       "      <th>driver_gender</th>\n",
       "      <th>driver_race</th>\n",
       "      <th>violation_raw</th>\n",
       "      <th>violation</th>\n",
       "      <th>search_conducted</th>\n",
       "      <th>search_type</th>\n",
       "      <th>stop_outcome</th>\n",
       "      <th>is_arrested</th>\n",
       "      <th>stop_duration</th>\n",
       "      <th>drugs_related_stop</th>\n",
       "      <th>district</th>\n",
       "      <th>hourly_arrest_rate</th>\n",
       "    </tr>\n",
       "  </thead>\n",
       "  <tbody>\n",
       "    <tr>\n",
       "      <th>0</th>\n",
       "      <td>2005-01-04 12:55:00</td>\n",
       "      <td>2005-01-04</td>\n",
       "      <td>12:55</td>\n",
       "      <td>M</td>\n",
       "      <td>White</td>\n",
       "      <td>Equipment/Inspection Violation</td>\n",
       "      <td>Equipment</td>\n",
       "      <td>False</td>\n",
       "      <td>NaN</td>\n",
       "      <td>Citation</td>\n",
       "      <td>False</td>\n",
       "      <td>0-15 Min</td>\n",
       "      <td>False</td>\n",
       "      <td>Zone X4</td>\n",
       "      <td>248.0</td>\n",
       "    </tr>\n",
       "    <tr>\n",
       "      <th>1</th>\n",
       "      <td>2005-01-23 23:15:00</td>\n",
       "      <td>2005-01-23</td>\n",
       "      <td>23:15</td>\n",
       "      <td>M</td>\n",
       "      <td>White</td>\n",
       "      <td>Speeding</td>\n",
       "      <td>Speeding</td>\n",
       "      <td>False</td>\n",
       "      <td>NaN</td>\n",
       "      <td>Citation</td>\n",
       "      <td>False</td>\n",
       "      <td>0-15 Min</td>\n",
       "      <td>False</td>\n",
       "      <td>Zone K3</td>\n",
       "      <td>262.0</td>\n",
       "    </tr>\n",
       "    <tr>\n",
       "      <th>2</th>\n",
       "      <td>2005-02-17 04:15:00</td>\n",
       "      <td>2005-02-17</td>\n",
       "      <td>04:15</td>\n",
       "      <td>M</td>\n",
       "      <td>White</td>\n",
       "      <td>Speeding</td>\n",
       "      <td>Speeding</td>\n",
       "      <td>False</td>\n",
       "      <td>NaN</td>\n",
       "      <td>Citation</td>\n",
       "      <td>False</td>\n",
       "      <td>0-15 Min</td>\n",
       "      <td>False</td>\n",
       "      <td>Zone X4</td>\n",
       "      <td>163.0</td>\n",
       "    </tr>\n",
       "    <tr>\n",
       "      <th>3</th>\n",
       "      <td>2005-02-20 17:15:00</td>\n",
       "      <td>2005-02-20</td>\n",
       "      <td>17:15</td>\n",
       "      <td>M</td>\n",
       "      <td>White</td>\n",
       "      <td>Call for Service</td>\n",
       "      <td>Other</td>\n",
       "      <td>False</td>\n",
       "      <td>NaN</td>\n",
       "      <td>Arrest Driver</td>\n",
       "      <td>True</td>\n",
       "      <td>16-30 Min</td>\n",
       "      <td>False</td>\n",
       "      <td>Zone X1</td>\n",
       "      <td>64.0</td>\n",
       "    </tr>\n",
       "    <tr>\n",
       "      <th>4</th>\n",
       "      <td>2005-02-24 01:20:00</td>\n",
       "      <td>2005-02-24</td>\n",
       "      <td>01:20</td>\n",
       "      <td>F</td>\n",
       "      <td>White</td>\n",
       "      <td>Speeding</td>\n",
       "      <td>Speeding</td>\n",
       "      <td>False</td>\n",
       "      <td>NaN</td>\n",
       "      <td>Citation</td>\n",
       "      <td>False</td>\n",
       "      <td>0-15 Min</td>\n",
       "      <td>False</td>\n",
       "      <td>Zone X3</td>\n",
       "      <td>12.0</td>\n",
       "    </tr>\n",
       "    <tr>\n",
       "      <th>5</th>\n",
       "      <td>2005-03-14 10:00:00</td>\n",
       "      <td>2005-03-14</td>\n",
       "      <td>10:00</td>\n",
       "      <td>F</td>\n",
       "      <td>White</td>\n",
       "      <td>Speeding</td>\n",
       "      <td>Speeding</td>\n",
       "      <td>False</td>\n",
       "      <td>NaN</td>\n",
       "      <td>Citation</td>\n",
       "      <td>False</td>\n",
       "      <td>0-15 Min</td>\n",
       "      <td>False</td>\n",
       "      <td>Zone K3</td>\n",
       "      <td>8.0</td>\n",
       "    </tr>\n",
       "    <tr>\n",
       "      <th>6</th>\n",
       "      <td>2005-03-29 21:55:00</td>\n",
       "      <td>2005-03-29</td>\n",
       "      <td>21:55</td>\n",
       "      <td>M</td>\n",
       "      <td>White</td>\n",
       "      <td>Speeding</td>\n",
       "      <td>Speeding</td>\n",
       "      <td>False</td>\n",
       "      <td>NaN</td>\n",
       "      <td>Citation</td>\n",
       "      <td>False</td>\n",
       "      <td>0-15 Min</td>\n",
       "      <td>False</td>\n",
       "      <td>Zone K3</td>\n",
       "      <td>43.0</td>\n",
       "    </tr>\n",
       "    <tr>\n",
       "      <th>7</th>\n",
       "      <td>2005-04-04 21:25:00</td>\n",
       "      <td>2005-04-04</td>\n",
       "      <td>21:25</td>\n",
       "      <td>M</td>\n",
       "      <td>White</td>\n",
       "      <td>Speeding</td>\n",
       "      <td>Speeding</td>\n",
       "      <td>False</td>\n",
       "      <td>NaN</td>\n",
       "      <td>Citation</td>\n",
       "      <td>False</td>\n",
       "      <td>0-15 Min</td>\n",
       "      <td>False</td>\n",
       "      <td>Zone K1</td>\n",
       "      <td>57.0</td>\n",
       "    </tr>\n",
       "    <tr>\n",
       "      <th>8</th>\n",
       "      <td>2005-07-14 11:20:00</td>\n",
       "      <td>2005-07-14</td>\n",
       "      <td>11:20</td>\n",
       "      <td>F</td>\n",
       "      <td>White</td>\n",
       "      <td>Speeding</td>\n",
       "      <td>Speeding</td>\n",
       "      <td>False</td>\n",
       "      <td>NaN</td>\n",
       "      <td>Citation</td>\n",
       "      <td>False</td>\n",
       "      <td>0-15 Min</td>\n",
       "      <td>False</td>\n",
       "      <td>Zone X4</td>\n",
       "      <td>108.0</td>\n",
       "    </tr>\n",
       "    <tr>\n",
       "      <th>9</th>\n",
       "      <td>2005-07-14 19:55:00</td>\n",
       "      <td>2005-07-14</td>\n",
       "      <td>19:55</td>\n",
       "      <td>M</td>\n",
       "      <td>White</td>\n",
       "      <td>Speeding</td>\n",
       "      <td>Speeding</td>\n",
       "      <td>False</td>\n",
       "      <td>NaN</td>\n",
       "      <td>Citation</td>\n",
       "      <td>False</td>\n",
       "      <td>0-15 Min</td>\n",
       "      <td>False</td>\n",
       "      <td>Zone X4</td>\n",
       "      <td>162.0</td>\n",
       "    </tr>\n",
       "    <tr>\n",
       "      <th>10</th>\n",
       "      <td>2005-07-18 19:10:00</td>\n",
       "      <td>2005-07-18</td>\n",
       "      <td>19:10</td>\n",
       "      <td>M</td>\n",
       "      <td>White</td>\n",
       "      <td>Speeding</td>\n",
       "      <td>Speeding</td>\n",
       "      <td>False</td>\n",
       "      <td>NaN</td>\n",
       "      <td>Citation</td>\n",
       "      <td>False</td>\n",
       "      <td>0-15 Min</td>\n",
       "      <td>False</td>\n",
       "      <td>Zone K3</td>\n",
       "      <td>200.0</td>\n",
       "    </tr>\n",
       "    <tr>\n",
       "      <th>11</th>\n",
       "      <td>2005-07-18 19:30:00</td>\n",
       "      <td>2005-07-18</td>\n",
       "      <td>19:30</td>\n",
       "      <td>F</td>\n",
       "      <td>White</td>\n",
       "      <td>Speeding</td>\n",
       "      <td>Speeding</td>\n",
       "      <td>False</td>\n",
       "      <td>NaN</td>\n",
       "      <td>Citation</td>\n",
       "      <td>False</td>\n",
       "      <td>0-15 Min</td>\n",
       "      <td>False</td>\n",
       "      <td>Zone K3</td>\n",
       "      <td>165.0</td>\n",
       "    </tr>\n",
       "    <tr>\n",
       "      <th>12</th>\n",
       "      <td>2005-07-19 00:30:00</td>\n",
       "      <td>2005-07-19</td>\n",
       "      <td>00:30</td>\n",
       "      <td>M</td>\n",
       "      <td>White</td>\n",
       "      <td>Speeding</td>\n",
       "      <td>Speeding</td>\n",
       "      <td>False</td>\n",
       "      <td>NaN</td>\n",
       "      <td>Citation</td>\n",
       "      <td>False</td>\n",
       "      <td>0-15 Min</td>\n",
       "      <td>False</td>\n",
       "      <td>Zone K3</td>\n",
       "      <td>130.0</td>\n",
       "    </tr>\n",
       "    <tr>\n",
       "      <th>13</th>\n",
       "      <td>2005-07-24 20:10:00</td>\n",
       "      <td>2005-07-24</td>\n",
       "      <td>20:10</td>\n",
       "      <td>F</td>\n",
       "      <td>White</td>\n",
       "      <td>Speeding</td>\n",
       "      <td>Speeding</td>\n",
       "      <td>False</td>\n",
       "      <td>NaN</td>\n",
       "      <td>Citation</td>\n",
       "      <td>False</td>\n",
       "      <td>0-15 Min</td>\n",
       "      <td>False</td>\n",
       "      <td>Zone K3</td>\n",
       "      <td>140.0</td>\n",
       "    </tr>\n",
       "    <tr>\n",
       "      <th>14</th>\n",
       "      <td>2005-08-18 10:57:00</td>\n",
       "      <td>2005-08-18</td>\n",
       "      <td>10:57</td>\n",
       "      <td>F</td>\n",
       "      <td>White</td>\n",
       "      <td>Speeding</td>\n",
       "      <td>Speeding</td>\n",
       "      <td>False</td>\n",
       "      <td>NaN</td>\n",
       "      <td>Citation</td>\n",
       "      <td>False</td>\n",
       "      <td>0-15 Min</td>\n",
       "      <td>False</td>\n",
       "      <td>Zone K3</td>\n",
       "      <td>163.0</td>\n",
       "    </tr>\n",
       "    <tr>\n",
       "      <th>15</th>\n",
       "      <td>2005-09-11 00:10:00</td>\n",
       "      <td>2005-09-11</td>\n",
       "      <td>00:10</td>\n",
       "      <td>M</td>\n",
       "      <td>White</td>\n",
       "      <td>Other Traffic Violation</td>\n",
       "      <td>Moving violation</td>\n",
       "      <td>False</td>\n",
       "      <td>NaN</td>\n",
       "      <td>Arrest Driver</td>\n",
       "      <td>True</td>\n",
       "      <td>30+ Min</td>\n",
       "      <td>False</td>\n",
       "      <td>Zone X4</td>\n",
       "      <td>146.0</td>\n",
       "    </tr>\n",
       "    <tr>\n",
       "      <th>16</th>\n",
       "      <td>2005-09-11 11:45:00</td>\n",
       "      <td>2005-09-11</td>\n",
       "      <td>11:45</td>\n",
       "      <td>F</td>\n",
       "      <td>White</td>\n",
       "      <td>Speeding</td>\n",
       "      <td>Speeding</td>\n",
       "      <td>False</td>\n",
       "      <td>NaN</td>\n",
       "      <td>Citation</td>\n",
       "      <td>False</td>\n",
       "      <td>0-15 Min</td>\n",
       "      <td>False</td>\n",
       "      <td>Zone X3</td>\n",
       "      <td>125.0</td>\n",
       "    </tr>\n",
       "    <tr>\n",
       "      <th>17</th>\n",
       "      <td>2005-09-20 22:25:00</td>\n",
       "      <td>2005-09-20</td>\n",
       "      <td>22:25</td>\n",
       "      <td>M</td>\n",
       "      <td>White</td>\n",
       "      <td>Speeding</td>\n",
       "      <td>Speeding</td>\n",
       "      <td>False</td>\n",
       "      <td>NaN</td>\n",
       "      <td>Citation</td>\n",
       "      <td>False</td>\n",
       "      <td>0-15 Min</td>\n",
       "      <td>False</td>\n",
       "      <td>Zone X4</td>\n",
       "      <td>105.0</td>\n",
       "    </tr>\n",
       "    <tr>\n",
       "      <th>18</th>\n",
       "      <td>2005-09-29 15:31:00</td>\n",
       "      <td>2005-09-29</td>\n",
       "      <td>15:31</td>\n",
       "      <td>M</td>\n",
       "      <td>White</td>\n",
       "      <td>Other Traffic Violation</td>\n",
       "      <td>Moving violation</td>\n",
       "      <td>False</td>\n",
       "      <td>NaN</td>\n",
       "      <td>Citation</td>\n",
       "      <td>False</td>\n",
       "      <td>0-15 Min</td>\n",
       "      <td>False</td>\n",
       "      <td>Zone X3</td>\n",
       "      <td>80.0</td>\n",
       "    </tr>\n",
       "    <tr>\n",
       "      <th>19</th>\n",
       "      <td>2005-09-29 22:45:00</td>\n",
       "      <td>2005-09-29</td>\n",
       "      <td>22:45</td>\n",
       "      <td>M</td>\n",
       "      <td>White</td>\n",
       "      <td>Speeding</td>\n",
       "      <td>Speeding</td>\n",
       "      <td>False</td>\n",
       "      <td>NaN</td>\n",
       "      <td>Citation</td>\n",
       "      <td>False</td>\n",
       "      <td>0-15 Min</td>\n",
       "      <td>False</td>\n",
       "      <td>Zone K3</td>\n",
       "      <td>79.0</td>\n",
       "    </tr>\n",
       "    <tr>\n",
       "      <th>20</th>\n",
       "      <td>2005-09-30 09:50:00</td>\n",
       "      <td>2005-09-30</td>\n",
       "      <td>09:50</td>\n",
       "      <td>M</td>\n",
       "      <td>White</td>\n",
       "      <td>Speeding</td>\n",
       "      <td>Speeding</td>\n",
       "      <td>False</td>\n",
       "      <td>NaN</td>\n",
       "      <td>Citation</td>\n",
       "      <td>False</td>\n",
       "      <td>0-15 Min</td>\n",
       "      <td>False</td>\n",
       "      <td>Zone K2</td>\n",
       "      <td>120.0</td>\n",
       "    </tr>\n",
       "    <tr>\n",
       "      <th>21</th>\n",
       "      <td>2005-09-30 14:00:00</td>\n",
       "      <td>2005-09-30</td>\n",
       "      <td>14:00</td>\n",
       "      <td>M</td>\n",
       "      <td>Asian</td>\n",
       "      <td>Speeding</td>\n",
       "      <td>Speeding</td>\n",
       "      <td>False</td>\n",
       "      <td>NaN</td>\n",
       "      <td>Citation</td>\n",
       "      <td>False</td>\n",
       "      <td>0-15 Min</td>\n",
       "      <td>False</td>\n",
       "      <td>Zone K2</td>\n",
       "      <td>85.0</td>\n",
       "    </tr>\n",
       "    <tr>\n",
       "      <th>22</th>\n",
       "      <td>2005-09-30 18:00:00</td>\n",
       "      <td>2005-09-30</td>\n",
       "      <td>18:00</td>\n",
       "      <td>M</td>\n",
       "      <td>White</td>\n",
       "      <td>Speeding</td>\n",
       "      <td>Speeding</td>\n",
       "      <td>False</td>\n",
       "      <td>NaN</td>\n",
       "      <td>Citation</td>\n",
       "      <td>False</td>\n",
       "      <td>0-15 Min</td>\n",
       "      <td>False</td>\n",
       "      <td>Zone X4</td>\n",
       "      <td>166.0</td>\n",
       "    </tr>\n",
       "    <tr>\n",
       "      <th>23</th>\n",
       "      <td>2005-10-01 00:20:00</td>\n",
       "      <td>2005-10-01</td>\n",
       "      <td>00:20</td>\n",
       "      <td>F</td>\n",
       "      <td>White</td>\n",
       "      <td>Speeding</td>\n",
       "      <td>Speeding</td>\n",
       "      <td>False</td>\n",
       "      <td>NaN</td>\n",
       "      <td>Citation</td>\n",
       "      <td>False</td>\n",
       "      <td>0-15 Min</td>\n",
       "      <td>False</td>\n",
       "      <td>Zone K3</td>\n",
       "      <td>247.0</td>\n",
       "    </tr>\n",
       "  </tbody>\n",
       "</table>\n",
       "</div>"
      ],
      "text/plain": [
       "         stop_datetime   stop_date stop_time driver_gender driver_race  \\\n",
       "0  2005-01-04 12:55:00  2005-01-04     12:55             M       White   \n",
       "1  2005-01-23 23:15:00  2005-01-23     23:15             M       White   \n",
       "2  2005-02-17 04:15:00  2005-02-17     04:15             M       White   \n",
       "3  2005-02-20 17:15:00  2005-02-20     17:15             M       White   \n",
       "4  2005-02-24 01:20:00  2005-02-24     01:20             F       White   \n",
       "5  2005-03-14 10:00:00  2005-03-14     10:00             F       White   \n",
       "6  2005-03-29 21:55:00  2005-03-29     21:55             M       White   \n",
       "7  2005-04-04 21:25:00  2005-04-04     21:25             M       White   \n",
       "8  2005-07-14 11:20:00  2005-07-14     11:20             F       White   \n",
       "9  2005-07-14 19:55:00  2005-07-14     19:55             M       White   \n",
       "10 2005-07-18 19:10:00  2005-07-18     19:10             M       White   \n",
       "11 2005-07-18 19:30:00  2005-07-18     19:30             F       White   \n",
       "12 2005-07-19 00:30:00  2005-07-19     00:30             M       White   \n",
       "13 2005-07-24 20:10:00  2005-07-24     20:10             F       White   \n",
       "14 2005-08-18 10:57:00  2005-08-18     10:57             F       White   \n",
       "15 2005-09-11 00:10:00  2005-09-11     00:10             M       White   \n",
       "16 2005-09-11 11:45:00  2005-09-11     11:45             F       White   \n",
       "17 2005-09-20 22:25:00  2005-09-20     22:25             M       White   \n",
       "18 2005-09-29 15:31:00  2005-09-29     15:31             M       White   \n",
       "19 2005-09-29 22:45:00  2005-09-29     22:45             M       White   \n",
       "20 2005-09-30 09:50:00  2005-09-30     09:50             M       White   \n",
       "21 2005-09-30 14:00:00  2005-09-30     14:00             M       Asian   \n",
       "22 2005-09-30 18:00:00  2005-09-30     18:00             M       White   \n",
       "23 2005-10-01 00:20:00  2005-10-01     00:20             F       White   \n",
       "\n",
       "                     violation_raw         violation  search_conducted  \\\n",
       "0   Equipment/Inspection Violation         Equipment             False   \n",
       "1                         Speeding          Speeding             False   \n",
       "2                         Speeding          Speeding             False   \n",
       "3                 Call for Service             Other             False   \n",
       "4                         Speeding          Speeding             False   \n",
       "5                         Speeding          Speeding             False   \n",
       "6                         Speeding          Speeding             False   \n",
       "7                         Speeding          Speeding             False   \n",
       "8                         Speeding          Speeding             False   \n",
       "9                         Speeding          Speeding             False   \n",
       "10                        Speeding          Speeding             False   \n",
       "11                        Speeding          Speeding             False   \n",
       "12                        Speeding          Speeding             False   \n",
       "13                        Speeding          Speeding             False   \n",
       "14                        Speeding          Speeding             False   \n",
       "15         Other Traffic Violation  Moving violation             False   \n",
       "16                        Speeding          Speeding             False   \n",
       "17                        Speeding          Speeding             False   \n",
       "18         Other Traffic Violation  Moving violation             False   \n",
       "19                        Speeding          Speeding             False   \n",
       "20                        Speeding          Speeding             False   \n",
       "21                        Speeding          Speeding             False   \n",
       "22                        Speeding          Speeding             False   \n",
       "23                        Speeding          Speeding             False   \n",
       "\n",
       "   search_type   stop_outcome is_arrested stop_duration  drugs_related_stop  \\\n",
       "0          NaN       Citation       False      0-15 Min               False   \n",
       "1          NaN       Citation       False      0-15 Min               False   \n",
       "2          NaN       Citation       False      0-15 Min               False   \n",
       "3          NaN  Arrest Driver        True     16-30 Min               False   \n",
       "4          NaN       Citation       False      0-15 Min               False   \n",
       "5          NaN       Citation       False      0-15 Min               False   \n",
       "6          NaN       Citation       False      0-15 Min               False   \n",
       "7          NaN       Citation       False      0-15 Min               False   \n",
       "8          NaN       Citation       False      0-15 Min               False   \n",
       "9          NaN       Citation       False      0-15 Min               False   \n",
       "10         NaN       Citation       False      0-15 Min               False   \n",
       "11         NaN       Citation       False      0-15 Min               False   \n",
       "12         NaN       Citation       False      0-15 Min               False   \n",
       "13         NaN       Citation       False      0-15 Min               False   \n",
       "14         NaN       Citation       False      0-15 Min               False   \n",
       "15         NaN  Arrest Driver        True       30+ Min               False   \n",
       "16         NaN       Citation       False      0-15 Min               False   \n",
       "17         NaN       Citation       False      0-15 Min               False   \n",
       "18         NaN       Citation       False      0-15 Min               False   \n",
       "19         NaN       Citation       False      0-15 Min               False   \n",
       "20         NaN       Citation       False      0-15 Min               False   \n",
       "21         NaN       Citation       False      0-15 Min               False   \n",
       "22         NaN       Citation       False      0-15 Min               False   \n",
       "23         NaN       Citation       False      0-15 Min               False   \n",
       "\n",
       "   district  hourly_arrest_rate  \n",
       "0   Zone X4               248.0  \n",
       "1   Zone K3               262.0  \n",
       "2   Zone X4               163.0  \n",
       "3   Zone X1                64.0  \n",
       "4   Zone X3                12.0  \n",
       "5   Zone K3                 8.0  \n",
       "6   Zone K3                43.0  \n",
       "7   Zone K1                57.0  \n",
       "8   Zone X4               108.0  \n",
       "9   Zone X4               162.0  \n",
       "10  Zone K3               200.0  \n",
       "11  Zone K3               165.0  \n",
       "12  Zone K3               130.0  \n",
       "13  Zone K3               140.0  \n",
       "14  Zone K3               163.0  \n",
       "15  Zone X4               146.0  \n",
       "16  Zone X3               125.0  \n",
       "17  Zone X4               105.0  \n",
       "18  Zone X3                80.0  \n",
       "19  Zone K3                79.0  \n",
       "20  Zone K2               120.0  \n",
       "21  Zone K2                85.0  \n",
       "22  Zone X4               166.0  \n",
       "23  Zone K3               247.0  "
      ]
     },
     "execution_count": 35,
     "metadata": {},
     "output_type": "execute_result"
    }
   ],
   "source": [
    "df"
   ]
  },
  {
   "cell_type": "markdown",
   "id": "6165bada",
   "metadata": {},
   "source": [
    "### C)"
   ]
  },
  {
   "cell_type": "code",
   "execution_count": 36,
   "id": "26fdadeb",
   "metadata": {},
   "outputs": [
    {
     "data": {
      "text/plain": [
       "<AxesSubplot:>"
      ]
     },
     "execution_count": 36,
     "metadata": {},
     "output_type": "execute_result"
    },
    {
     "data": {
      "image/png": "[encoded data removed]",
      "text/plain": [
       "<Figure size 432x288 with 1 Axes>"
      ]
     },
     "metadata": {
      "needs_background": "light"
     },
     "output_type": "display_data"
    }
   ],
   "source": [
    "df['hourly_arrest_rate'].plot.bar()"
   ]
  },
  {
   "cell_type": "markdown",
   "id": "fbb1105b",
   "metadata": {},
   "source": [
    "### D)"
   ]
  },
  {
   "cell_type": "code",
   "execution_count": 37,
   "id": "6f061c58",
   "metadata": {},
   "outputs": [],
   "source": [
    "df_police['stop_date'] = pd.to_datetime(df_police['stop_date'])\n"
   ]
  },
  {
   "cell_type": "code",
   "execution_count": 38,
   "id": "a674a189",
   "metadata": {},
   "outputs": [],
   "source": [
    "Annual_drug_rate = df_police.groupby(df_police['stop_date'].dt.year)['drugs_related_stop'].sum()"
   ]
  },
  {
   "cell_type": "code",
   "execution_count": 39,
   "id": "0d9323be",
   "metadata": {},
   "outputs": [
    {
     "data": {
      "text/plain": [
       "<AxesSubplot:xlabel='stop_date'>"
      ]
     },
     "execution_count": 39,
     "metadata": {},
     "output_type": "execute_result"
    },
    {
     "data": {
      "image/png": "[encoded data removed]",
      "text/plain": [
       "<Figure size 432x288 with 1 Axes>"
      ]
     },
     "metadata": {
      "needs_background": "light"
     },
     "output_type": "display_data"
    }
   ],
   "source": [
    "Annual_drug_rate.plot()"
   ]
  },
  {
   "cell_type": "markdown",
   "id": "d67cc64a",
   "metadata": {},
   "source": [
    "### E)"
   ]
  },
  {
   "cell_type": "code",
   "execution_count": 40,
   "id": "5fe7ba5b",
   "metadata": {},
   "outputs": [],
   "source": [
    "Annual_search_rate = df_police.groupby(df_police['stop_date'].dt.year)['search_conducted'].sum()"
   ]
  },
  {
   "cell_type": "code",
   "execution_count": 41,
   "id": "7fa9a2a1",
   "metadata": {},
   "outputs": [
    {
     "data": {
      "text/plain": [
       "stop_date\n",
       "2005    121\n",
       "2006    420\n",
       "2007    398\n",
       "2008    333\n",
       "2009    358\n",
       "2010    320\n",
       "2011    275\n",
       "2012    349\n",
       "2013    227\n",
       "2014    276\n",
       "2015    230\n",
       "Name: search_conducted, dtype: int64"
      ]
     },
     "execution_count": 41,
     "metadata": {},
     "output_type": "execute_result"
    }
   ],
   "source": [
    "Annual_search_rate"
   ]
  },
  {
   "cell_type": "code",
   "execution_count": 42,
   "id": "502d4f8c",
   "metadata": {},
   "outputs": [],
   "source": [
    "Annual_drugsearch_rate = pd.concat([Annual_drug_rate, Annual_search_rate], axis=1)"
   ]
  },
  {
   "cell_type": "code",
   "execution_count": 43,
   "id": "026a69ff",
   "metadata": {},
   "outputs": [
    {
     "data": {
      "text/plain": [
       "<AxesSubplot:xlabel='stop_date'>"
      ]
     },
     "execution_count": 43,
     "metadata": {},
     "output_type": "execute_result"
    },
    {
     "data": {
      "image/png": "[encoded data removed]",
      "text/plain": [
       "<Figure size 432x288 with 1 Axes>"
      ]
     },
     "metadata": {
      "needs_background": "light"
     },
     "output_type": "display_data"
    }
   ],
   "source": [
    "Annual_drugsearch_rate.plot()"
   ]
  },
  {
   "cell_type": "markdown",
   "id": "d67cc64a",
   "metadata": {},
   "source": [
    "### F)"
   ]
  },
  {
   "cell_type": "code",
   "execution_count": 44,
   "id": "7ea07217",
   "metadata": {},
   "outputs": [],
   "source": [
    "gp4 = df_police.groupby(['district','violation']).size().unstack(1)"
   ]
  },
  {
   "cell_type": "code",
   "execution_count": 45,
   "id": "e4bbecaf",
   "metadata": {},
   "outputs": [],
   "source": [
    "gp4.loc['Total',:]= gp4.sum(axis=0)\n",
    "gp4.loc[:,'Total'] = gp4.sum(axis=1)"
   ]
  },
  {
   "cell_type": "code",
   "execution_count": 46,
   "id": "56e1353f",
   "metadata": {},
   "outputs": [
    {
     "data": {
      "text/html": [
       "<div>\n",
       "<style scoped>\n",
       "    .dataframe tbody tr th:only-of-type {\n",
       "        vertical-align: middle;\n",
       "    }\n",
       "\n",
       "    .dataframe tbody tr th {\n",
       "        vertical-align: top;\n",
       "    }\n",
       "\n",
       "    .dataframe thead th {\n",
       "        text-align: right;\n",
       "    }\n",
       "</style>\n",
       "<table border=\"1\" class=\"dataframe\">\n",
       "  <thead>\n",
       "    <tr style=\"text-align: right;\">\n",
       "      <th>violation</th>\n",
       "      <th>Equipment</th>\n",
       "      <th>Moving violation</th>\n",
       "      <th>Other</th>\n",
       "      <th>Registration/plates</th>\n",
       "      <th>Seat belt</th>\n",
       "      <th>Speeding</th>\n",
       "      <th>Total</th>\n",
       "    </tr>\n",
       "    <tr>\n",
       "      <th>district</th>\n",
       "      <th></th>\n",
       "      <th></th>\n",
       "      <th></th>\n",
       "      <th></th>\n",
       "      <th></th>\n",
       "      <th></th>\n",
       "      <th></th>\n",
       "    </tr>\n",
       "  </thead>\n",
       "  <tbody>\n",
       "    <tr>\n",
       "      <th>Zone K1</th>\n",
       "      <td>672.0</td>\n",
       "      <td>1254.0</td>\n",
       "      <td>290.0</td>\n",
       "      <td>120.0</td>\n",
       "      <td>NaN</td>\n",
       "      <td>5960.0</td>\n",
       "      <td>8296.0</td>\n",
       "    </tr>\n",
       "    <tr>\n",
       "      <th>Zone K2</th>\n",
       "      <td>2061.0</td>\n",
       "      <td>2962.0</td>\n",
       "      <td>942.0</td>\n",
       "      <td>768.0</td>\n",
       "      <td>481.0</td>\n",
       "      <td>10448.0</td>\n",
       "      <td>17662.0</td>\n",
       "    </tr>\n",
       "    <tr>\n",
       "      <th>Zone K3</th>\n",
       "      <td>2302.0</td>\n",
       "      <td>2898.0</td>\n",
       "      <td>705.0</td>\n",
       "      <td>695.0</td>\n",
       "      <td>638.0</td>\n",
       "      <td>12322.0</td>\n",
       "      <td>19560.0</td>\n",
       "    </tr>\n",
       "    <tr>\n",
       "      <th>Zone X1</th>\n",
       "      <td>296.0</td>\n",
       "      <td>671.0</td>\n",
       "      <td>143.0</td>\n",
       "      <td>38.0</td>\n",
       "      <td>74.0</td>\n",
       "      <td>1119.0</td>\n",
       "      <td>2341.0</td>\n",
       "    </tr>\n",
       "    <tr>\n",
       "      <th>Zone X3</th>\n",
       "      <td>2049.0</td>\n",
       "      <td>3086.0</td>\n",
       "      <td>769.0</td>\n",
       "      <td>671.0</td>\n",
       "      <td>820.0</td>\n",
       "      <td>8779.0</td>\n",
       "      <td>16174.0</td>\n",
       "    </tr>\n",
       "    <tr>\n",
       "      <th>Zone X4</th>\n",
       "      <td>3541.0</td>\n",
       "      <td>5353.0</td>\n",
       "      <td>1560.0</td>\n",
       "      <td>1411.0</td>\n",
       "      <td>843.0</td>\n",
       "      <td>9795.0</td>\n",
       "      <td>22503.0</td>\n",
       "    </tr>\n",
       "    <tr>\n",
       "      <th>Total</th>\n",
       "      <td>10921.0</td>\n",
       "      <td>16224.0</td>\n",
       "      <td>4409.0</td>\n",
       "      <td>3703.0</td>\n",
       "      <td>2856.0</td>\n",
       "      <td>48423.0</td>\n",
       "      <td>86536.0</td>\n",
       "    </tr>\n",
       "  </tbody>\n",
       "</table>\n",
       "</div>"
      ],
      "text/plain": [
       "violation  Equipment  Moving violation   Other  Registration/plates  \\\n",
       "district                                                              \n",
       "Zone K1        672.0            1254.0   290.0                120.0   \n",
       "Zone K2       2061.0            2962.0   942.0                768.0   \n",
       "Zone K3       2302.0            2898.0   705.0                695.0   \n",
       "Zone X1        296.0             671.0   143.0                 38.0   \n",
       "Zone X3       2049.0            3086.0   769.0                671.0   \n",
       "Zone X4       3541.0            5353.0  1560.0               1411.0   \n",
       "Total        10921.0           16224.0  4409.0               3703.0   \n",
       "\n",
       "violation  Seat belt  Speeding    Total  \n",
       "district                                 \n",
       "Zone K1          NaN    5960.0   8296.0  \n",
       "Zone K2        481.0   10448.0  17662.0  \n",
       "Zone K3        638.0   12322.0  19560.0  \n",
       "Zone X1         74.0    1119.0   2341.0  \n",
       "Zone X3        820.0    8779.0  16174.0  \n",
       "Zone X4        843.0    9795.0  22503.0  \n",
       "Total         2856.0   48423.0  86536.0  "
      ]
     },
     "execution_count": 46,
     "metadata": {},
     "output_type": "execute_result"
    }
   ],
   "source": [
    "gp4"
   ]
  },
  {
   "cell_type": "code",
   "execution_count": 47,
   "id": "4cf70183",
   "metadata": {},
   "outputs": [
    {
     "data": {
      "text/plain": [
       "<AxesSubplot:xlabel='district'>"
      ]
     },
     "execution_count": 47,
     "metadata": {},
     "output_type": "execute_result"
    },
    {
     "data": {
      "image/png": "[encoded data removed]",
      "text/plain": [
       "<Figure size 432x288 with 1 Axes>"
      ]
     },
     "metadata": {
      "needs_background": "light"
     },
     "output_type": "display_data"
    }
   ],
   "source": [
    "gp4.plot.bar()"
   ]
  },
  {
   "cell_type": "markdown",
   "id": "736203a4",
   "metadata": {},
   "source": [
    "## Questão 4"
   ]
  },
  {
   "cell_type": "markdown",
   "id": "55027a24",
   "metadata": {},
   "source": [
    "### A)"
   ]
  },
  {
   "cell_type": "code",
   "execution_count": 48,
   "id": "edd06837",
   "metadata": {},
   "outputs": [
    {
     "data": {
      "text/html": [
       "<div>\n",
       "<style scoped>\n",
       "    .dataframe tbody tr th:only-of-type {\n",
       "        vertical-align: middle;\n",
       "    }\n",
       "\n",
       "    .dataframe tbody tr th {\n",
       "        vertical-align: top;\n",
       "    }\n",
       "\n",
       "    .dataframe thead th {\n",
       "        text-align: right;\n",
       "    }\n",
       "</style>\n",
       "<table border=\"1\" class=\"dataframe\">\n",
       "  <thead>\n",
       "    <tr style=\"text-align: right;\">\n",
       "      <th></th>\n",
       "      <th>TMIN</th>\n",
       "      <th>TAVG</th>\n",
       "      <th>TMAX</th>\n",
       "    </tr>\n",
       "  </thead>\n",
       "  <tbody>\n",
       "    <tr>\n",
       "      <th>count</th>\n",
       "      <td>4017.000000</td>\n",
       "      <td>1217.000000</td>\n",
       "      <td>4017.000000</td>\n",
       "    </tr>\n",
       "    <tr>\n",
       "      <th>mean</th>\n",
       "      <td>43.484441</td>\n",
       "      <td>52.493016</td>\n",
       "      <td>61.268608</td>\n",
       "    </tr>\n",
       "    <tr>\n",
       "      <th>std</th>\n",
       "      <td>17.020298</td>\n",
       "      <td>17.830714</td>\n",
       "      <td>18.199517</td>\n",
       "    </tr>\n",
       "    <tr>\n",
       "      <th>min</th>\n",
       "      <td>-5.000000</td>\n",
       "      <td>6.000000</td>\n",
       "      <td>15.000000</td>\n",
       "    </tr>\n",
       "    <tr>\n",
       "      <th>25%</th>\n",
       "      <td>30.000000</td>\n",
       "      <td>39.000000</td>\n",
       "      <td>47.000000</td>\n",
       "    </tr>\n",
       "    <tr>\n",
       "      <th>50%</th>\n",
       "      <td>44.000000</td>\n",
       "      <td>54.000000</td>\n",
       "      <td>62.000000</td>\n",
       "    </tr>\n",
       "    <tr>\n",
       "      <th>75%</th>\n",
       "      <td>58.000000</td>\n",
       "      <td>68.000000</td>\n",
       "      <td>77.000000</td>\n",
       "    </tr>\n",
       "    <tr>\n",
       "      <th>max</th>\n",
       "      <td>77.000000</td>\n",
       "      <td>86.000000</td>\n",
       "      <td>102.000000</td>\n",
       "    </tr>\n",
       "  </tbody>\n",
       "</table>\n",
       "</div>"
      ],
      "text/plain": [
       "              TMIN         TAVG         TMAX\n",
       "count  4017.000000  1217.000000  4017.000000\n",
       "mean     43.484441    52.493016    61.268608\n",
       "std      17.020298    17.830714    18.199517\n",
       "min      -5.000000     6.000000    15.000000\n",
       "25%      30.000000    39.000000    47.000000\n",
       "50%      44.000000    54.000000    62.000000\n",
       "75%      58.000000    68.000000    77.000000\n",
       "max      77.000000    86.000000   102.000000"
      ]
     },
     "execution_count": 48,
     "metadata": {},
     "output_type": "execute_result"
    }
   ],
   "source": [
    "df_weather = df_weather[['TMIN','TAVG','TMAX']].describe()\n",
    "df_weather"
   ]
  },
  {
   "cell_type": "markdown",
   "id": "8c82c546",
   "metadata": {},
   "source": [
    "Média:"
   ]
  },
  {
   "cell_type": "code",
   "execution_count": 49,
   "id": "3cb62ab2",
   "metadata": {},
   "outputs": [
    {
     "data": {
      "text/plain": [
       "535.188092438959"
      ]
     },
     "execution_count": 49,
     "metadata": {},
     "output_type": "execute_result"
    }
   ],
   "source": [
    "df_weather['TMIN'].mean()"
   ]
  },
  {
   "cell_type": "code",
   "execution_count": 50,
   "id": "9413c8db",
   "metadata": {},
   "outputs": [
    {
     "data": {
      "text/plain": [
       "192.54046622096283"
      ]
     },
     "execution_count": 50,
     "metadata": {},
     "output_type": "execute_result"
    }
   ],
   "source": [
    "df_weather['TAVG'].mean()"
   ]
  },
  {
   "cell_type": "code",
   "execution_count": 51,
   "id": "1757df01",
   "metadata": {},
   "outputs": [
    {
     "data": {
      "text/plain": [
       "549.9335156226367"
      ]
     },
     "execution_count": 51,
     "metadata": {},
     "output_type": "execute_result"
    }
   ],
   "source": [
    "df_weather['TMAX'].mean()"
   ]
  },
  {
   "cell_type": "markdown",
   "id": "88052876",
   "metadata": {},
   "source": [
    "Moda:"
   ]
  },
  {
   "cell_type": "code",
   "execution_count": 52,
   "id": "b6b1a1a8",
   "metadata": {},
   "outputs": [
    {
     "data": {
      "text/plain": [
       "0      -5.000000\n",
       "1      17.020298\n",
       "2      30.000000\n",
       "3      43.484441\n",
       "4      44.000000\n",
       "5      58.000000\n",
       "6      77.000000\n",
       "7    4017.000000\n",
       "dtype: float64"
      ]
     },
     "execution_count": 52,
     "metadata": {},
     "output_type": "execute_result"
    }
   ],
   "source": [
    "df_weather['TMIN'].mode()"
   ]
  },
  {
   "cell_type": "code",
   "execution_count": 53,
   "id": "4a0976bf",
   "metadata": {},
   "outputs": [
    {
     "data": {
      "text/plain": [
       "0       6.000000\n",
       "1      17.830714\n",
       "2      39.000000\n",
       "3      52.493016\n",
       "4      54.000000\n",
       "5      68.000000\n",
       "6      86.000000\n",
       "7    1217.000000\n",
       "dtype: float64"
      ]
     },
     "execution_count": 53,
     "metadata": {},
     "output_type": "execute_result"
    }
   ],
   "source": [
    "df_weather['TAVG'].mode()"
   ]
  },
  {
   "cell_type": "code",
   "execution_count": 54,
   "id": "ef7b7db7",
   "metadata": {},
   "outputs": [
    {
     "data": {
      "text/plain": [
       "0      15.000000\n",
       "1      18.199517\n",
       "2      47.000000\n",
       "3      61.268608\n",
       "4      62.000000\n",
       "5      77.000000\n",
       "6     102.000000\n",
       "7    4017.000000\n",
       "dtype: float64"
      ]
     },
     "execution_count": 54,
     "metadata": {},
     "output_type": "execute_result"
    }
   ],
   "source": [
    "df_weather['TMAX'].mode()"
   ]
  },
  {
   "cell_type": "markdown",
   "id": "aba20155",
   "metadata": {},
   "source": [
    "Mediana:"
   ]
  },
  {
   "cell_type": "code",
   "execution_count": 55,
   "id": "ad1f9532",
   "metadata": {},
   "outputs": [
    {
     "data": {
      "text/plain": [
       "43.742220562608914"
      ]
     },
     "execution_count": 55,
     "metadata": {},
     "output_type": "execute_result"
    }
   ],
   "source": [
    "df_weather['TMIN'].median()"
   ]
  },
  {
   "cell_type": "code",
   "execution_count": 56,
   "id": "1bcfbc3b",
   "metadata": {},
   "outputs": [
    {
     "data": {
      "text/plain": [
       "53.24650780608053"
      ]
     },
     "execution_count": 56,
     "metadata": {},
     "output_type": "execute_result"
    }
   ],
   "source": [
    "df_weather['TAVG'].median()"
   ]
  },
  {
   "cell_type": "code",
   "execution_count": 57,
   "id": "81ac8d52",
   "metadata": {},
   "outputs": [
    {
     "data": {
      "text/plain": [
       "61.63430420711974"
      ]
     },
     "execution_count": 57,
     "metadata": {},
     "output_type": "execute_result"
    }
   ],
   "source": [
    "df_weather['TMAX'].median()"
   ]
  },
  {
   "cell_type": "code",
   "execution_count": 58,
   "id": "516ff93b",
   "metadata": {},
   "outputs": [
    {
     "data": {
      "text/html": [
       "<div>\n",
       "<style scoped>\n",
       "    .dataframe tbody tr th:only-of-type {\n",
       "        vertical-align: middle;\n",
       "    }\n",
       "\n",
       "    .dataframe tbody tr th {\n",
       "        vertical-align: top;\n",
       "    }\n",
       "\n",
       "    .dataframe thead th {\n",
       "        text-align: right;\n",
       "    }\n",
       "</style>\n",
       "<table border=\"1\" class=\"dataframe\">\n",
       "  <thead>\n",
       "    <tr style=\"text-align: right;\">\n",
       "      <th></th>\n",
       "      <th>TMIN</th>\n",
       "      <th>TAVG</th>\n",
       "      <th>TMAX</th>\n",
       "    </tr>\n",
       "  </thead>\n",
       "  <tbody>\n",
       "    <tr>\n",
       "      <th>count</th>\n",
       "      <td>8.000000</td>\n",
       "      <td>8.000000</td>\n",
       "      <td>8.000000</td>\n",
       "    </tr>\n",
       "    <tr>\n",
       "      <th>mean</th>\n",
       "      <td>535.188092</td>\n",
       "      <td>192.540466</td>\n",
       "      <td>549.933516</td>\n",
       "    </tr>\n",
       "    <tr>\n",
       "      <th>std</th>\n",
       "      <td>1407.084789</td>\n",
       "      <td>414.742743</td>\n",
       "      <td>1401.202040</td>\n",
       "    </tr>\n",
       "    <tr>\n",
       "      <th>min</th>\n",
       "      <td>-5.000000</td>\n",
       "      <td>6.000000</td>\n",
       "      <td>15.000000</td>\n",
       "    </tr>\n",
       "    <tr>\n",
       "      <th>25%</th>\n",
       "      <td>26.755075</td>\n",
       "      <td>33.707679</td>\n",
       "      <td>39.799879</td>\n",
       "    </tr>\n",
       "    <tr>\n",
       "      <th>50%</th>\n",
       "      <td>43.742221</td>\n",
       "      <td>53.246508</td>\n",
       "      <td>61.634304</td>\n",
       "    </tr>\n",
       "    <tr>\n",
       "      <th>75%</th>\n",
       "      <td>62.750000</td>\n",
       "      <td>72.500000</td>\n",
       "      <td>83.250000</td>\n",
       "    </tr>\n",
       "    <tr>\n",
       "      <th>max</th>\n",
       "      <td>4017.000000</td>\n",
       "      <td>1217.000000</td>\n",
       "      <td>4017.000000</td>\n",
       "    </tr>\n",
       "  </tbody>\n",
       "</table>\n",
       "</div>"
      ],
      "text/plain": [
       "              TMIN         TAVG         TMAX\n",
       "count     8.000000     8.000000     8.000000\n",
       "mean    535.188092   192.540466   549.933516\n",
       "std    1407.084789   414.742743  1401.202040\n",
       "min      -5.000000     6.000000    15.000000\n",
       "25%      26.755075    33.707679    39.799879\n",
       "50%      43.742221    53.246508    61.634304\n",
       "75%      62.750000    72.500000    83.250000\n",
       "max    4017.000000  1217.000000  4017.000000"
      ]
     },
     "execution_count": 58,
     "metadata": {},
     "output_type": "execute_result"
    }
   ],
   "source": [
    "df_weather.describe()"
   ]
  },
  {
   "cell_type": "code",
   "execution_count": 59,
   "id": "26dae312",
   "metadata": {},
   "outputs": [
    {
     "data": {
      "text/plain": [
       "<AxesSubplot:>"
      ]
     },
     "execution_count": 59,
     "metadata": {},
     "output_type": "execute_result"
    },
    {
     "data": {
      "image/png": "[encoded data removed]",
      "text/plain": [
       "<Figure size 432x288 with 1 Axes>"
      ]
     },
     "metadata": {
      "needs_background": "light"
     },
     "output_type": "display_data"
    }
   ],
   "source": [
    "df_weather.describe().boxplot(column=['TMIN', 'TAVG', 'TMAX'])"
   ]
  }
 ],
 "metadata": {
  "kernelspec": {
   "display_name": "Python 3.9.13 64-bit (microsoft store)",
   "language": "python",
   "name": "python3"
  },
  "language_info": {
   "codemirror_mode": {
    "name": "ipython",
    "version": 3
   },
   "file_extension": ".py",
   "mimetype": "text/x-python",
   "name": "python",
   "nbconvert_exporter": "python",
   "pygments_lexer": "ipython3",
   "version": "3.9.13"
  },
  "vscode": {
   "interpreter": {
    "hash": "92620262f98eb96ff24517672e5d9b221ba493f2b65aa91b9dc2340200823c7f"
   }
  }
 },
 "nbformat": 4,
 "nbformat_minor": 5
}
