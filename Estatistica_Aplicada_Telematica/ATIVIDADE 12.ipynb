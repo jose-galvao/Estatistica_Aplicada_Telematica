{
 "cells": [
  {
   "cell_type": "markdown",
   "id": "bc0e720d-677d-4ff3-929f-9a6b8e69d264",
   "metadata": {},
   "source": [
    "# <center> ESTATÍSTICA APLICADA </center>"
   ]
  },
  {
   "cell_type": "markdown",
   "id": "6a738c69-045b-4c17-a428-4de70fa39f7f",
   "metadata": {},
   "source": [
    "## <center>  Lista de exercícios 12 </center>"
   ]
  },
  {
   "cell_type": "markdown",
   "id": "cfa552ee-78a0-4a3e-a291-c91f169585ce",
   "metadata": {},
   "source": [
    "# <center>  José Silvestre da Silva Galvão </center>"
   ]
  },
  {
   "cell_type": "markdown",
   "id": "b9106b80",
   "metadata": {},
   "source": [
    "## <center>  Questão 1 </center>"
   ]
  },
  {
   "cell_type": "code",
   "execution_count": 2,
   "id": "23b5f92c",
   "metadata": {},
   "outputs": [],
   "source": [
    "import pandas as pd\n",
    "import numpy as np\n",
    "from matplotlib import pyplot as plt "
   ]
  },
  {
   "cell_type": "code",
   "execution_count": 3,
   "id": "c049e562",
   "metadata": {},
   "outputs": [
    {
     "data": {
      "text/html": [
       "<div>\n",
       "<style scoped>\n",
       "    .dataframe tbody tr th:only-of-type {\n",
       "        vertical-align: middle;\n",
       "    }\n",
       "\n",
       "    .dataframe tbody tr th {\n",
       "        vertical-align: top;\n",
       "    }\n",
       "\n",
       "    .dataframe thead th {\n",
       "        text-align: right;\n",
       "    }\n",
       "</style>\n",
       "<table border=\"1\" class=\"dataframe\">\n",
       "  <thead>\n",
       "    <tr style=\"text-align: right;\">\n",
       "      <th></th>\n",
       "      <th>NOTA</th>\n",
       "      <th>NOTA.1</th>\n",
       "      <th>NOTA.2</th>\n",
       "      <th>NOTA.3</th>\n",
       "      <th>NOTA.4</th>\n",
       "      <th>NOTA.5</th>\n",
       "      <th>NOTA.6</th>\n",
       "      <th>NOTA.7</th>\n",
       "      <th>NOTA.8</th>\n",
       "      <th>NOTA.9</th>\n",
       "    </tr>\n",
       "  </thead>\n",
       "  <tbody>\n",
       "    <tr>\n",
       "      <th>0</th>\n",
       "      <td>3.5</td>\n",
       "      <td>4.0</td>\n",
       "      <td>5.5</td>\n",
       "      <td>6.0</td>\n",
       "      <td>5.0</td>\n",
       "      <td>5.5</td>\n",
       "      <td>5.0</td>\n",
       "      <td>5.5</td>\n",
       "      <td>4.0</td>\n",
       "      <td>10.0</td>\n",
       "    </tr>\n",
       "    <tr>\n",
       "      <th>1</th>\n",
       "      <td>6.5</td>\n",
       "      <td>9.5</td>\n",
       "      <td>4.0</td>\n",
       "      <td>7.0</td>\n",
       "      <td>7.5</td>\n",
       "      <td>3.0</td>\n",
       "      <td>4.5</td>\n",
       "      <td>5.0</td>\n",
       "      <td>2.5</td>\n",
       "      <td>6.0</td>\n",
       "    </tr>\n",
       "    <tr>\n",
       "      <th>2</th>\n",
       "      <td>5.0</td>\n",
       "      <td>6.5</td>\n",
       "      <td>3.5</td>\n",
       "      <td>4.5</td>\n",
       "      <td>8.5</td>\n",
       "      <td>4.0</td>\n",
       "      <td>8.0</td>\n",
       "      <td>7.0</td>\n",
       "      <td>6.0</td>\n",
       "      <td>7.5</td>\n",
       "    </tr>\n",
       "    <tr>\n",
       "      <th>3</th>\n",
       "      <td>8.5</td>\n",
       "      <td>6.0</td>\n",
       "      <td>9.0</td>\n",
       "      <td>6.0</td>\n",
       "      <td>6.5</td>\n",
       "      <td>7.5</td>\n",
       "      <td>5.5</td>\n",
       "      <td>6.5</td>\n",
       "      <td>8.0</td>\n",
       "      <td>8.5</td>\n",
       "    </tr>\n",
       "    <tr>\n",
       "      <th>4</th>\n",
       "      <td>4.5</td>\n",
       "      <td>7.5</td>\n",
       "      <td>8.0</td>\n",
       "      <td>3.0</td>\n",
       "      <td>4.0</td>\n",
       "      <td>8.0</td>\n",
       "      <td>4.5</td>\n",
       "      <td>5.5</td>\n",
       "      <td>6.0</td>\n",
       "      <td>6.0</td>\n",
       "    </tr>\n",
       "    <tr>\n",
       "      <th>5</th>\n",
       "      <td>7.5</td>\n",
       "      <td>3.5</td>\n",
       "      <td>3.0</td>\n",
       "      <td>7.0</td>\n",
       "      <td>1.5</td>\n",
       "      <td>4.5</td>\n",
       "      <td>10.0</td>\n",
       "      <td>5.5</td>\n",
       "      <td>2.5</td>\n",
       "      <td>10.0</td>\n",
       "    </tr>\n",
       "    <tr>\n",
       "      <th>6</th>\n",
       "      <td>4.0</td>\n",
       "      <td>6.5</td>\n",
       "      <td>7.5</td>\n",
       "      <td>5.5</td>\n",
       "      <td>7.0</td>\n",
       "      <td>7.5</td>\n",
       "      <td>6.0</td>\n",
       "      <td>6.5</td>\n",
       "      <td>6.5</td>\n",
       "      <td>5.5</td>\n",
       "    </tr>\n",
       "    <tr>\n",
       "      <th>7</th>\n",
       "      <td>6.5</td>\n",
       "      <td>5.0</td>\n",
       "      <td>5.5</td>\n",
       "      <td>7.5</td>\n",
       "      <td>8.0</td>\n",
       "      <td>6.5</td>\n",
       "      <td>5.0</td>\n",
       "      <td>7.0</td>\n",
       "      <td>6.0</td>\n",
       "      <td>5.5</td>\n",
       "    </tr>\n",
       "    <tr>\n",
       "      <th>8</th>\n",
       "      <td>3.0</td>\n",
       "      <td>5.0</td>\n",
       "      <td>3.5</td>\n",
       "      <td>6.0</td>\n",
       "      <td>6.5</td>\n",
       "      <td>6.0</td>\n",
       "      <td>8.0</td>\n",
       "      <td>5.5</td>\n",
       "      <td>7.5</td>\n",
       "      <td>6.0</td>\n",
       "    </tr>\n",
       "    <tr>\n",
       "      <th>9</th>\n",
       "      <td>2.5</td>\n",
       "      <td>7.5</td>\n",
       "      <td>9.0</td>\n",
       "      <td>6.0</td>\n",
       "      <td>6.5</td>\n",
       "      <td>3.5</td>\n",
       "      <td>4.5</td>\n",
       "      <td>7.0</td>\n",
       "      <td>5.0</td>\n",
       "      <td>5.0</td>\n",
       "    </tr>\n",
       "  </tbody>\n",
       "</table>\n",
       "</div>"
      ],
      "text/plain": [
       "   NOTA  NOTA.1  NOTA.2  NOTA.3  NOTA.4  NOTA.5  NOTA.6  NOTA.7  NOTA.8  \\\n",
       "0   3.5     4.0     5.5     6.0     5.0     5.5     5.0     5.5     4.0   \n",
       "1   6.5     9.5     4.0     7.0     7.5     3.0     4.5     5.0     2.5   \n",
       "2   5.0     6.5     3.5     4.5     8.5     4.0     8.0     7.0     6.0   \n",
       "3   8.5     6.0     9.0     6.0     6.5     7.5     5.5     6.5     8.0   \n",
       "4   4.5     7.5     8.0     3.0     4.0     8.0     4.5     5.5     6.0   \n",
       "5   7.5     3.5     3.0     7.0     1.5     4.5    10.0     5.5     2.5   \n",
       "6   4.0     6.5     7.5     5.5     7.0     7.5     6.0     6.5     6.5   \n",
       "7   6.5     5.0     5.5     7.5     8.0     6.5     5.0     7.0     6.0   \n",
       "8   3.0     5.0     3.5     6.0     6.5     6.0     8.0     5.5     7.5   \n",
       "9   2.5     7.5     9.0     6.0     6.5     3.5     4.5     7.0     5.0   \n",
       "\n",
       "   NOTA.9  \n",
       "0    10.0  \n",
       "1     6.0  \n",
       "2     7.5  \n",
       "3     8.5  \n",
       "4     6.0  \n",
       "5    10.0  \n",
       "6     5.5  \n",
       "7     5.5  \n",
       "8     6.0  \n",
       "9     5.0  "
      ]
     },
     "execution_count": 3,
     "metadata": {},
     "output_type": "execute_result"
    }
   ],
   "source": [
    "df = pd.read_csv(\"C:/Users/joses/Dropbox/PC/Downloads/dados1 (3).csv\", sep=';', decimal=',')\n",
    "df"
   ]
  },
  {
   "cell_type": "code",
   "execution_count": 4,
   "id": "0ffab657",
   "metadata": {},
   "outputs": [
    {
     "data": {
      "text/plain": [
       "array([3.5, 6.5, 5. , 8.5, 4.5, 7.5, 4. , 3. , 2.5])"
      ]
     },
     "execution_count": 4,
     "metadata": {},
     "output_type": "execute_result"
    }
   ],
   "source": [
    "df['NOTA'].unique()"
   ]
  },
  {
   "cell_type": "code",
   "execution_count": 5,
   "id": "9d61d1a2",
   "metadata": {},
   "outputs": [
    {
     "data": {
      "text/plain": [
       "2.5    1\n",
       "3.0    1\n",
       "3.5    1\n",
       "4.0    1\n",
       "4.5    1\n",
       "5.0    1\n",
       "6.5    2\n",
       "7.5    1\n",
       "8.5    1\n",
       "Name: NOTA, dtype: int64"
      ]
     },
     "execution_count": 5,
     "metadata": {},
     "output_type": "execute_result"
    }
   ],
   "source": [
    "fi = df['NOTA'].value_counts().sort_index()\n",
    "fi"
   ]
  },
  {
   "cell_type": "code",
   "execution_count": 6,
   "id": "36361405",
   "metadata": {},
   "outputs": [
    {
     "data": {
      "text/plain": [
       "<AxesSubplot:>"
      ]
     },
     "execution_count": 6,
     "metadata": {},
     "output_type": "execute_result"
    },
    {
     "data": {
      "image/png": "[encoded data removed]",
      "text/plain": [
       "<Figure size 432x288 with 1 Axes>"
      ]
     },
     "metadata": {
      "needs_background": "light"
     },
     "output_type": "display_data"
    }
   ],
   "source": [
    "%matplotlib inline\n",
    "df['NOTA'].value_counts().plot.bar()"
   ]
  },
  {
   "cell_type": "markdown",
   "id": "47f2cf5f",
   "metadata": {},
   "source": [
    "## <center>  Questão 2 </center>"
   ]
  },
  {
   "cell_type": "code",
   "execution_count": 7,
   "id": "06d3f512",
   "metadata": {},
   "outputs": [
    {
     "data": {
      "text/html": [
       "<div>\n",
       "<style scoped>\n",
       "    .dataframe tbody tr th:only-of-type {\n",
       "        vertical-align: middle;\n",
       "    }\n",
       "\n",
       "    .dataframe tbody tr th {\n",
       "        vertical-align: top;\n",
       "    }\n",
       "\n",
       "    .dataframe thead th {\n",
       "        text-align: right;\n",
       "    }\n",
       "</style>\n",
       "<table border=\"1\" class=\"dataframe\">\n",
       "  <thead>\n",
       "    <tr style=\"text-align: right;\">\n",
       "      <th></th>\n",
       "      <th>Bairro</th>\n",
       "      <th>Tipo</th>\n",
       "      <th>N de quartos</th>\n",
       "      <th>Preço (mil)</th>\n",
       "    </tr>\n",
       "  </thead>\n",
       "  <tbody>\n",
       "    <tr>\n",
       "      <th>0</th>\n",
       "      <td>Barra</td>\n",
       "      <td>Apto.</td>\n",
       "      <td>2</td>\n",
       "      <td>165</td>\n",
       "    </tr>\n",
       "    <tr>\n",
       "      <th>1</th>\n",
       "      <td>Barra</td>\n",
       "      <td>Apto.</td>\n",
       "      <td>3</td>\n",
       "      <td>240</td>\n",
       "    </tr>\n",
       "    <tr>\n",
       "      <th>2</th>\n",
       "      <td>Barra</td>\n",
       "      <td>Cobt.</td>\n",
       "      <td>3</td>\n",
       "      <td>158</td>\n",
       "    </tr>\n",
       "    <tr>\n",
       "      <th>3</th>\n",
       "      <td>Barra</td>\n",
       "      <td>Sala</td>\n",
       "      <td>0</td>\n",
       "      <td>90</td>\n",
       "    </tr>\n",
       "    <tr>\n",
       "      <th>4</th>\n",
       "      <td>Botafogo</td>\n",
       "      <td>Apto.</td>\n",
       "      <td>2</td>\n",
       "      <td>270</td>\n",
       "    </tr>\n",
       "    <tr>\n",
       "      <th>5</th>\n",
       "      <td>Catete</td>\n",
       "      <td>Apto.</td>\n",
       "      <td>1</td>\n",
       "      <td>250</td>\n",
       "    </tr>\n",
       "    <tr>\n",
       "      <th>6</th>\n",
       "      <td>Centro</td>\n",
       "      <td>Sala</td>\n",
       "      <td>1</td>\n",
       "      <td>110</td>\n",
       "    </tr>\n",
       "    <tr>\n",
       "      <th>7</th>\n",
       "      <td>Copacabana</td>\n",
       "      <td>Apto.</td>\n",
       "      <td>2</td>\n",
       "      <td>210</td>\n",
       "    </tr>\n",
       "    <tr>\n",
       "      <th>8</th>\n",
       "      <td>Copacabana</td>\n",
       "      <td>Apto.</td>\n",
       "      <td>2</td>\n",
       "      <td>200</td>\n",
       "    </tr>\n",
       "    <tr>\n",
       "      <th>9</th>\n",
       "      <td>Copacabana</td>\n",
       "      <td>Apto.</td>\n",
       "      <td>3</td>\n",
       "      <td>280</td>\n",
       "    </tr>\n",
       "    <tr>\n",
       "      <th>10</th>\n",
       "      <td>Flamengo</td>\n",
       "      <td>Apto.</td>\n",
       "      <td>&gt;=4</td>\n",
       "      <td>330</td>\n",
       "    </tr>\n",
       "    <tr>\n",
       "      <th>11</th>\n",
       "      <td>Flamengo</td>\n",
       "      <td>Cobt.</td>\n",
       "      <td>1</td>\n",
       "      <td>180</td>\n",
       "    </tr>\n",
       "    <tr>\n",
       "      <th>12</th>\n",
       "      <td>Gávea</td>\n",
       "      <td>Apto.</td>\n",
       "      <td>3</td>\n",
       "      <td>290</td>\n",
       "    </tr>\n",
       "    <tr>\n",
       "      <th>13</th>\n",
       "      <td>Jacarepaguá</td>\n",
       "      <td>Apto.</td>\n",
       "      <td>&gt;=4</td>\n",
       "      <td>320</td>\n",
       "    </tr>\n",
       "    <tr>\n",
       "      <th>14</th>\n",
       "      <td>Ipanema</td>\n",
       "      <td>Apto.</td>\n",
       "      <td>3</td>\n",
       "      <td>276</td>\n",
       "    </tr>\n",
       "    <tr>\n",
       "      <th>15</th>\n",
       "      <td>Lagoa</td>\n",
       "      <td>Apto.</td>\n",
       "      <td>3</td>\n",
       "      <td>254</td>\n",
       "    </tr>\n",
       "    <tr>\n",
       "      <th>16</th>\n",
       "      <td>Laranjeiras</td>\n",
       "      <td>Apto.</td>\n",
       "      <td>2</td>\n",
       "      <td>220</td>\n",
       "    </tr>\n",
       "    <tr>\n",
       "      <th>17</th>\n",
       "      <td>Laranjeiras</td>\n",
       "      <td>Apto.</td>\n",
       "      <td>2</td>\n",
       "      <td>219</td>\n",
       "    </tr>\n",
       "    <tr>\n",
       "      <th>18</th>\n",
       "      <td>Leblon</td>\n",
       "      <td>Apto.</td>\n",
       "      <td>&gt;=4</td>\n",
       "      <td>340</td>\n",
       "    </tr>\n",
       "    <tr>\n",
       "      <th>19</th>\n",
       "      <td>Leblon</td>\n",
       "      <td>Apto.</td>\n",
       "      <td>3</td>\n",
       "      <td>260</td>\n",
       "    </tr>\n",
       "    <tr>\n",
       "      <th>20</th>\n",
       "      <td>Maracanã</td>\n",
       "      <td>Apto.</td>\n",
       "      <td>&gt;=4</td>\n",
       "      <td>338</td>\n",
       "    </tr>\n",
       "    <tr>\n",
       "      <th>21</th>\n",
       "      <td>Recreio</td>\n",
       "      <td>Cobt.</td>\n",
       "      <td>3</td>\n",
       "      <td>290</td>\n",
       "    </tr>\n",
       "    <tr>\n",
       "      <th>22</th>\n",
       "      <td>São Conrado</td>\n",
       "      <td>Casa</td>\n",
       "      <td>&gt;=4</td>\n",
       "      <td>430</td>\n",
       "    </tr>\n",
       "    <tr>\n",
       "      <th>23</th>\n",
       "      <td>Tijuca</td>\n",
       "      <td>Apto.</td>\n",
       "      <td>2</td>\n",
       "      <td>200</td>\n",
       "    </tr>\n",
       "    <tr>\n",
       "      <th>24</th>\n",
       "      <td>Tijuca</td>\n",
       "      <td>Apto.</td>\n",
       "      <td>2</td>\n",
       "      <td>210</td>\n",
       "    </tr>\n",
       "    <tr>\n",
       "      <th>25</th>\n",
       "      <td>Tijuca</td>\n",
       "      <td>Casa</td>\n",
       "      <td>&gt;=4</td>\n",
       "      <td>370</td>\n",
       "    </tr>\n",
       "    <tr>\n",
       "      <th>26</th>\n",
       "      <td>Vila Isabel</td>\n",
       "      <td>Apto.</td>\n",
       "      <td>2</td>\n",
       "      <td>230</td>\n",
       "    </tr>\n",
       "  </tbody>\n",
       "</table>\n",
       "</div>"
      ],
      "text/plain": [
       "         Bairro   Tipo N de quartos  Preço (mil)\n",
       "0         Barra  Apto.            2          165\n",
       "1         Barra  Apto.            3          240\n",
       "2         Barra  Cobt.            3          158\n",
       "3         Barra   Sala            0           90\n",
       "4      Botafogo  Apto.            2          270\n",
       "5        Catete  Apto.            1          250\n",
       "6        Centro   Sala            1          110\n",
       "7    Copacabana  Apto.            2          210\n",
       "8    Copacabana  Apto.            2          200\n",
       "9    Copacabana  Apto.            3          280\n",
       "10     Flamengo  Apto.          >=4          330\n",
       "11     Flamengo  Cobt.            1          180\n",
       "12        Gávea  Apto.            3          290\n",
       "13  Jacarepaguá  Apto.          >=4          320\n",
       "14      Ipanema  Apto.            3          276\n",
       "15        Lagoa  Apto.            3          254\n",
       "16  Laranjeiras  Apto.            2          220\n",
       "17  Laranjeiras  Apto.            2          219\n",
       "18       Leblon  Apto.          >=4          340\n",
       "19       Leblon  Apto.            3          260\n",
       "20     Maracanã  Apto.          >=4          338\n",
       "21      Recreio  Cobt.            3          290\n",
       "22  São Conrado   Casa          >=4          430\n",
       "23       Tijuca  Apto.            2          200\n",
       "24       Tijuca  Apto.            2          210\n",
       "25       Tijuca   Casa          >=4          370\n",
       "26  Vila Isabel  Apto.            2          230"
      ]
     },
     "execution_count": 7,
     "metadata": {},
     "output_type": "execute_result"
    }
   ],
   "source": [
    "df = pd.read_csv(\"C:/Users/joses/Dropbox/PC/Downloads/dados2.csv\", sep=';', decimal=',')\n",
    "df"
   ]
  },
  {
   "cell_type": "markdown",
   "id": "598a713f",
   "metadata": {},
   "source": [
    "## A)"
   ]
  },
  {
   "cell_type": "markdown",
   "id": "214a84d5",
   "metadata": {},
   "source": [
    "**Bairro:** Qualitativo\n",
    "**Tipo:** Qualitativo\n",
    "**N de quartos:** Quantitativo\n",
    "**Preço:** Quantitativo"
   ]
  },
  {
   "cell_type": "markdown",
   "id": "2adcd36e",
   "metadata": {},
   "source": [
    "## B)"
   ]
  },
  {
   "cell_type": "code",
   "execution_count": 8,
   "id": "45b078bb",
   "metadata": {},
   "outputs": [
    {
     "data": {
      "text/plain": [
       "Barra          4\n",
       "Botafogo       1\n",
       "Catete         1\n",
       "Centro         1\n",
       "Copacabana     3\n",
       "Flamengo       2\n",
       "Gávea          1\n",
       "Ipanema        1\n",
       "Jacarepaguá    1\n",
       "Lagoa          1\n",
       "Laranjeiras    2\n",
       "Leblon         2\n",
       "Maracanã       1\n",
       "Recreio        1\n",
       "São Conrado    1\n",
       "Tijuca         3\n",
       "Vila Isabel    1\n",
       "Name: Bairro, dtype: int64"
      ]
     },
     "execution_count": 8,
     "metadata": {},
     "output_type": "execute_result"
    }
   ],
   "source": [
    "fi = df['Bairro'].value_counts().sort_index()\n",
    "fi"
   ]
  },
  {
   "cell_type": "code",
   "execution_count": 9,
   "id": "ad6192f4",
   "metadata": {},
   "outputs": [
    {
     "data": {
      "text/plain": [
       "Apto.    20\n",
       "Casa      2\n",
       "Cobt.     3\n",
       "Sala      2\n",
       "Name: Tipo, dtype: int64"
      ]
     },
     "execution_count": 9,
     "metadata": {},
     "output_type": "execute_result"
    }
   ],
   "source": [
    "fi = df['Tipo'].value_counts().sort_index()\n",
    "fi"
   ]
  },
  {
   "cell_type": "code",
   "execution_count": 10,
   "id": "6fa4c933",
   "metadata": {},
   "outputs": [
    {
     "data": {
      "text/plain": [
       "0      1\n",
       "1      3\n",
       "2      9\n",
       "3      8\n",
       ">=4    6\n",
       "Name: N de quartos, dtype: int64"
      ]
     },
     "execution_count": 10,
     "metadata": {},
     "output_type": "execute_result"
    }
   ],
   "source": [
    "fi = df['N de quartos'].value_counts().sort_index()\n",
    "fi"
   ]
  },
  {
   "cell_type": "code",
   "execution_count": 11,
   "id": "0ea61269",
   "metadata": {},
   "outputs": [
    {
     "data": {
      "text/plain": [
       "90     1\n",
       "110    1\n",
       "158    1\n",
       "165    1\n",
       "180    1\n",
       "200    2\n",
       "210    2\n",
       "219    1\n",
       "220    1\n",
       "230    1\n",
       "240    1\n",
       "250    1\n",
       "254    1\n",
       "260    1\n",
       "270    1\n",
       "276    1\n",
       "280    1\n",
       "290    2\n",
       "320    1\n",
       "330    1\n",
       "338    1\n",
       "340    1\n",
       "370    1\n",
       "430    1\n",
       "Name: Preço (mil), dtype: int64"
      ]
     },
     "execution_count": 11,
     "metadata": {},
     "output_type": "execute_result"
    }
   ],
   "source": [
    "fi=df['Preço (mil)'].value_counts().sort_index()\n",
    "fi"
   ]
  },
  {
   "cell_type": "markdown",
   "id": "68248124",
   "metadata": {},
   "source": [
    "## C)"
   ]
  },
  {
   "cell_type": "code",
   "execution_count": 12,
   "id": "d5b9be4e",
   "metadata": {},
   "outputs": [
    {
     "data": {
      "text/plain": [
       "<AxesSubplot:>"
      ]
     },
     "execution_count": 12,
     "metadata": {},
     "output_type": "execute_result"
    },
    {
     "data": {
      "image/png": "[encoded data removed]",
      "text/plain": [
       "<Figure size 432x288 with 1 Axes>"
      ]
     },
     "metadata": {
      "needs_background": "light"
     },
     "output_type": "display_data"
    }
   ],
   "source": [
    "df['Bairro'].value_counts().plot.bar()"
   ]
  },
  {
   "cell_type": "code",
   "execution_count": 13,
   "id": "3676f2c5",
   "metadata": {},
   "outputs": [
    {
     "data": {
      "text/plain": [
       "<AxesSubplot:>"
      ]
     },
     "execution_count": 13,
     "metadata": {},
     "output_type": "execute_result"
    },
    {
     "data": {
      "image/png": "[encoded data removed]",
      "text/plain": [
       "<Figure size 432x288 with 1 Axes>"
      ]
     },
     "metadata": {
      "needs_background": "light"
     },
     "output_type": "display_data"
    }
   ],
   "source": [
    "df['Tipo'].value_counts().plot.bar()"
   ]
  },
  {
   "cell_type": "code",
   "execution_count": 14,
   "id": "01070052",
   "metadata": {},
   "outputs": [
    {
     "data": {
      "text/plain": [
       "<AxesSubplot:>"
      ]
     },
     "execution_count": 14,
     "metadata": {},
     "output_type": "execute_result"
    },
    {
     "data": {
      "image/png": "[encoded data removed]",
      "text/plain": [
       "<Figure size 432x288 with 1 Axes>"
      ]
     },
     "metadata": {
      "needs_background": "light"
     },
     "output_type": "display_data"
    }
   ],
   "source": [
    "df['N de quartos'].value_counts().plot.bar()"
   ]
  },
  {
   "cell_type": "code",
   "execution_count": 16,
   "id": "394744ef",
   "metadata": {},
   "outputs": [
    {
     "data": {
      "text/plain": [
       "<AxesSubplot:>"
      ]
     },
     "execution_count": 16,
     "metadata": {},
     "output_type": "execute_result"
    },
    {
     "data": {
      "image/png": "[encoded data removed]",
      "text/plain": [
       "<Figure size 432x288 with 1 Axes>"
      ]
     },
     "metadata": {
      "needs_background": "light"
     },
     "output_type": "display_data"
    }
   ],
   "source": [
    "df['Preço (mil)'].value_counts().plot.bar()"
   ]
  },
  {
   "cell_type": "markdown",
   "id": "47f2cf5f",
   "metadata": {},
   "source": [
    "## <center>  Questão 3 </center>"
   ]
  },
  {
   "cell_type": "code",
   "execution_count": 42,
   "id": "ca982934",
   "metadata": {},
   "outputs": [
    {
     "data": {
      "text/html": [
       "<div>\n",
       "<style scoped>\n",
       "    .dataframe tbody tr th:only-of-type {\n",
       "        vertical-align: middle;\n",
       "    }\n",
       "\n",
       "    .dataframe tbody tr th {\n",
       "        vertical-align: top;\n",
       "    }\n",
       "\n",
       "    .dataframe thead th {\n",
       "        text-align: right;\n",
       "    }\n",
       "</style>\n",
       "<table border=\"1\" class=\"dataframe\">\n",
       "  <thead>\n",
       "    <tr style=\"text-align: right;\">\n",
       "      <th></th>\n",
       "      <th>Turma</th>\n",
       "      <th>Sexo</th>\n",
       "      <th>Idade</th>\n",
       "      <th>Alt</th>\n",
       "      <th>Peso</th>\n",
       "      <th>Filhos</th>\n",
       "      <th>Fuma</th>\n",
       "      <th>Toler</th>\n",
       "      <th>Exerc</th>\n",
       "      <th>Cine</th>\n",
       "      <th>OpCine</th>\n",
       "      <th>TV</th>\n",
       "      <th>OpTV</th>\n",
       "    </tr>\n",
       "  </thead>\n",
       "  <tbody>\n",
       "    <tr>\n",
       "      <th>0</th>\n",
       "      <td>A</td>\n",
       "      <td>F</td>\n",
       "      <td>17</td>\n",
       "      <td>1.60</td>\n",
       "      <td>60.5</td>\n",
       "      <td>2</td>\n",
       "      <td>NAO</td>\n",
       "      <td>P</td>\n",
       "      <td>0</td>\n",
       "      <td>1</td>\n",
       "      <td>B</td>\n",
       "      <td>16</td>\n",
       "      <td>R</td>\n",
       "    </tr>\n",
       "    <tr>\n",
       "      <th>1</th>\n",
       "      <td>A</td>\n",
       "      <td>F</td>\n",
       "      <td>18</td>\n",
       "      <td>1.69</td>\n",
       "      <td>55.0</td>\n",
       "      <td>1</td>\n",
       "      <td>NAO</td>\n",
       "      <td>M</td>\n",
       "      <td>0</td>\n",
       "      <td>1</td>\n",
       "      <td>B</td>\n",
       "      <td>7</td>\n",
       "      <td>R</td>\n",
       "    </tr>\n",
       "    <tr>\n",
       "      <th>2</th>\n",
       "      <td>A</td>\n",
       "      <td>M</td>\n",
       "      <td>18</td>\n",
       "      <td>1.85</td>\n",
       "      <td>72.8</td>\n",
       "      <td>2</td>\n",
       "      <td>NAO</td>\n",
       "      <td>P</td>\n",
       "      <td>5</td>\n",
       "      <td>2</td>\n",
       "      <td>M</td>\n",
       "      <td>15</td>\n",
       "      <td>R</td>\n",
       "    </tr>\n",
       "    <tr>\n",
       "      <th>3</th>\n",
       "      <td>A</td>\n",
       "      <td>M</td>\n",
       "      <td>25</td>\n",
       "      <td>1.85</td>\n",
       "      <td>80.9</td>\n",
       "      <td>2</td>\n",
       "      <td>NAO</td>\n",
       "      <td>P</td>\n",
       "      <td>5</td>\n",
       "      <td>2</td>\n",
       "      <td>B</td>\n",
       "      <td>20</td>\n",
       "      <td>R</td>\n",
       "    </tr>\n",
       "    <tr>\n",
       "      <th>4</th>\n",
       "      <td>A</td>\n",
       "      <td>F</td>\n",
       "      <td>19</td>\n",
       "      <td>1.58</td>\n",
       "      <td>55.0</td>\n",
       "      <td>1</td>\n",
       "      <td>NAO</td>\n",
       "      <td>M</td>\n",
       "      <td>2</td>\n",
       "      <td>2</td>\n",
       "      <td>B</td>\n",
       "      <td>5</td>\n",
       "      <td>R</td>\n",
       "    </tr>\n",
       "    <tr>\n",
       "      <th>5</th>\n",
       "      <td>A</td>\n",
       "      <td>M</td>\n",
       "      <td>19</td>\n",
       "      <td>1.76</td>\n",
       "      <td>60.0</td>\n",
       "      <td>3</td>\n",
       "      <td>NAO</td>\n",
       "      <td>M</td>\n",
       "      <td>2</td>\n",
       "      <td>1</td>\n",
       "      <td>B</td>\n",
       "      <td>2</td>\n",
       "      <td>R</td>\n",
       "    </tr>\n",
       "    <tr>\n",
       "      <th>6</th>\n",
       "      <td>A</td>\n",
       "      <td>F</td>\n",
       "      <td>20</td>\n",
       "      <td>1.60</td>\n",
       "      <td>58.0</td>\n",
       "      <td>1</td>\n",
       "      <td>NAO</td>\n",
       "      <td>P</td>\n",
       "      <td>3</td>\n",
       "      <td>1</td>\n",
       "      <td>B</td>\n",
       "      <td>7</td>\n",
       "      <td>R</td>\n",
       "    </tr>\n",
       "    <tr>\n",
       "      <th>7</th>\n",
       "      <td>A</td>\n",
       "      <td>F</td>\n",
       "      <td>18</td>\n",
       "      <td>1.64</td>\n",
       "      <td>47.0</td>\n",
       "      <td>1</td>\n",
       "      <td>SIM</td>\n",
       "      <td>I</td>\n",
       "      <td>2</td>\n",
       "      <td>2</td>\n",
       "      <td>M</td>\n",
       "      <td>10</td>\n",
       "      <td>R</td>\n",
       "    </tr>\n",
       "    <tr>\n",
       "      <th>8</th>\n",
       "      <td>A</td>\n",
       "      <td>F</td>\n",
       "      <td>18</td>\n",
       "      <td>1.62</td>\n",
       "      <td>57.8</td>\n",
       "      <td>3</td>\n",
       "      <td>NAO</td>\n",
       "      <td>M</td>\n",
       "      <td>3</td>\n",
       "      <td>3</td>\n",
       "      <td>M</td>\n",
       "      <td>12</td>\n",
       "      <td>R</td>\n",
       "    </tr>\n",
       "    <tr>\n",
       "      <th>9</th>\n",
       "      <td>A</td>\n",
       "      <td>F</td>\n",
       "      <td>17</td>\n",
       "      <td>1.64</td>\n",
       "      <td>58.0</td>\n",
       "      <td>2</td>\n",
       "      <td>NAO</td>\n",
       "      <td>M</td>\n",
       "      <td>2</td>\n",
       "      <td>2</td>\n",
       "      <td>M</td>\n",
       "      <td>10</td>\n",
       "      <td>R</td>\n",
       "    </tr>\n",
       "    <tr>\n",
       "      <th>10</th>\n",
       "      <td>A</td>\n",
       "      <td>F</td>\n",
       "      <td>18</td>\n",
       "      <td>1.72</td>\n",
       "      <td>70.0</td>\n",
       "      <td>1</td>\n",
       "      <td>SIM</td>\n",
       "      <td>I</td>\n",
       "      <td>10</td>\n",
       "      <td>2</td>\n",
       "      <td>B</td>\n",
       "      <td>8</td>\n",
       "      <td>N</td>\n",
       "    </tr>\n",
       "    <tr>\n",
       "      <th>11</th>\n",
       "      <td>A</td>\n",
       "      <td>F</td>\n",
       "      <td>18</td>\n",
       "      <td>1.66</td>\n",
       "      <td>54.0</td>\n",
       "      <td>3</td>\n",
       "      <td>NAO</td>\n",
       "      <td>M</td>\n",
       "      <td>0</td>\n",
       "      <td>2</td>\n",
       "      <td>B</td>\n",
       "      <td>0</td>\n",
       "      <td>R</td>\n",
       "    </tr>\n",
       "    <tr>\n",
       "      <th>12</th>\n",
       "      <td>A</td>\n",
       "      <td>F</td>\n",
       "      <td>21</td>\n",
       "      <td>1.70</td>\n",
       "      <td>58.0</td>\n",
       "      <td>2</td>\n",
       "      <td>NAO</td>\n",
       "      <td>M</td>\n",
       "      <td>6</td>\n",
       "      <td>1</td>\n",
       "      <td>M</td>\n",
       "      <td>30</td>\n",
       "      <td>R</td>\n",
       "    </tr>\n",
       "    <tr>\n",
       "      <th>13</th>\n",
       "      <td>A</td>\n",
       "      <td>M</td>\n",
       "      <td>19</td>\n",
       "      <td>1.78</td>\n",
       "      <td>68.5</td>\n",
       "      <td>1</td>\n",
       "      <td>SIM</td>\n",
       "      <td>I</td>\n",
       "      <td>5</td>\n",
       "      <td>1</td>\n",
       "      <td>M</td>\n",
       "      <td>2</td>\n",
       "      <td>N</td>\n",
       "    </tr>\n",
       "    <tr>\n",
       "      <th>14</th>\n",
       "      <td>A</td>\n",
       "      <td>F</td>\n",
       "      <td>18</td>\n",
       "      <td>1.65</td>\n",
       "      <td>63.5</td>\n",
       "      <td>1</td>\n",
       "      <td>NAO</td>\n",
       "      <td>I</td>\n",
       "      <td>4</td>\n",
       "      <td>1</td>\n",
       "      <td>B</td>\n",
       "      <td>10</td>\n",
       "      <td>R</td>\n",
       "    </tr>\n",
       "    <tr>\n",
       "      <th>15</th>\n",
       "      <td>A</td>\n",
       "      <td>F</td>\n",
       "      <td>19</td>\n",
       "      <td>1.63</td>\n",
       "      <td>47.4</td>\n",
       "      <td>3</td>\n",
       "      <td>NAO</td>\n",
       "      <td>P</td>\n",
       "      <td>0</td>\n",
       "      <td>1</td>\n",
       "      <td>B</td>\n",
       "      <td>18</td>\n",
       "      <td>R</td>\n",
       "    </tr>\n",
       "    <tr>\n",
       "      <th>16</th>\n",
       "      <td>A</td>\n",
       "      <td>F</td>\n",
       "      <td>17</td>\n",
       "      <td>1.82</td>\n",
       "      <td>66.0</td>\n",
       "      <td>1</td>\n",
       "      <td>NAO</td>\n",
       "      <td>P</td>\n",
       "      <td>3</td>\n",
       "      <td>1</td>\n",
       "      <td>B</td>\n",
       "      <td>10</td>\n",
       "      <td>N</td>\n",
       "    </tr>\n",
       "    <tr>\n",
       "      <th>17</th>\n",
       "      <td>A</td>\n",
       "      <td>M</td>\n",
       "      <td>18</td>\n",
       "      <td>1.80</td>\n",
       "      <td>85.2</td>\n",
       "      <td>2</td>\n",
       "      <td>NAO</td>\n",
       "      <td>P</td>\n",
       "      <td>3</td>\n",
       "      <td>4</td>\n",
       "      <td>B</td>\n",
       "      <td>10</td>\n",
       "      <td>R</td>\n",
       "    </tr>\n",
       "    <tr>\n",
       "      <th>18</th>\n",
       "      <td>A</td>\n",
       "      <td>F</td>\n",
       "      <td>20</td>\n",
       "      <td>1.60</td>\n",
       "      <td>54.5</td>\n",
       "      <td>1</td>\n",
       "      <td>NAO</td>\n",
       "      <td>P</td>\n",
       "      <td>3</td>\n",
       "      <td>2</td>\n",
       "      <td>B</td>\n",
       "      <td>5</td>\n",
       "      <td>R</td>\n",
       "    </tr>\n",
       "    <tr>\n",
       "      <th>19</th>\n",
       "      <td>A</td>\n",
       "      <td>F</td>\n",
       "      <td>18</td>\n",
       "      <td>1.68</td>\n",
       "      <td>52.5</td>\n",
       "      <td>3</td>\n",
       "      <td>NAO</td>\n",
       "      <td>M</td>\n",
       "      <td>7</td>\n",
       "      <td>2</td>\n",
       "      <td>B</td>\n",
       "      <td>14</td>\n",
       "      <td>M</td>\n",
       "    </tr>\n",
       "    <tr>\n",
       "      <th>20</th>\n",
       "      <td>A</td>\n",
       "      <td>F</td>\n",
       "      <td>21</td>\n",
       "      <td>1.70</td>\n",
       "      <td>60.0</td>\n",
       "      <td>2</td>\n",
       "      <td>NAO</td>\n",
       "      <td>P</td>\n",
       "      <td>8</td>\n",
       "      <td>2</td>\n",
       "      <td>B</td>\n",
       "      <td>5</td>\n",
       "      <td>R</td>\n",
       "    </tr>\n",
       "    <tr>\n",
       "      <th>21</th>\n",
       "      <td>A</td>\n",
       "      <td>F</td>\n",
       "      <td>18</td>\n",
       "      <td>1.65</td>\n",
       "      <td>58.5</td>\n",
       "      <td>1</td>\n",
       "      <td>NAO</td>\n",
       "      <td>M</td>\n",
       "      <td>0</td>\n",
       "      <td>3</td>\n",
       "      <td>B</td>\n",
       "      <td>5</td>\n",
       "      <td>R</td>\n",
       "    </tr>\n",
       "    <tr>\n",
       "      <th>22</th>\n",
       "      <td>A</td>\n",
       "      <td>F</td>\n",
       "      <td>18</td>\n",
       "      <td>1.57</td>\n",
       "      <td>49.2</td>\n",
       "      <td>1</td>\n",
       "      <td>SIM</td>\n",
       "      <td>I</td>\n",
       "      <td>5</td>\n",
       "      <td>4</td>\n",
       "      <td>B</td>\n",
       "      <td>10</td>\n",
       "      <td>R</td>\n",
       "    </tr>\n",
       "    <tr>\n",
       "      <th>23</th>\n",
       "      <td>A</td>\n",
       "      <td>F</td>\n",
       "      <td>20</td>\n",
       "      <td>1.55</td>\n",
       "      <td>48.0</td>\n",
       "      <td>1</td>\n",
       "      <td>SIM</td>\n",
       "      <td>I</td>\n",
       "      <td>0</td>\n",
       "      <td>1</td>\n",
       "      <td>M</td>\n",
       "      <td>28</td>\n",
       "      <td>R</td>\n",
       "    </tr>\n",
       "    <tr>\n",
       "      <th>24</th>\n",
       "      <td>A</td>\n",
       "      <td>F</td>\n",
       "      <td>20</td>\n",
       "      <td>1.69</td>\n",
       "      <td>51.6</td>\n",
       "      <td>2</td>\n",
       "      <td>NAO</td>\n",
       "      <td>P</td>\n",
       "      <td>8</td>\n",
       "      <td>5</td>\n",
       "      <td>M</td>\n",
       "      <td>4</td>\n",
       "      <td>N</td>\n",
       "    </tr>\n",
       "    <tr>\n",
       "      <th>25</th>\n",
       "      <td>A</td>\n",
       "      <td>F</td>\n",
       "      <td>19</td>\n",
       "      <td>1.54</td>\n",
       "      <td>57.0</td>\n",
       "      <td>2</td>\n",
       "      <td>NAO</td>\n",
       "      <td>I</td>\n",
       "      <td>6</td>\n",
       "      <td>2</td>\n",
       "      <td>B</td>\n",
       "      <td>5</td>\n",
       "      <td>R</td>\n",
       "    </tr>\n",
       "    <tr>\n",
       "      <th>26</th>\n",
       "      <td>B</td>\n",
       "      <td>F</td>\n",
       "      <td>23</td>\n",
       "      <td>1.62</td>\n",
       "      <td>63.0</td>\n",
       "      <td>2</td>\n",
       "      <td>NAO</td>\n",
       "      <td>M</td>\n",
       "      <td>8</td>\n",
       "      <td>2</td>\n",
       "      <td>M</td>\n",
       "      <td>5</td>\n",
       "      <td>R</td>\n",
       "    </tr>\n",
       "    <tr>\n",
       "      <th>27</th>\n",
       "      <td>B</td>\n",
       "      <td>F</td>\n",
       "      <td>18</td>\n",
       "      <td>1.62</td>\n",
       "      <td>52.0</td>\n",
       "      <td>1</td>\n",
       "      <td>NAO</td>\n",
       "      <td>P</td>\n",
       "      <td>1</td>\n",
       "      <td>1</td>\n",
       "      <td>M</td>\n",
       "      <td>10</td>\n",
       "      <td>R</td>\n",
       "    </tr>\n",
       "    <tr>\n",
       "      <th>28</th>\n",
       "      <td>B</td>\n",
       "      <td>F</td>\n",
       "      <td>18</td>\n",
       "      <td>1.57</td>\n",
       "      <td>49.0</td>\n",
       "      <td>2</td>\n",
       "      <td>NAO</td>\n",
       "      <td>P</td>\n",
       "      <td>3</td>\n",
       "      <td>1</td>\n",
       "      <td>B</td>\n",
       "      <td>12</td>\n",
       "      <td>R</td>\n",
       "    </tr>\n",
       "    <tr>\n",
       "      <th>29</th>\n",
       "      <td>B</td>\n",
       "      <td>F</td>\n",
       "      <td>25</td>\n",
       "      <td>1.65</td>\n",
       "      <td>59.0</td>\n",
       "      <td>4</td>\n",
       "      <td>NAO</td>\n",
       "      <td>M</td>\n",
       "      <td>1</td>\n",
       "      <td>2</td>\n",
       "      <td>M</td>\n",
       "      <td>2</td>\n",
       "      <td>R</td>\n",
       "    </tr>\n",
       "    <tr>\n",
       "      <th>30</th>\n",
       "      <td>B</td>\n",
       "      <td>F</td>\n",
       "      <td>18</td>\n",
       "      <td>1.61</td>\n",
       "      <td>52.0</td>\n",
       "      <td>1</td>\n",
       "      <td>NAO</td>\n",
       "      <td>P</td>\n",
       "      <td>2</td>\n",
       "      <td>2</td>\n",
       "      <td>M</td>\n",
       "      <td>6</td>\n",
       "      <td>N</td>\n",
       "    </tr>\n",
       "    <tr>\n",
       "      <th>31</th>\n",
       "      <td>B</td>\n",
       "      <td>M</td>\n",
       "      <td>17</td>\n",
       "      <td>1.71</td>\n",
       "      <td>73.0</td>\n",
       "      <td>1</td>\n",
       "      <td>NAO</td>\n",
       "      <td>P</td>\n",
       "      <td>1</td>\n",
       "      <td>1</td>\n",
       "      <td>B</td>\n",
       "      <td>20</td>\n",
       "      <td>R</td>\n",
       "    </tr>\n",
       "    <tr>\n",
       "      <th>32</th>\n",
       "      <td>B</td>\n",
       "      <td>F</td>\n",
       "      <td>17</td>\n",
       "      <td>1.65</td>\n",
       "      <td>56.0</td>\n",
       "      <td>3</td>\n",
       "      <td>NAO</td>\n",
       "      <td>M</td>\n",
       "      <td>2</td>\n",
       "      <td>1</td>\n",
       "      <td>B</td>\n",
       "      <td>14</td>\n",
       "      <td>R</td>\n",
       "    </tr>\n",
       "    <tr>\n",
       "      <th>33</th>\n",
       "      <td>B</td>\n",
       "      <td>F</td>\n",
       "      <td>17</td>\n",
       "      <td>1.67</td>\n",
       "      <td>58.0</td>\n",
       "      <td>1</td>\n",
       "      <td>NAO</td>\n",
       "      <td>M</td>\n",
       "      <td>4</td>\n",
       "      <td>2</td>\n",
       "      <td>B</td>\n",
       "      <td>10</td>\n",
       "      <td>R</td>\n",
       "    </tr>\n",
       "    <tr>\n",
       "      <th>34</th>\n",
       "      <td>B</td>\n",
       "      <td>M</td>\n",
       "      <td>18</td>\n",
       "      <td>1.73</td>\n",
       "      <td>87.0</td>\n",
       "      <td>1</td>\n",
       "      <td>NAO</td>\n",
       "      <td>M</td>\n",
       "      <td>7</td>\n",
       "      <td>1</td>\n",
       "      <td>B</td>\n",
       "      <td>25</td>\n",
       "      <td>B</td>\n",
       "    </tr>\n",
       "    <tr>\n",
       "      <th>35</th>\n",
       "      <td>B</td>\n",
       "      <td>F</td>\n",
       "      <td>18</td>\n",
       "      <td>1.60</td>\n",
       "      <td>47.0</td>\n",
       "      <td>1</td>\n",
       "      <td>NAO</td>\n",
       "      <td>P</td>\n",
       "      <td>5</td>\n",
       "      <td>1</td>\n",
       "      <td>M</td>\n",
       "      <td>14</td>\n",
       "      <td>R</td>\n",
       "    </tr>\n",
       "    <tr>\n",
       "      <th>36</th>\n",
       "      <td>B</td>\n",
       "      <td>M</td>\n",
       "      <td>17</td>\n",
       "      <td>1.70</td>\n",
       "      <td>95.0</td>\n",
       "      <td>1</td>\n",
       "      <td>NAO</td>\n",
       "      <td>P</td>\n",
       "      <td>10</td>\n",
       "      <td>2</td>\n",
       "      <td>M</td>\n",
       "      <td>12</td>\n",
       "      <td>N</td>\n",
       "    </tr>\n",
       "    <tr>\n",
       "      <th>37</th>\n",
       "      <td>B</td>\n",
       "      <td>M</td>\n",
       "      <td>21</td>\n",
       "      <td>1.85</td>\n",
       "      <td>84.0</td>\n",
       "      <td>1</td>\n",
       "      <td>SIM</td>\n",
       "      <td>I</td>\n",
       "      <td>6</td>\n",
       "      <td>4</td>\n",
       "      <td>B</td>\n",
       "      <td>10</td>\n",
       "      <td>R</td>\n",
       "    </tr>\n",
       "    <tr>\n",
       "      <th>38</th>\n",
       "      <td>B</td>\n",
       "      <td>F</td>\n",
       "      <td>18</td>\n",
       "      <td>1.70</td>\n",
       "      <td>60.0</td>\n",
       "      <td>1</td>\n",
       "      <td>NAO</td>\n",
       "      <td>P</td>\n",
       "      <td>5</td>\n",
       "      <td>2</td>\n",
       "      <td>B</td>\n",
       "      <td>12</td>\n",
       "      <td>R</td>\n",
       "    </tr>\n",
       "    <tr>\n",
       "      <th>39</th>\n",
       "      <td>B</td>\n",
       "      <td>M</td>\n",
       "      <td>18</td>\n",
       "      <td>1.73</td>\n",
       "      <td>73.0</td>\n",
       "      <td>1</td>\n",
       "      <td>NAO</td>\n",
       "      <td>M</td>\n",
       "      <td>4</td>\n",
       "      <td>1</td>\n",
       "      <td>B</td>\n",
       "      <td>2</td>\n",
       "      <td>R</td>\n",
       "    </tr>\n",
       "    <tr>\n",
       "      <th>40</th>\n",
       "      <td>B</td>\n",
       "      <td>F</td>\n",
       "      <td>17</td>\n",
       "      <td>1.70</td>\n",
       "      <td>55.0</td>\n",
       "      <td>1</td>\n",
       "      <td>NAO</td>\n",
       "      <td>I</td>\n",
       "      <td>5</td>\n",
       "      <td>4</td>\n",
       "      <td>B</td>\n",
       "      <td>10</td>\n",
       "      <td>B</td>\n",
       "    </tr>\n",
       "    <tr>\n",
       "      <th>41</th>\n",
       "      <td>B</td>\n",
       "      <td>F</td>\n",
       "      <td>23</td>\n",
       "      <td>1.45</td>\n",
       "      <td>44.0</td>\n",
       "      <td>2</td>\n",
       "      <td>NAO</td>\n",
       "      <td>M</td>\n",
       "      <td>2</td>\n",
       "      <td>2</td>\n",
       "      <td>B</td>\n",
       "      <td>25</td>\n",
       "      <td>R</td>\n",
       "    </tr>\n",
       "    <tr>\n",
       "      <th>42</th>\n",
       "      <td>B</td>\n",
       "      <td>M</td>\n",
       "      <td>24</td>\n",
       "      <td>1.76</td>\n",
       "      <td>75.0</td>\n",
       "      <td>2</td>\n",
       "      <td>NAO</td>\n",
       "      <td>I</td>\n",
       "      <td>7</td>\n",
       "      <td>0</td>\n",
       "      <td>M</td>\n",
       "      <td>14</td>\n",
       "      <td>N</td>\n",
       "    </tr>\n",
       "    <tr>\n",
       "      <th>43</th>\n",
       "      <td>B</td>\n",
       "      <td>F</td>\n",
       "      <td>18</td>\n",
       "      <td>1.68</td>\n",
       "      <td>55.0</td>\n",
       "      <td>1</td>\n",
       "      <td>NAO</td>\n",
       "      <td>P</td>\n",
       "      <td>5</td>\n",
       "      <td>1</td>\n",
       "      <td>B</td>\n",
       "      <td>8</td>\n",
       "      <td>R</td>\n",
       "    </tr>\n",
       "    <tr>\n",
       "      <th>44</th>\n",
       "      <td>B</td>\n",
       "      <td>F</td>\n",
       "      <td>18</td>\n",
       "      <td>1.55</td>\n",
       "      <td>49.0</td>\n",
       "      <td>1</td>\n",
       "      <td>NAO</td>\n",
       "      <td>M</td>\n",
       "      <td>0</td>\n",
       "      <td>1</td>\n",
       "      <td>M</td>\n",
       "      <td>10</td>\n",
       "      <td>R</td>\n",
       "    </tr>\n",
       "    <tr>\n",
       "      <th>45</th>\n",
       "      <td>B</td>\n",
       "      <td>F</td>\n",
       "      <td>19</td>\n",
       "      <td>1.70</td>\n",
       "      <td>50.0</td>\n",
       "      <td>7</td>\n",
       "      <td>NAO</td>\n",
       "      <td>M</td>\n",
       "      <td>0</td>\n",
       "      <td>1</td>\n",
       "      <td>B</td>\n",
       "      <td>8</td>\n",
       "      <td>R</td>\n",
       "    </tr>\n",
       "    <tr>\n",
       "      <th>46</th>\n",
       "      <td>B</td>\n",
       "      <td>F</td>\n",
       "      <td>19</td>\n",
       "      <td>1.55</td>\n",
       "      <td>54.5</td>\n",
       "      <td>2</td>\n",
       "      <td>NAO</td>\n",
       "      <td>M</td>\n",
       "      <td>4</td>\n",
       "      <td>3</td>\n",
       "      <td>B</td>\n",
       "      <td>3</td>\n",
       "      <td>R</td>\n",
       "    </tr>\n",
       "    <tr>\n",
       "      <th>47</th>\n",
       "      <td>B</td>\n",
       "      <td>F</td>\n",
       "      <td>18</td>\n",
       "      <td>1.60</td>\n",
       "      <td>50.0</td>\n",
       "      <td>1</td>\n",
       "      <td>NAO</td>\n",
       "      <td>P</td>\n",
       "      <td>2</td>\n",
       "      <td>1</td>\n",
       "      <td>B</td>\n",
       "      <td>5</td>\n",
       "      <td>R</td>\n",
       "    </tr>\n",
       "    <tr>\n",
       "      <th>48</th>\n",
       "      <td>B</td>\n",
       "      <td>M</td>\n",
       "      <td>17</td>\n",
       "      <td>1.80</td>\n",
       "      <td>71.0</td>\n",
       "      <td>1</td>\n",
       "      <td>NAO</td>\n",
       "      <td>P</td>\n",
       "      <td>7</td>\n",
       "      <td>0</td>\n",
       "      <td>M</td>\n",
       "      <td>14</td>\n",
       "      <td>R</td>\n",
       "    </tr>\n",
       "    <tr>\n",
       "      <th>49</th>\n",
       "      <td>B</td>\n",
       "      <td>M</td>\n",
       "      <td>18</td>\n",
       "      <td>1.83</td>\n",
       "      <td>86.0</td>\n",
       "      <td>1</td>\n",
       "      <td>NAO</td>\n",
       "      <td>P</td>\n",
       "      <td>7</td>\n",
       "      <td>0</td>\n",
       "      <td>M</td>\n",
       "      <td>20</td>\n",
       "      <td>B</td>\n",
       "    </tr>\n",
       "  </tbody>\n",
       "</table>\n",
       "</div>"
      ],
      "text/plain": [
       "   Turma Sexo  Idade   Alt  Peso  Filhos Fuma Toler  Exerc  Cine OpCine  TV  \\\n",
       "0      A    F     17  1.60  60.5       2  NAO     P      0     1      B  16   \n",
       "1      A    F     18  1.69  55.0       1  NAO     M      0     1      B   7   \n",
       "2      A    M     18  1.85  72.8       2  NAO     P      5     2      M  15   \n",
       "3      A    M     25  1.85  80.9       2  NAO     P      5     2      B  20   \n",
       "4      A    F     19  1.58  55.0       1  NAO     M      2     2      B   5   \n",
       "5      A    M     19  1.76  60.0       3  NAO     M      2     1      B   2   \n",
       "6      A    F     20  1.60  58.0       1  NAO     P      3     1      B   7   \n",
       "7      A    F     18  1.64  47.0       1  SIM     I      2     2      M  10   \n",
       "8      A    F     18  1.62  57.8       3  NAO     M      3     3      M  12   \n",
       "9      A    F     17  1.64  58.0       2  NAO     M      2     2      M  10   \n",
       "10     A    F     18  1.72  70.0       1  SIM     I     10     2      B   8   \n",
       "11     A    F     18  1.66  54.0       3  NAO     M      0     2      B   0   \n",
       "12     A    F     21  1.70  58.0       2  NAO     M      6     1      M  30   \n",
       "13     A    M     19  1.78  68.5       1  SIM     I      5     1      M   2   \n",
       "14     A    F     18  1.65  63.5       1  NAO     I      4     1      B  10   \n",
       "15     A    F     19  1.63  47.4       3  NAO     P      0     1      B  18   \n",
       "16     A    F     17  1.82  66.0       1  NAO     P      3     1      B  10   \n",
       "17     A    M     18  1.80  85.2       2  NAO     P      3     4      B  10   \n",
       "18     A    F     20  1.60  54.5       1  NAO     P      3     2      B   5   \n",
       "19     A    F     18  1.68  52.5       3  NAO     M      7     2      B  14   \n",
       "20     A    F     21  1.70  60.0       2  NAO     P      8     2      B   5   \n",
       "21     A    F     18  1.65  58.5       1  NAO     M      0     3      B   5   \n",
       "22     A    F     18  1.57  49.2       1  SIM     I      5     4      B  10   \n",
       "23     A    F     20  1.55  48.0       1  SIM     I      0     1      M  28   \n",
       "24     A    F     20  1.69  51.6       2  NAO     P      8     5      M   4   \n",
       "25     A    F     19  1.54  57.0       2  NAO     I      6     2      B   5   \n",
       "26     B    F     23  1.62  63.0       2  NAO     M      8     2      M   5   \n",
       "27     B    F     18  1.62  52.0       1  NAO     P      1     1      M  10   \n",
       "28     B    F     18  1.57  49.0       2  NAO     P      3     1      B  12   \n",
       "29     B    F     25  1.65  59.0       4  NAO     M      1     2      M   2   \n",
       "30     B    F     18  1.61  52.0       1  NAO     P      2     2      M   6   \n",
       "31     B    M     17  1.71  73.0       1  NAO     P      1     1      B  20   \n",
       "32     B    F     17  1.65  56.0       3  NAO     M      2     1      B  14   \n",
       "33     B    F     17  1.67  58.0       1  NAO     M      4     2      B  10   \n",
       "34     B    M     18  1.73  87.0       1  NAO     M      7     1      B  25   \n",
       "35     B    F     18  1.60  47.0       1  NAO     P      5     1      M  14   \n",
       "36     B    M     17  1.70  95.0       1  NAO     P     10     2      M  12   \n",
       "37     B    M     21  1.85  84.0       1  SIM     I      6     4      B  10   \n",
       "38     B    F     18  1.70  60.0       1  NAO     P      5     2      B  12   \n",
       "39     B    M     18  1.73  73.0       1  NAO     M      4     1      B   2   \n",
       "40     B    F     17  1.70  55.0       1  NAO     I      5     4      B  10   \n",
       "41     B    F     23  1.45  44.0       2  NAO     M      2     2      B  25   \n",
       "42     B    M     24  1.76  75.0       2  NAO     I      7     0      M  14   \n",
       "43     B    F     18  1.68  55.0       1  NAO     P      5     1      B   8   \n",
       "44     B    F     18  1.55  49.0       1  NAO     M      0     1      M  10   \n",
       "45     B    F     19  1.70  50.0       7  NAO     M      0     1      B   8   \n",
       "46     B    F     19  1.55  54.5       2  NAO     M      4     3      B   3   \n",
       "47     B    F     18  1.60  50.0       1  NAO     P      2     1      B   5   \n",
       "48     B    M     17  1.80  71.0       1  NAO     P      7     0      M  14   \n",
       "49     B    M     18  1.83  86.0       1  NAO     P      7     0      M  20   \n",
       "\n",
       "   OpTV  \n",
       "0     R  \n",
       "1     R  \n",
       "2     R  \n",
       "3     R  \n",
       "4     R  \n",
       "5     R  \n",
       "6     R  \n",
       "7     R  \n",
       "8     R  \n",
       "9     R  \n",
       "10    N  \n",
       "11    R  \n",
       "12    R  \n",
       "13    N  \n",
       "14    R  \n",
       "15    R  \n",
       "16    N  \n",
       "17    R  \n",
       "18    R  \n",
       "19    M  \n",
       "20    R  \n",
       "21    R  \n",
       "22    R  \n",
       "23    R  \n",
       "24    N  \n",
       "25    R  \n",
       "26    R  \n",
       "27    R  \n",
       "28    R  \n",
       "29    R  \n",
       "30    N  \n",
       "31    R  \n",
       "32    R  \n",
       "33    R  \n",
       "34    B  \n",
       "35    R  \n",
       "36    N  \n",
       "37    R  \n",
       "38    R  \n",
       "39    R  \n",
       "40    B  \n",
       "41    R  \n",
       "42    N  \n",
       "43    R  \n",
       "44    R  \n",
       "45    R  \n",
       "46    R  \n",
       "47    R  \n",
       "48    R  \n",
       "49    B  "
      ]
     },
     "execution_count": 42,
     "metadata": {},
     "output_type": "execute_result"
    }
   ],
   "source": [
    "df = pd.read_excel(\"C:/Users/joses/Dropbox/PC/Downloads/dados3.xls\")\n",
    "df"
   ]
  },
  {
   "cell_type": "markdown",
   "id": "2adcd36e",
   "metadata": {},
   "source": [
    "## A)"
   ]
  },
  {
   "cell_type": "markdown",
   "id": "180a5c37",
   "metadata": {},
   "source": [
    "**Turma:** Qualitativo\n",
    "**Gênero:** Qualitativo\n",
    "**Idade:** Quantitativo\n",
    "**Alt:** Quantitativo\n",
    "**Peso:** Quantitativo\n",
    "**Filhos:** Quantitativo\n",
    "**Fuma:** Qualitativo\n",
    "**Tolr:** Qualitativo\n",
    "**Exerc:** Quantitativo\n",
    "**Cine:** Quantitativo\n",
    "**OpCine:** Qualitativo\n",
    "**TV:** Quantitativo\n",
    "**OpTV:** Qualitativo "
   ]
  },
  {
   "cell_type": "markdown",
   "id": "2adcd36e",
   "metadata": {},
   "source": [
    "## B)"
   ]
  },
  {
   "cell_type": "code",
   "execution_count": 59,
   "id": "7fd8d619",
   "metadata": {},
   "outputs": [
    {
     "data": {
      "text/plain": [
       "array(['A', 'B'], dtype=object)"
      ]
     },
     "execution_count": 59,
     "metadata": {},
     "output_type": "execute_result"
    }
   ],
   "source": [
    "df['Turma'].unique()"
   ]
  },
  {
   "cell_type": "code",
   "execution_count": 60,
   "id": "1e0011c6",
   "metadata": {},
   "outputs": [
    {
     "data": {
      "text/plain": [
       "A    26\n",
       "B    24\n",
       "Name: Turma, dtype: int64"
      ]
     },
     "execution_count": 60,
     "metadata": {},
     "output_type": "execute_result"
    }
   ],
   "source": [
    "fi =df['Turma'].value_counts()\n",
    "fi"
   ]
  },
  {
   "cell_type": "code",
   "execution_count": 61,
   "id": "a6d50221",
   "metadata": {},
   "outputs": [
    {
     "data": {
      "text/plain": [
       "array(['F', 'M'], dtype=object)"
      ]
     },
     "execution_count": 61,
     "metadata": {},
     "output_type": "execute_result"
    }
   ],
   "source": [
    "df['Sexo'].unique()"
   ]
  },
  {
   "cell_type": "code",
   "execution_count": 62,
   "id": "4293af15",
   "metadata": {},
   "outputs": [
    {
     "data": {
      "text/plain": [
       "F    37\n",
       "M    13\n",
       "Name: Sexo, dtype: int64"
      ]
     },
     "execution_count": 62,
     "metadata": {},
     "output_type": "execute_result"
    }
   ],
   "source": [
    "fi =df['Sexo'].value_counts()\n",
    "fi"
   ]
  },
  {
   "cell_type": "code",
   "execution_count": 63,
   "id": "8eee992c",
   "metadata": {},
   "outputs": [
    {
     "data": {
      "text/plain": [
       "array([17, 18, 25, 19, 20, 21, 23, 24], dtype=int64)"
      ]
     },
     "execution_count": 63,
     "metadata": {},
     "output_type": "execute_result"
    }
   ],
   "source": [
    "df['Idade'].unique()"
   ]
  },
  {
   "cell_type": "code",
   "execution_count": 64,
   "id": "e013ae70",
   "metadata": {},
   "outputs": [
    {
     "data": {
      "text/plain": [
       "18    22\n",
       "17     9\n",
       "19     7\n",
       "20     4\n",
       "21     3\n",
       "23     2\n",
       "25     2\n",
       "24     1\n",
       "Name: Idade, dtype: int64"
      ]
     },
     "execution_count": 64,
     "metadata": {},
     "output_type": "execute_result"
    }
   ],
   "source": [
    "fi =df['Idade'].value_counts()\n",
    "fi"
   ]
  },
  {
   "cell_type": "code",
   "execution_count": 65,
   "id": "d270765d",
   "metadata": {},
   "outputs": [
    {
     "data": {
      "text/plain": [
       "array([1.6 , 1.69, 1.85, 1.58, 1.76, 1.64, 1.62, 1.72, 1.66, 1.7 , 1.78,\n",
       "       1.65, 1.63, 1.82, 1.8 , 1.68, 1.57, 1.55, 1.54, 1.61, 1.71, 1.67,\n",
       "       1.73, 1.45, 1.83])"
      ]
     },
     "execution_count": 65,
     "metadata": {},
     "output_type": "execute_result"
    }
   ],
   "source": [
    "df['Alt'].unique()"
   ]
  },
  {
   "cell_type": "code",
   "execution_count": 66,
   "id": "86a09e91",
   "metadata": {},
   "outputs": [
    {
     "data": {
      "text/plain": [
       "1.70    6\n",
       "1.60    5\n",
       "1.65    4\n",
       "1.55    3\n",
       "1.62    3\n",
       "1.85    3\n",
       "1.80    2\n",
       "1.64    2\n",
       "1.57    2\n",
       "1.73    2\n",
       "1.76    2\n",
       "1.69    2\n",
       "1.68    2\n",
       "1.54    1\n",
       "1.82    1\n",
       "1.45    1\n",
       "1.67    1\n",
       "1.63    1\n",
       "1.83    1\n",
       "1.72    1\n",
       "1.66    1\n",
       "1.78    1\n",
       "1.58    1\n",
       "1.71    1\n",
       "1.61    1\n",
       "Name: Alt, dtype: int64"
      ]
     },
     "execution_count": 66,
     "metadata": {},
     "output_type": "execute_result"
    }
   ],
   "source": [
    "fi =df['Alt'].value_counts()\n",
    "fi"
   ]
  },
  {
   "cell_type": "code",
   "execution_count": 67,
   "id": "46cea85b",
   "metadata": {},
   "outputs": [
    {
     "data": {
      "text/plain": [
       "array([60.5, 55. , 72.8, 80.9, 60. , 58. , 47. , 57.8, 70. , 54. , 68.5,\n",
       "       63.5, 47.4, 66. , 85.2, 54.5, 52.5, 58.5, 49.2, 48. , 51.6, 57. ,\n",
       "       63. , 52. , 49. , 59. , 73. , 56. , 87. , 95. , 84. , 44. , 75. ,\n",
       "       50. , 71. , 86. ])"
      ]
     },
     "execution_count": 67,
     "metadata": {},
     "output_type": "execute_result"
    }
   ],
   "source": [
    "df['Peso'].unique()"
   ]
  },
  {
   "cell_type": "code",
   "execution_count": 68,
   "id": "aef5f704",
   "metadata": {},
   "outputs": [
    {
     "data": {
      "text/plain": [
       "58.0    4\n",
       "55.0    4\n",
       "60.0    3\n",
       "47.0    2\n",
       "52.0    2\n",
       "54.5    2\n",
       "49.0    2\n",
       "73.0    2\n",
       "50.0    2\n",
       "54.0    1\n",
       "60.5    1\n",
       "66.0    1\n",
       "72.8    1\n",
       "58.5    1\n",
       "52.5    1\n",
       "84.0    1\n",
       "48.0    1\n",
       "86.0    1\n",
       "71.0    1\n",
       "63.0    1\n",
       "59.0    1\n",
       "63.5    1\n",
       "51.6    1\n",
       "70.0    1\n",
       "68.5    1\n",
       "57.0    1\n",
       "87.0    1\n",
       "49.2    1\n",
       "95.0    1\n",
       "57.8    1\n",
       "85.2    1\n",
       "47.4    1\n",
       "75.0    1\n",
       "80.9    1\n",
       "44.0    1\n",
       "56.0    1\n",
       "Name: Peso, dtype: int64"
      ]
     },
     "execution_count": 68,
     "metadata": {},
     "output_type": "execute_result"
    }
   ],
   "source": [
    "fi =df['Peso'].value_counts()\n",
    "fi"
   ]
  },
  {
   "cell_type": "code",
   "execution_count": 69,
   "id": "9f1e7410",
   "metadata": {},
   "outputs": [
    {
     "data": {
      "text/plain": [
       "array([2, 1, 3, 4, 7], dtype=int64)"
      ]
     },
     "execution_count": 69,
     "metadata": {},
     "output_type": "execute_result"
    }
   ],
   "source": [
    "df['Filhos'].unique()"
   ]
  },
  {
   "cell_type": "code",
   "execution_count": 70,
   "id": "3e63722d",
   "metadata": {},
   "outputs": [
    {
     "data": {
      "text/plain": [
       "1    28\n",
       "2    14\n",
       "3     6\n",
       "4     1\n",
       "7     1\n",
       "Name: Filhos, dtype: int64"
      ]
     },
     "execution_count": 70,
     "metadata": {},
     "output_type": "execute_result"
    }
   ],
   "source": [
    "fi =df['Filhos'].value_counts()\n",
    "fi"
   ]
  },
  {
   "cell_type": "code",
   "execution_count": 71,
   "id": "dd6873d1",
   "metadata": {},
   "outputs": [
    {
     "data": {
      "text/plain": [
       "array(['NAO', 'SIM'], dtype=object)"
      ]
     },
     "execution_count": 71,
     "metadata": {},
     "output_type": "execute_result"
    }
   ],
   "source": [
    "df['Fuma'].unique()"
   ]
  },
  {
   "cell_type": "code",
   "execution_count": 72,
   "id": "a2b4fb21",
   "metadata": {},
   "outputs": [
    {
     "data": {
      "text/plain": [
       "NAO    44\n",
       "SIM     6\n",
       "Name: Fuma, dtype: int64"
      ]
     },
     "execution_count": 72,
     "metadata": {},
     "output_type": "execute_result"
    }
   ],
   "source": [
    "fi =df['Fuma'].value_counts()\n",
    "fi"
   ]
  },
  {
   "cell_type": "code",
   "execution_count": 73,
   "id": "a92227b8",
   "metadata": {},
   "outputs": [
    {
     "data": {
      "text/plain": [
       "array(['P', 'M', 'I'], dtype=object)"
      ]
     },
     "execution_count": 73,
     "metadata": {},
     "output_type": "execute_result"
    }
   ],
   "source": [
    "df['Toler'].unique()"
   ]
  },
  {
   "cell_type": "code",
   "execution_count": 74,
   "id": "6ae92bbb",
   "metadata": {},
   "outputs": [
    {
     "data": {
      "text/plain": [
       "P    21\n",
       "M    19\n",
       "I    10\n",
       "Name: Toler, dtype: int64"
      ]
     },
     "execution_count": 74,
     "metadata": {},
     "output_type": "execute_result"
    }
   ],
   "source": [
    "fi =df['Toler'].value_counts()\n",
    "fi"
   ]
  },
  {
   "cell_type": "code",
   "execution_count": 75,
   "id": "b0495f40",
   "metadata": {},
   "outputs": [
    {
     "data": {
      "text/plain": [
       "array([ 0,  5,  2,  3, 10,  6,  4,  7,  8,  1], dtype=int64)"
      ]
     },
     "execution_count": 75,
     "metadata": {},
     "output_type": "execute_result"
    }
   ],
   "source": [
    "df['Exerc'].unique()"
   ]
  },
  {
   "cell_type": "code",
   "execution_count": 76,
   "id": "78cc868f",
   "metadata": {},
   "outputs": [
    {
     "data": {
      "text/plain": [
       "0     8\n",
       "2     8\n",
       "5     8\n",
       "3     6\n",
       "7     5\n",
       "4     4\n",
       "1     3\n",
       "6     3\n",
       "8     3\n",
       "10    2\n",
       "Name: Exerc, dtype: int64"
      ]
     },
     "execution_count": 76,
     "metadata": {},
     "output_type": "execute_result"
    }
   ],
   "source": [
    "fi =df['Exerc'].value_counts()\n",
    "fi"
   ]
  },
  {
   "cell_type": "code",
   "execution_count": 77,
   "id": "b5913949",
   "metadata": {},
   "outputs": [
    {
     "data": {
      "text/plain": [
       "array([1, 2, 3, 4, 5, 0], dtype=int64)"
      ]
     },
     "execution_count": 77,
     "metadata": {},
     "output_type": "execute_result"
    }
   ],
   "source": [
    "df['Cine'].unique()"
   ]
  },
  {
   "cell_type": "code",
   "execution_count": 78,
   "id": "f48920f4",
   "metadata": {},
   "outputs": [
    {
     "data": {
      "text/plain": [
       "1    21\n",
       "2    18\n",
       "4     4\n",
       "0     3\n",
       "3     3\n",
       "5     1\n",
       "Name: Cine, dtype: int64"
      ]
     },
     "execution_count": 78,
     "metadata": {},
     "output_type": "execute_result"
    }
   ],
   "source": [
    "fi =df['Cine'].value_counts()\n",
    "fi"
   ]
  },
  {
   "cell_type": "code",
   "execution_count": 53,
   "id": "4381193b",
   "metadata": {},
   "outputs": [
    {
     "data": {
      "text/plain": [
       "array(['B', 'M'], dtype=object)"
      ]
     },
     "execution_count": 53,
     "metadata": {},
     "output_type": "execute_result"
    }
   ],
   "source": [
    "df['OpCine'].unique()"
   ]
  },
  {
   "cell_type": "code",
   "execution_count": 79,
   "id": "ce5f1731",
   "metadata": {},
   "outputs": [
    {
     "data": {
      "text/plain": [
       "B    32\n",
       "M    18\n",
       "Name: OpCine, dtype: int64"
      ]
     },
     "execution_count": 79,
     "metadata": {},
     "output_type": "execute_result"
    }
   ],
   "source": [
    "fi =df['OpCine'].value_counts()\n",
    "fi"
   ]
  },
  {
   "cell_type": "code",
   "execution_count": 54,
   "id": "b74e120c",
   "metadata": {},
   "outputs": [
    {
     "data": {
      "text/plain": [
       "array([16,  7, 15, 20,  5,  2, 10, 12,  8,  0, 30, 18, 14, 28,  4,  6, 25,\n",
       "        3], dtype=int64)"
      ]
     },
     "execution_count": 54,
     "metadata": {},
     "output_type": "execute_result"
    }
   ],
   "source": [
    "df['TV'].unique()"
   ]
  },
  {
   "cell_type": "code",
   "execution_count": 80,
   "id": "f9280b69",
   "metadata": {},
   "outputs": [
    {
     "data": {
      "text/plain": [
       "10    11\n",
       "5      7\n",
       "14     5\n",
       "12     4\n",
       "2      4\n",
       "20     3\n",
       "8      3\n",
       "25     2\n",
       "7      2\n",
       "16     1\n",
       "28     1\n",
       "18     1\n",
       "0      1\n",
       "15     1\n",
       "6      1\n",
       "4      1\n",
       "3      1\n",
       "30     1\n",
       "Name: TV, dtype: int64"
      ]
     },
     "execution_count": 80,
     "metadata": {},
     "output_type": "execute_result"
    }
   ],
   "source": [
    "fi =df['TV'].value_counts()\n",
    "fi"
   ]
  },
  {
   "cell_type": "code",
   "execution_count": 55,
   "id": "fab76103",
   "metadata": {},
   "outputs": [
    {
     "data": {
      "text/plain": [
       "array(['R', 'N', 'M', 'B'], dtype=object)"
      ]
     },
     "execution_count": 55,
     "metadata": {},
     "output_type": "execute_result"
    }
   ],
   "source": [
    "df['OpTV'].unique()"
   ]
  },
  {
   "cell_type": "code",
   "execution_count": 81,
   "id": "e3c874cb",
   "metadata": {},
   "outputs": [
    {
     "data": {
      "text/plain": [
       "R    39\n",
       "N     7\n",
       "B     3\n",
       "M     1\n",
       "Name: OpTV, dtype: int64"
      ]
     },
     "execution_count": 81,
     "metadata": {},
     "output_type": "execute_result"
    }
   ],
   "source": [
    "fi =df['OpTV'].value_counts()\n",
    "fi"
   ]
  },
  {
   "cell_type": "markdown",
   "id": "b5947db9",
   "metadata": {},
   "source": [
    "## C)"
   ]
  },
  {
   "cell_type": "code",
   "execution_count": 82,
   "id": "fda158ef",
   "metadata": {},
   "outputs": [
    {
     "data": {
      "text/plain": [
       "<AxesSubplot:>"
      ]
     },
     "execution_count": 82,
     "metadata": {},
     "output_type": "execute_result"
    },
    {
     "data": {
      "image/png": "[encoded data removed]",
      "text/plain": [
       "<Figure size 432x288 with 1 Axes>"
      ]
     },
     "metadata": {
      "needs_background": "light"
     },
     "output_type": "display_data"
    }
   ],
   "source": [
    "df['Turma'].value_counts().plot.bar()"
   ]
  },
  {
   "cell_type": "code",
   "execution_count": 83,
   "id": "9a594fb4",
   "metadata": {},
   "outputs": [
    {
     "data": {
      "text/plain": [
       "<AxesSubplot:>"
      ]
     },
     "execution_count": 83,
     "metadata": {},
     "output_type": "execute_result"
    },
    {
     "data": {
      "image/png": "[encoded data removed]",
      "text/plain": [
       "<Figure size 432x288 with 1 Axes>"
      ]
     },
     "metadata": {
      "needs_background": "light"
     },
     "output_type": "display_data"
    }
   ],
   "source": [
    "df['Sexo'].value_counts().plot.bar()"
   ]
  },
  {
   "cell_type": "code",
   "execution_count": 84,
   "id": "42412ec0",
   "metadata": {},
   "outputs": [
    {
     "data": {
      "text/plain": [
       "<AxesSubplot:>"
      ]
     },
     "execution_count": 84,
     "metadata": {},
     "output_type": "execute_result"
    },
    {
     "data": {
      "image/png": "[encoded data removed]",
      "text/plain": [
       "<Figure size 432x288 with 1 Axes>"
      ]
     },
     "metadata": {
      "needs_background": "light"
     },
     "output_type": "display_data"
    }
   ],
   "source": [
    "df['Idade'].value_counts().plot.bar()"
   ]
  },
  {
   "cell_type": "code",
   "execution_count": 85,
   "id": "211220fd",
   "metadata": {},
   "outputs": [
    {
     "data": {
      "text/plain": [
       "<AxesSubplot:>"
      ]
     },
     "execution_count": 85,
     "metadata": {},
     "output_type": "execute_result"
    },
    {
     "data": {
      "image/png": "[encoded data removed]",
      "text/plain": [
       "<Figure size 432x288 with 1 Axes>"
      ]
     },
     "metadata": {
      "needs_background": "light"
     },
     "output_type": "display_data"
    }
   ],
   "source": [
    "df['Alt'].value_counts().plot.bar()"
   ]
  },
  {
   "cell_type": "code",
   "execution_count": 86,
   "id": "0d21a9a6",
   "metadata": {},
   "outputs": [
    {
     "data": {
      "text/plain": [
       "<AxesSubplot:>"
      ]
     },
     "execution_count": 86,
     "metadata": {},
     "output_type": "execute_result"
    },
    {
     "data": {
      "image/png": "[encoded data removed]",
      "text/plain": [
       "<Figure size 432x288 with 1 Axes>"
      ]
     },
     "metadata": {
      "needs_background": "light"
     },
     "output_type": "display_data"
    }
   ],
   "source": [
    "df['Peso'].value_counts().plot.bar()"
   ]
  },
  {
   "cell_type": "code",
   "execution_count": 87,
   "id": "5a365c19",
   "metadata": {},
   "outputs": [
    {
     "data": {
      "text/plain": [
       "<AxesSubplot:>"
      ]
     },
     "execution_count": 87,
     "metadata": {},
     "output_type": "execute_result"
    },
    {
     "data": {
      "image/png": "[encoded data removed]",
      "text/plain": [
       "<Figure size 432x288 with 1 Axes>"
      ]
     },
     "metadata": {
      "needs_background": "light"
     },
     "output_type": "display_data"
    }
   ],
   "source": [
    "df['Filhos'].value_counts().plot.bar()"
   ]
  },
  {
   "cell_type": "code",
   "execution_count": 88,
   "id": "f49613f7",
   "metadata": {},
   "outputs": [
    {
     "data": {
      "text/plain": [
       "<AxesSubplot:>"
      ]
     },
     "execution_count": 88,
     "metadata": {},
     "output_type": "execute_result"
    },
    {
     "data": {
      "image/png": "[encoded data removed]",
      "text/plain": [
       "<Figure size 432x288 with 1 Axes>"
      ]
     },
     "metadata": {
      "needs_background": "light"
     },
     "output_type": "display_data"
    }
   ],
   "source": [
    "df['Fuma'].value_counts().plot.bar()"
   ]
  },
  {
   "cell_type": "code",
   "execution_count": 89,
   "id": "177052de",
   "metadata": {},
   "outputs": [
    {
     "data": {
      "text/plain": [
       "<AxesSubplot:>"
      ]
     },
     "execution_count": 89,
     "metadata": {},
     "output_type": "execute_result"
    },
    {
     "data": {
      "image/png": "[encoded data removed]",
      "text/plain": [
       "<Figure size 432x288 with 1 Axes>"
      ]
     },
     "metadata": {
      "needs_background": "light"
     },
     "output_type": "display_data"
    }
   ],
   "source": [
    "df['Toler'].value_counts().plot.bar()"
   ]
  },
  {
   "cell_type": "code",
   "execution_count": 90,
   "id": "b5e62ab7",
   "metadata": {},
   "outputs": [
    {
     "data": {
      "text/plain": [
       "<AxesSubplot:>"
      ]
     },
     "execution_count": 90,
     "metadata": {},
     "output_type": "execute_result"
    },
    {
     "data": {
      "image/png": "[encoded data removed]",
      "text/plain": [
       "<Figure size 432x288 with 1 Axes>"
      ]
     },
     "metadata": {
      "needs_background": "light"
     },
     "output_type": "display_data"
    }
   ],
   "source": [
    "df['Exerc'].value_counts().plot.bar()"
   ]
  },
  {
   "cell_type": "code",
   "execution_count": 91,
   "id": "497b1922",
   "metadata": {},
   "outputs": [
    {
     "data": {
      "text/plain": [
       "<AxesSubplot:>"
      ]
     },
     "execution_count": 91,
     "metadata": {},
     "output_type": "execute_result"
    },
    {
     "data": {
      "image/png": "[encoded data removed]",
      "text/plain": [
       "<Figure size 432x288 with 1 Axes>"
      ]
     },
     "metadata": {
      "needs_background": "light"
     },
     "output_type": "display_data"
    }
   ],
   "source": [
    "df['Cine'].value_counts().plot.bar()"
   ]
  },
  {
   "cell_type": "code",
   "execution_count": 92,
   "id": "4bb05b0a",
   "metadata": {},
   "outputs": [
    {
     "data": {
      "text/plain": [
       "<AxesSubplot:>"
      ]
     },
     "execution_count": 92,
     "metadata": {},
     "output_type": "execute_result"
    },
    {
     "data": {
      "image/png": "[encoded data removed]",
      "text/plain": [
       "<Figure size 432x288 with 1 Axes>"
      ]
     },
     "metadata": {
      "needs_background": "light"
     },
     "output_type": "display_data"
    }
   ],
   "source": [
    "df['OpCine'].value_counts().plot.bar()"
   ]
  },
  {
   "cell_type": "code",
   "execution_count": 93,
   "id": "25a15ca4",
   "metadata": {},
   "outputs": [
    {
     "data": {
      "text/plain": [
       "<AxesSubplot:>"
      ]
     },
     "execution_count": 93,
     "metadata": {},
     "output_type": "execute_result"
    },
    {
     "data": {
      "image/png": "[encoded data removed]",
      "text/plain": [
       "<Figure size 432x288 with 1 Axes>"
      ]
     },
     "metadata": {
      "needs_background": "light"
     },
     "output_type": "display_data"
    }
   ],
   "source": [
    "df['TV'].value_counts().plot.bar()"
   ]
  },
  {
   "cell_type": "code",
   "execution_count": 94,
   "id": "6c7bdc9b",
   "metadata": {},
   "outputs": [
    {
     "data": {
      "text/plain": [
       "<AxesSubplot:>"
      ]
     },
     "execution_count": 94,
     "metadata": {},
     "output_type": "execute_result"
    },
    {
     "data": {
      "image/png": "[encoded data removed]",
      "text/plain": [
       "<Figure size 432x288 with 1 Axes>"
      ]
     },
     "metadata": {
      "needs_background": "light"
     },
     "output_type": "display_data"
    }
   ],
   "source": [
    "df['OpTV'].value_counts().plot.bar()"
   ]
  },
  {
   "cell_type": "code",
   "execution_count": null,
   "id": "97bcfbb1",
   "metadata": {},
   "outputs": [],
   "source": []
  }
 ],
 "metadata": {
  "kernelspec": {
   "display_name": "Python 3.9.13 64-bit (microsoft store)",
   "language": "python",
   "name": "python3"
  },
  "language_info": {
   "codemirror_mode": {
    "name": "ipython",
    "version": 3
   },
   "file_extension": ".py",
   "mimetype": "text/x-python",
   "name": "python",
   "nbconvert_exporter": "python",
   "pygments_lexer": "ipython3",
   "version": "3.9.13"
  },
  "vscode": {
   "interpreter": {
    "hash": "92620262f98eb96ff24517672e5d9b221ba493f2b65aa91b9dc2340200823c7f"
   }
  }
 },
 "nbformat": 4,
 "nbformat_minor": 5
}
