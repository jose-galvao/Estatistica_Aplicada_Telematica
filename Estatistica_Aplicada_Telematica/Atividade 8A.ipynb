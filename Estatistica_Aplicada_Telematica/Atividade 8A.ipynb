{
 "cells": [
  {
   "cell_type": "markdown",
   "id": "bc0e720d-677d-4ff3-929f-9a6b8e69d264",
   "metadata": {},
   "source": [
    "# <center> ESTATÍSTICA APLICADA </center>"
   ]
  },
  {
   "cell_type": "markdown",
   "id": "6a738c69-045b-4c17-a428-4de70fa39f7f",
   "metadata": {},
   "source": [
    "# <center>  Lista de exercícios 8A </center>"
   ]
  },
  {
   "cell_type": "markdown",
   "id": "cfa552ee-78a0-4a3e-a291-c91f169585ce",
   "metadata": {},
   "source": [
    "# <center>  José Silvestre da Silva Galvão </center>"
   ]
  },
  {
   "cell_type": "markdown",
   "id": "dad23cd6-7f46-4f0d-b0f1-11ed99a8492e",
   "metadata": {},
   "source": [
    "### <center> Questão 1 </center>"
   ]
  },
  {
   "cell_type": "markdown",
   "id": "72c963f4-3ef1-4b65-9772-86b5cd4c8fbb",
   "metadata": {},
   "source": [
    "A- Altura do balão seria quantitativa, pois altura é uma caracteristica que dá pra contar, sendo assim uma ***variável quantitativa discreta.***\n",
    "\n",
    "B- A capacidade também seria quantitativa, pois dá para pesar a média de coisas que dá para transportar.\n",
    "\n",
    "C- A cor dos olhos é uma caracteristica/variável qualitativa, pois os olhos dão qualidades e ***não dá pra fazer calculo*** com a cor dos olhos.\n",
    "\n",
    "D- O número de identidade é qualitativa, pois os números não apresentam um valor, e sim uma caracteristica do documento. ***Uma variável qualitativa ordinal***, pois vai representar a ordem q cada identidade foi feita.\n",
    "\n",
    "E- Qualitativa, pois cada pessoa vai ter uma opinião diferente."
   ]
  },
  {
   "cell_type": "markdown",
   "id": "0a2c014b-7b1f-4e69-8f34-b38b8e14372d",
   "metadata": {},
   "source": [
    "### <center> Questão 2 </center>"
   ]
  },
  {
   "cell_type": "markdown",
   "id": "8a83e9a6-6870-4fe3-9275-9fc6d667e554",
   "metadata": {},
   "source": [
    "**A)** O sexo é uma variável qualitativa nominal, pois não existe nenhum valor de quantidade.\n",
    "\n",
    "A materia preferida seria quanlitativa ordinal, pois podemos fazer a observação de qual matéria os alunos preferem mais.\n",
    "\n",
    "A nota seria quantitativa discreta, pois com os dados obitidos dá para fazer uma media de acertos/erros na turma.\n",
    "    "
   ]
  },
  {
   "cell_type": "markdown",
   "id": "b719449b",
   "metadata": {},
   "source": [
    "**B)** "
   ]
  },
  {
   "cell_type": "code",
   "execution_count": 30,
   "id": "fbd82fa6",
   "metadata": {},
   "outputs": [],
   "source": [
    "import numpy as np\n",
    "import pandas as pd"
   ]
  },
  {
   "cell_type": "code",
   "execution_count": 31,
   "id": "c081b778",
   "metadata": {},
   "outputs": [],
   "source": [
    "df = pd.read_csv(\"C:/Users/joses/Dropbox/PC/Downloads/Planilha sem título - Página1.csv\")"
   ]
  },
  {
   "cell_type": "code",
   "execution_count": 32,
   "id": "2d30ae4c",
   "metadata": {},
   "outputs": [
    {
     "data": {
      "text/html": [
       "<div>\n",
       "<style scoped>\n",
       "    .dataframe tbody tr th:only-of-type {\n",
       "        vertical-align: middle;\n",
       "    }\n",
       "\n",
       "    .dataframe tbody tr th {\n",
       "        vertical-align: top;\n",
       "    }\n",
       "\n",
       "    .dataframe thead th {\n",
       "        text-align: right;\n",
       "    }\n",
       "</style>\n",
       "<table border=\"1\" class=\"dataframe\">\n",
       "  <thead>\n",
       "    <tr style=\"text-align: right;\">\n",
       "      <th></th>\n",
       "      <th>SEXO</th>\n",
       "      <th>PREDILETA</th>\n",
       "      <th>NOTA</th>\n",
       "    </tr>\n",
       "  </thead>\n",
       "  <tbody>\n",
       "    <tr>\n",
       "      <th>0</th>\n",
       "      <td>F</td>\n",
       "      <td>H</td>\n",
       "      <td>5</td>\n",
       "    </tr>\n",
       "    <tr>\n",
       "      <th>1</th>\n",
       "      <td>M</td>\n",
       "      <td>M</td>\n",
       "      <td>8</td>\n",
       "    </tr>\n",
       "    <tr>\n",
       "      <th>2</th>\n",
       "      <td>F</td>\n",
       "      <td>P</td>\n",
       "      <td>8</td>\n",
       "    </tr>\n",
       "    <tr>\n",
       "      <th>3</th>\n",
       "      <td>F</td>\n",
       "      <td>H</td>\n",
       "      <td>6</td>\n",
       "    </tr>\n",
       "    <tr>\n",
       "      <th>4</th>\n",
       "      <td>M</td>\n",
       "      <td>C</td>\n",
       "      <td>5</td>\n",
       "    </tr>\n",
       "    <tr>\n",
       "      <th>5</th>\n",
       "      <td>M</td>\n",
       "      <td>H</td>\n",
       "      <td>6</td>\n",
       "    </tr>\n",
       "    <tr>\n",
       "      <th>6</th>\n",
       "      <td>F</td>\n",
       "      <td>M</td>\n",
       "      <td>8</td>\n",
       "    </tr>\n",
       "    <tr>\n",
       "      <th>7</th>\n",
       "      <td>F</td>\n",
       "      <td>P</td>\n",
       "      <td>4</td>\n",
       "    </tr>\n",
       "    <tr>\n",
       "      <th>8</th>\n",
       "      <td>F</td>\n",
       "      <td>H</td>\n",
       "      <td>2</td>\n",
       "    </tr>\n",
       "    <tr>\n",
       "      <th>9</th>\n",
       "      <td>M</td>\n",
       "      <td>C</td>\n",
       "      <td>6</td>\n",
       "    </tr>\n",
       "    <tr>\n",
       "      <th>10</th>\n",
       "      <td>F</td>\n",
       "      <td>P</td>\n",
       "      <td>8</td>\n",
       "    </tr>\n",
       "    <tr>\n",
       "      <th>11</th>\n",
       "      <td>M</td>\n",
       "      <td>M</td>\n",
       "      <td>2</td>\n",
       "    </tr>\n",
       "    <tr>\n",
       "      <th>12</th>\n",
       "      <td>M</td>\n",
       "      <td>G</td>\n",
       "      <td>4</td>\n",
       "    </tr>\n",
       "    <tr>\n",
       "      <th>13</th>\n",
       "      <td>M</td>\n",
       "      <td>G</td>\n",
       "      <td>9</td>\n",
       "    </tr>\n",
       "    <tr>\n",
       "      <th>14</th>\n",
       "      <td>M</td>\n",
       "      <td>M</td>\n",
       "      <td>7</td>\n",
       "    </tr>\n",
       "    <tr>\n",
       "      <th>15</th>\n",
       "      <td>M</td>\n",
       "      <td>M</td>\n",
       "      <td>1</td>\n",
       "    </tr>\n",
       "    <tr>\n",
       "      <th>16</th>\n",
       "      <td>F</td>\n",
       "      <td>P</td>\n",
       "      <td>8</td>\n",
       "    </tr>\n",
       "    <tr>\n",
       "      <th>17</th>\n",
       "      <td>F</td>\n",
       "      <td>G</td>\n",
       "      <td>5</td>\n",
       "    </tr>\n",
       "    <tr>\n",
       "      <th>18</th>\n",
       "      <td>M</td>\n",
       "      <td>G</td>\n",
       "      <td>9</td>\n",
       "    </tr>\n",
       "    <tr>\n",
       "      <th>19</th>\n",
       "      <td>M</td>\n",
       "      <td>P</td>\n",
       "      <td>5</td>\n",
       "    </tr>\n",
       "    <tr>\n",
       "      <th>20</th>\n",
       "      <td>F</td>\n",
       "      <td>M</td>\n",
       "      <td>8</td>\n",
       "    </tr>\n",
       "    <tr>\n",
       "      <th>21</th>\n",
       "      <td>F</td>\n",
       "      <td>G</td>\n",
       "      <td>6</td>\n",
       "    </tr>\n",
       "    <tr>\n",
       "      <th>22</th>\n",
       "      <td>M</td>\n",
       "      <td>H</td>\n",
       "      <td>3</td>\n",
       "    </tr>\n",
       "    <tr>\n",
       "      <th>23</th>\n",
       "      <td>M</td>\n",
       "      <td>M</td>\n",
       "      <td>5</td>\n",
       "    </tr>\n",
       "    <tr>\n",
       "      <th>24</th>\n",
       "      <td>F</td>\n",
       "      <td>P</td>\n",
       "      <td>5</td>\n",
       "    </tr>\n",
       "    <tr>\n",
       "      <th>25</th>\n",
       "      <td>F</td>\n",
       "      <td>G</td>\n",
       "      <td>5</td>\n",
       "    </tr>\n",
       "    <tr>\n",
       "      <th>26</th>\n",
       "      <td>M</td>\n",
       "      <td>C</td>\n",
       "      <td>7</td>\n",
       "    </tr>\n",
       "    <tr>\n",
       "      <th>27</th>\n",
       "      <td>M</td>\n",
       "      <td>H</td>\n",
       "      <td>4</td>\n",
       "    </tr>\n",
       "    <tr>\n",
       "      <th>28</th>\n",
       "      <td>F</td>\n",
       "      <td>M</td>\n",
       "      <td>7</td>\n",
       "    </tr>\n",
       "    <tr>\n",
       "      <th>29</th>\n",
       "      <td>F</td>\n",
       "      <td>P</td>\n",
       "      <td>7</td>\n",
       "    </tr>\n",
       "    <tr>\n",
       "      <th>30</th>\n",
       "      <td>F</td>\n",
       "      <td>M</td>\n",
       "      <td>6</td>\n",
       "    </tr>\n",
       "    <tr>\n",
       "      <th>31</th>\n",
       "      <td>M</td>\n",
       "      <td>G</td>\n",
       "      <td>6</td>\n",
       "    </tr>\n",
       "    <tr>\n",
       "      <th>32</th>\n",
       "      <td>M</td>\n",
       "      <td>H</td>\n",
       "      <td>9</td>\n",
       "    </tr>\n",
       "    <tr>\n",
       "      <th>33</th>\n",
       "      <td>F</td>\n",
       "      <td>M</td>\n",
       "      <td>8</td>\n",
       "    </tr>\n",
       "    <tr>\n",
       "      <th>34</th>\n",
       "      <td>M</td>\n",
       "      <td>P</td>\n",
       "      <td>5</td>\n",
       "    </tr>\n",
       "    <tr>\n",
       "      <th>35</th>\n",
       "      <td>M</td>\n",
       "      <td>G</td>\n",
       "      <td>6</td>\n",
       "    </tr>\n",
       "    <tr>\n",
       "      <th>36</th>\n",
       "      <td>F</td>\n",
       "      <td>M</td>\n",
       "      <td>7</td>\n",
       "    </tr>\n",
       "    <tr>\n",
       "      <th>37</th>\n",
       "      <td>M</td>\n",
       "      <td>P</td>\n",
       "      <td>5</td>\n",
       "    </tr>\n",
       "    <tr>\n",
       "      <th>38</th>\n",
       "      <td>F</td>\n",
       "      <td>M</td>\n",
       "      <td>5</td>\n",
       "    </tr>\n",
       "    <tr>\n",
       "      <th>39</th>\n",
       "      <td>F</td>\n",
       "      <td>M</td>\n",
       "      <td>5</td>\n",
       "    </tr>\n",
       "    <tr>\n",
       "      <th>40</th>\n",
       "      <td>F</td>\n",
       "      <td>P</td>\n",
       "      <td>9</td>\n",
       "    </tr>\n",
       "    <tr>\n",
       "      <th>41</th>\n",
       "      <td>M</td>\n",
       "      <td>M</td>\n",
       "      <td>8</td>\n",
       "    </tr>\n",
       "  </tbody>\n",
       "</table>\n",
       "</div>"
      ],
      "text/plain": [
       "   SEXO PREDILETA  NOTA\n",
       "0     F         H     5\n",
       "1     M         M     8\n",
       "2     F         P     8\n",
       "3     F         H     6\n",
       "4     M         C     5\n",
       "5     M         H     6\n",
       "6     F         M     8\n",
       "7     F         P     4\n",
       "8     F         H     2\n",
       "9     M         C     6\n",
       "10    F         P     8\n",
       "11    M         M     2\n",
       "12    M         G     4\n",
       "13    M         G     9\n",
       "14    M         M     7\n",
       "15    M         M     1\n",
       "16    F         P     8\n",
       "17    F         G     5\n",
       "18    M         G     9\n",
       "19    M         P     5\n",
       "20    F         M     8\n",
       "21    F         G     6\n",
       "22    M         H     3\n",
       "23    M         M     5\n",
       "24    F         P     5\n",
       "25    F         G     5\n",
       "26    M         C     7\n",
       "27    M         H     4\n",
       "28    F         M     7\n",
       "29    F         P     7\n",
       "30    F         M     6\n",
       "31    M         G     6\n",
       "32    M         H     9\n",
       "33    F         M     8\n",
       "34    M         P     5\n",
       "35    M         G     6\n",
       "36    F         M     7\n",
       "37    M         P     5\n",
       "38    F         M     5\n",
       "39    F         M     5\n",
       "40    F         P     9\n",
       "41    M         M     8"
      ]
     },
     "execution_count": 32,
     "metadata": {},
     "output_type": "execute_result"
    }
   ],
   "source": [
    "df"
   ]
  },
  {
   "cell_type": "code",
   "execution_count": 33,
   "id": "59d29443",
   "metadata": {},
   "outputs": [
    {
     "data": {
      "text/plain": [
       "F    21\n",
       "M    21\n",
       "Name: SEXO, dtype: int64"
      ]
     },
     "execution_count": 33,
     "metadata": {},
     "output_type": "execute_result"
    }
   ],
   "source": [
    "df['SEXO'].value_counts()"
   ]
  },
  {
   "cell_type": "markdown",
   "id": "b84d653e",
   "metadata": {},
   "source": [
    "Relação de frequência relativa da variável 'SEXO'."
   ]
  },
  {
   "cell_type": "code",
   "execution_count": 34,
   "id": "773329dc",
   "metadata": {},
   "outputs": [
    {
     "data": {
      "text/plain": [
       "F    50.0\n",
       "M    50.0\n",
       "Name: SEXO, dtype: float64"
      ]
     },
     "execution_count": 34,
     "metadata": {},
     "output_type": "execute_result"
    }
   ],
   "source": [
    "df['SEXO'].value_counts(normalize=True)*100"
   ]
  },
  {
   "cell_type": "markdown",
   "id": "0a0d2a66",
   "metadata": {},
   "source": [
    "Relação de frequência absoluta da variável 'PREDILETA'."
   ]
  },
  {
   "cell_type": "code",
   "execution_count": 35,
   "id": "8f1557f6",
   "metadata": {
    "scrolled": true
   },
   "outputs": [
    {
     "data": {
      "text/plain": [
       "M    14\n",
       "P    10\n",
       "G     8\n",
       "H     7\n",
       "C     3\n",
       "Name: PREDILETA, dtype: int64"
      ]
     },
     "execution_count": 35,
     "metadata": {},
     "output_type": "execute_result"
    }
   ],
   "source": [
    "df['PREDILETA'].value_counts()"
   ]
  },
  {
   "cell_type": "markdown",
   "id": "1c10b0a8",
   "metadata": {},
   "source": [
    "Relação de frequência relativa da variável 'PREDILETA'."
   ]
  },
  {
   "cell_type": "code",
   "execution_count": 36,
   "id": "4d2ccbad",
   "metadata": {},
   "outputs": [
    {
     "data": {
      "text/plain": [
       "M    33.333333\n",
       "P    23.809524\n",
       "G    19.047619\n",
       "H    16.666667\n",
       "C     7.142857\n",
       "Name: PREDILETA, dtype: float64"
      ]
     },
     "execution_count": 36,
     "metadata": {},
     "output_type": "execute_result"
    }
   ],
   "source": [
    "df['PREDILETA'].value_counts(normalize=True)*100"
   ]
  },
  {
   "cell_type": "markdown",
   "id": "76e2d76d",
   "metadata": {},
   "source": [
    "Relação de frequência absoluta da variável 'NOTA'."
   ]
  },
  {
   "cell_type": "code",
   "execution_count": 37,
   "id": "c384754f",
   "metadata": {},
   "outputs": [
    {
     "data": {
      "text/plain": [
       "5    11\n",
       "8     8\n",
       "6     7\n",
       "7     5\n",
       "9     4\n",
       "4     3\n",
       "2     2\n",
       "1     1\n",
       "3     1\n",
       "Name: NOTA, dtype: int64"
      ]
     },
     "execution_count": 37,
     "metadata": {},
     "output_type": "execute_result"
    }
   ],
   "source": [
    "df['NOTA'].value_counts()"
   ]
  },
  {
   "cell_type": "markdown",
   "id": "779194d4",
   "metadata": {},
   "source": [
    "Relação de frequência relativa da variável 'NOTA'."
   ]
  },
  {
   "cell_type": "code",
   "execution_count": 38,
   "id": "8a553efd",
   "metadata": {},
   "outputs": [
    {
     "data": {
      "text/plain": [
       "5    26.190476\n",
       "8    19.047619\n",
       "6    16.666667\n",
       "7    11.904762\n",
       "9     9.523810\n",
       "4     7.142857\n",
       "2     4.761905\n",
       "1     2.380952\n",
       "3     2.380952\n",
       "Name: NOTA, dtype: float64"
      ]
     },
     "execution_count": 38,
     "metadata": {},
     "output_type": "execute_result"
    }
   ],
   "source": [
    "df['NOTA'].value_counts(normalize=True)*100"
   ]
  },
  {
   "cell_type": "markdown",
   "id": "ce9fc180",
   "metadata": {},
   "source": [
    "### <center> Questão 3 </center>"
   ]
  },
  {
   "cell_type": "markdown",
   "id": "1fe07fbf",
   "metadata": {},
   "source": [
    "**A)**"
   ]
  },
  {
   "cell_type": "markdown",
   "id": "0f4391b8",
   "metadata": {},
   "source": [
    "**PAP**: Qualitativo nominal, pois dá a qualidade a familia, se elas estão inseridos no programa ou não.\n",
    "\n",
    "**GI**: Qualitativo ordinal, dá a qualidade do chefe familiar de ter algum grau de escolaridade, ou não.\n",
    "\n",
    "**RES**: É um exemplo de quantitativo discreto, pois se refere a quantidade de pessoas que vivem na residência.\n",
    "\n",
    "**RENDA**: Quantitativo continuo, se refere a quanto a familia ganha (dinheiro), por mês."
   ]
  },
  {
   "cell_type": "markdown",
   "id": "fc7ba68e",
   "metadata": {},
   "source": [
    "**B)**"
   ]
  },
  {
   "cell_type": "code",
   "execution_count": 39,
   "id": "ffe27a0b",
   "metadata": {},
   "outputs": [
    {
     "data": {
      "text/html": [
       "<div>\n",
       "<style scoped>\n",
       "    .dataframe tbody tr th:only-of-type {\n",
       "        vertical-align: middle;\n",
       "    }\n",
       "\n",
       "    .dataframe tbody tr th {\n",
       "        vertical-align: top;\n",
       "    }\n",
       "\n",
       "    .dataframe thead th {\n",
       "        text-align: right;\n",
       "    }\n",
       "</style>\n",
       "<table border=\"1\" class=\"dataframe\">\n",
       "  <thead>\n",
       "    <tr style=\"text-align: right;\">\n",
       "      <th></th>\n",
       "      <th>Ident.</th>\n",
       "      <th>PAP</th>\n",
       "      <th>GI</th>\n",
       "      <th>RES</th>\n",
       "      <th>RENDA</th>\n",
       "    </tr>\n",
       "  </thead>\n",
       "  <tbody>\n",
       "    <tr>\n",
       "      <th>0</th>\n",
       "      <td>1</td>\n",
       "      <td>0</td>\n",
       "      <td>3</td>\n",
       "      <td>4</td>\n",
       "      <td>10,3</td>\n",
       "    </tr>\n",
       "    <tr>\n",
       "      <th>1</th>\n",
       "      <td>2</td>\n",
       "      <td>0</td>\n",
       "      <td>3</td>\n",
       "      <td>4</td>\n",
       "      <td>15,4</td>\n",
       "    </tr>\n",
       "    <tr>\n",
       "      <th>2</th>\n",
       "      <td>3</td>\n",
       "      <td>1</td>\n",
       "      <td>2</td>\n",
       "      <td>4</td>\n",
       "      <td>9,6</td>\n",
       "    </tr>\n",
       "    <tr>\n",
       "      <th>3</th>\n",
       "      <td>4</td>\n",
       "      <td>0</td>\n",
       "      <td>2</td>\n",
       "      <td>5</td>\n",
       "      <td>5,5</td>\n",
       "    </tr>\n",
       "    <tr>\n",
       "      <th>4</th>\n",
       "      <td>5</td>\n",
       "      <td>1</td>\n",
       "      <td>3</td>\n",
       "      <td>4</td>\n",
       "      <td>9</td>\n",
       "    </tr>\n",
       "    <tr>\n",
       "      <th>5</th>\n",
       "      <td>6</td>\n",
       "      <td>1</td>\n",
       "      <td>1</td>\n",
       "      <td>1</td>\n",
       "      <td>2,4</td>\n",
       "    </tr>\n",
       "    <tr>\n",
       "      <th>6</th>\n",
       "      <td>7</td>\n",
       "      <td>0</td>\n",
       "      <td>2</td>\n",
       "      <td>2</td>\n",
       "      <td>4,1</td>\n",
       "    </tr>\n",
       "    <tr>\n",
       "      <th>7</th>\n",
       "      <td>8</td>\n",
       "      <td>1</td>\n",
       "      <td>3</td>\n",
       "      <td>3</td>\n",
       "      <td>8,4</td>\n",
       "    </tr>\n",
       "    <tr>\n",
       "      <th>8</th>\n",
       "      <td>9</td>\n",
       "      <td>1</td>\n",
       "      <td>6</td>\n",
       "      <td>6</td>\n",
       "      <td>10,3</td>\n",
       "    </tr>\n",
       "    <tr>\n",
       "      <th>9</th>\n",
       "      <td>10</td>\n",
       "      <td>1</td>\n",
       "      <td>4</td>\n",
       "      <td>4</td>\n",
       "      <td>4,6</td>\n",
       "    </tr>\n",
       "    <tr>\n",
       "      <th>10</th>\n",
       "      <td>11</td>\n",
       "      <td>0</td>\n",
       "      <td>6</td>\n",
       "      <td>6</td>\n",
       "      <td>18,6</td>\n",
       "    </tr>\n",
       "    <tr>\n",
       "      <th>11</th>\n",
       "      <td>12</td>\n",
       "      <td>1</td>\n",
       "      <td>4</td>\n",
       "      <td>4</td>\n",
       "      <td>7,1</td>\n",
       "    </tr>\n",
       "    <tr>\n",
       "      <th>12</th>\n",
       "      <td>13</td>\n",
       "      <td>0</td>\n",
       "      <td>4</td>\n",
       "      <td>4</td>\n",
       "      <td>12,9</td>\n",
       "    </tr>\n",
       "    <tr>\n",
       "      <th>13</th>\n",
       "      <td>14</td>\n",
       "      <td>0</td>\n",
       "      <td>6</td>\n",
       "      <td>6</td>\n",
       "      <td>8,4</td>\n",
       "    </tr>\n",
       "    <tr>\n",
       "      <th>14</th>\n",
       "      <td>15</td>\n",
       "      <td>0</td>\n",
       "      <td>3</td>\n",
       "      <td>3</td>\n",
       "      <td>19,3</td>\n",
       "    </tr>\n",
       "    <tr>\n",
       "      <th>15</th>\n",
       "      <td>16</td>\n",
       "      <td>0</td>\n",
       "      <td>5</td>\n",
       "      <td>5</td>\n",
       "      <td>10,4</td>\n",
       "    </tr>\n",
       "    <tr>\n",
       "      <th>16</th>\n",
       "      <td>17</td>\n",
       "      <td>1</td>\n",
       "      <td>3</td>\n",
       "      <td>3</td>\n",
       "      <td>8,9</td>\n",
       "    </tr>\n",
       "    <tr>\n",
       "      <th>17</th>\n",
       "      <td>18</td>\n",
       "      <td>0</td>\n",
       "      <td>4</td>\n",
       "      <td>4</td>\n",
       "      <td>12,9</td>\n",
       "    </tr>\n",
       "    <tr>\n",
       "      <th>18</th>\n",
       "      <td>19</td>\n",
       "      <td>0</td>\n",
       "      <td>4</td>\n",
       "      <td>4</td>\n",
       "      <td>5,1</td>\n",
       "    </tr>\n",
       "    <tr>\n",
       "      <th>19</th>\n",
       "      <td>20</td>\n",
       "      <td>1</td>\n",
       "      <td>4</td>\n",
       "      <td>4</td>\n",
       "      <td>12,2</td>\n",
       "    </tr>\n",
       "    <tr>\n",
       "      <th>20</th>\n",
       "      <td>21</td>\n",
       "      <td>1</td>\n",
       "      <td>3</td>\n",
       "      <td>5</td>\n",
       "      <td>5,8</td>\n",
       "    </tr>\n",
       "    <tr>\n",
       "      <th>21</th>\n",
       "      <td>22</td>\n",
       "      <td>1</td>\n",
       "      <td>3</td>\n",
       "      <td>5</td>\n",
       "      <td>12,9</td>\n",
       "    </tr>\n",
       "    <tr>\n",
       "      <th>22</th>\n",
       "      <td>23</td>\n",
       "      <td>0</td>\n",
       "      <td>3</td>\n",
       "      <td>5</td>\n",
       "      <td>7,7</td>\n",
       "    </tr>\n",
       "    <tr>\n",
       "      <th>23</th>\n",
       "      <td>24</td>\n",
       "      <td>0</td>\n",
       "      <td>2</td>\n",
       "      <td>4</td>\n",
       "      <td>1,1</td>\n",
       "    </tr>\n",
       "    <tr>\n",
       "      <th>24</th>\n",
       "      <td>25</td>\n",
       "      <td>0</td>\n",
       "      <td>2</td>\n",
       "      <td>8</td>\n",
       "      <td>7,5</td>\n",
       "    </tr>\n",
       "    <tr>\n",
       "      <th>25</th>\n",
       "      <td>26</td>\n",
       "      <td>1</td>\n",
       "      <td>3</td>\n",
       "      <td>4</td>\n",
       "      <td>5,8</td>\n",
       "    </tr>\n",
       "    <tr>\n",
       "      <th>26</th>\n",
       "      <td>27</td>\n",
       "      <td>1</td>\n",
       "      <td>1</td>\n",
       "      <td>5</td>\n",
       "      <td>7,2</td>\n",
       "    </tr>\n",
       "    <tr>\n",
       "      <th>27</th>\n",
       "      <td>28</td>\n",
       "      <td>0</td>\n",
       "      <td>3</td>\n",
       "      <td>3</td>\n",
       "      <td>8,6</td>\n",
       "    </tr>\n",
       "    <tr>\n",
       "      <th>28</th>\n",
       "      <td>29</td>\n",
       "      <td>1</td>\n",
       "      <td>2</td>\n",
       "      <td>4</td>\n",
       "      <td>5,1</td>\n",
       "    </tr>\n",
       "    <tr>\n",
       "      <th>29</th>\n",
       "      <td>30</td>\n",
       "      <td>0</td>\n",
       "      <td>3</td>\n",
       "      <td>5</td>\n",
       "      <td>2,6</td>\n",
       "    </tr>\n",
       "    <tr>\n",
       "      <th>30</th>\n",
       "      <td>31</td>\n",
       "      <td>1</td>\n",
       "      <td>3</td>\n",
       "      <td>5</td>\n",
       "      <td>7,7</td>\n",
       "    </tr>\n",
       "    <tr>\n",
       "      <th>31</th>\n",
       "      <td>32</td>\n",
       "      <td>1</td>\n",
       "      <td>2</td>\n",
       "      <td>2</td>\n",
       "      <td>2,4</td>\n",
       "    </tr>\n",
       "    <tr>\n",
       "      <th>32</th>\n",
       "      <td>33</td>\n",
       "      <td>1</td>\n",
       "      <td>3</td>\n",
       "      <td>5</td>\n",
       "      <td>4,8</td>\n",
       "    </tr>\n",
       "    <tr>\n",
       "      <th>33</th>\n",
       "      <td>34</td>\n",
       "      <td>1</td>\n",
       "      <td>1</td>\n",
       "      <td>2</td>\n",
       "      <td>2,1</td>\n",
       "    </tr>\n",
       "    <tr>\n",
       "      <th>34</th>\n",
       "      <td>35</td>\n",
       "      <td>1</td>\n",
       "      <td>1</td>\n",
       "      <td>6</td>\n",
       "      <td>4</td>\n",
       "    </tr>\n",
       "    <tr>\n",
       "      <th>35</th>\n",
       "      <td>36</td>\n",
       "      <td>1</td>\n",
       "      <td>1</td>\n",
       "      <td>8</td>\n",
       "      <td>12,5</td>\n",
       "    </tr>\n",
       "    <tr>\n",
       "      <th>36</th>\n",
       "      <td>37</td>\n",
       "      <td>1</td>\n",
       "      <td>3</td>\n",
       "      <td>3</td>\n",
       "      <td>6,8</td>\n",
       "    </tr>\n",
       "    <tr>\n",
       "      <th>37</th>\n",
       "      <td>38</td>\n",
       "      <td>1</td>\n",
       "      <td>3</td>\n",
       "      <td>5</td>\n",
       "      <td>3,9</td>\n",
       "    </tr>\n",
       "    <tr>\n",
       "      <th>38</th>\n",
       "      <td>39</td>\n",
       "      <td>1</td>\n",
       "      <td>3</td>\n",
       "      <td>5</td>\n",
       "      <td>9</td>\n",
       "    </tr>\n",
       "    <tr>\n",
       "      <th>39</th>\n",
       "      <td>40</td>\n",
       "      <td>1</td>\n",
       "      <td>3</td>\n",
       "      <td>3</td>\n",
       "      <td>10,9</td>\n",
       "    </tr>\n",
       "  </tbody>\n",
       "</table>\n",
       "</div>"
      ],
      "text/plain": [
       "    Ident.  PAP  GI  RES RENDA\n",
       "0        1    0   3    4  10,3\n",
       "1        2    0   3    4  15,4\n",
       "2        3    1   2    4   9,6\n",
       "3        4    0   2    5   5,5\n",
       "4        5    1   3    4     9\n",
       "5        6    1   1    1   2,4\n",
       "6        7    0   2    2   4,1\n",
       "7        8    1   3    3   8,4\n",
       "8        9    1   6    6  10,3\n",
       "9       10    1   4    4   4,6\n",
       "10      11    0   6    6  18,6\n",
       "11      12    1   4    4   7,1\n",
       "12      13    0   4    4  12,9\n",
       "13      14    0   6    6   8,4\n",
       "14      15    0   3    3  19,3\n",
       "15      16    0   5    5  10,4\n",
       "16      17    1   3    3   8,9\n",
       "17      18    0   4    4  12,9\n",
       "18      19    0   4    4   5,1\n",
       "19      20    1   4    4  12,2\n",
       "20      21    1   3    5   5,8\n",
       "21      22    1   3    5  12,9\n",
       "22      23    0   3    5   7,7\n",
       "23      24    0   2    4   1,1\n",
       "24      25    0   2    8   7,5\n",
       "25      26    1   3    4   5,8\n",
       "26      27    1   1    5   7,2\n",
       "27      28    0   3    3   8,6\n",
       "28      29    1   2    4   5,1\n",
       "29      30    0   3    5   2,6\n",
       "30      31    1   3    5   7,7\n",
       "31      32    1   2    2   2,4\n",
       "32      33    1   3    5   4,8\n",
       "33      34    1   1    2   2,1\n",
       "34      35    1   1    6     4\n",
       "35      36    1   1    8  12,5\n",
       "36      37    1   3    3   6,8\n",
       "37      38    1   3    5   3,9\n",
       "38      39    1   3    5     9\n",
       "39      40    1   3    3  10,9"
      ]
     },
     "execution_count": 39,
     "metadata": {},
     "output_type": "execute_result"
    }
   ],
   "source": [
    "df = pd.read_csv(\"C:/Users/joses/Dropbox/PC/Downloads/3B.csv\")\n",
    "df"
   ]
  },
  {
   "cell_type": "markdown",
   "id": "2e8a63f4",
   "metadata": {},
   "source": [
    "Frequência absoluta da variável 'PAP'."
   ]
  },
  {
   "cell_type": "code",
   "execution_count": 40,
   "id": "7110c804",
   "metadata": {},
   "outputs": [
    {
     "data": {
      "text/plain": [
       "1    24\n",
       "0    16\n",
       "Name: PAP, dtype: int64"
      ]
     },
     "execution_count": 40,
     "metadata": {},
     "output_type": "execute_result"
    }
   ],
   "source": [
    "df['PAP'].value_counts()"
   ]
  },
  {
   "cell_type": "markdown",
   "id": "3b6fc846",
   "metadata": {},
   "source": [
    "Frequência relativa da variável 'PAP'."
   ]
  },
  {
   "cell_type": "code",
   "execution_count": 41,
   "id": "73fbab54",
   "metadata": {},
   "outputs": [
    {
     "data": {
      "text/plain": [
       "1    60.0\n",
       "0    40.0\n",
       "Name: PAP, dtype: float64"
      ]
     },
     "execution_count": 41,
     "metadata": {},
     "output_type": "execute_result"
    }
   ],
   "source": [
    "df['PAP'].value_counts(normalize=True)*100"
   ]
  },
  {
   "cell_type": "markdown",
   "id": "94bd3345",
   "metadata": {},
   "source": [
    "Frequência absoluta da variável 'GI'."
   ]
  },
  {
   "cell_type": "code",
   "execution_count": 42,
   "id": "4de5d166",
   "metadata": {},
   "outputs": [
    {
     "data": {
      "text/plain": [
       "3    18\n",
       "2     7\n",
       "4     6\n",
       "1     5\n",
       "6     3\n",
       "5     1\n",
       "Name: GI, dtype: int64"
      ]
     },
     "execution_count": 42,
     "metadata": {},
     "output_type": "execute_result"
    }
   ],
   "source": [
    "df['GI'].value_counts()"
   ]
  },
  {
   "cell_type": "markdown",
   "id": "9de1f8f5",
   "metadata": {},
   "source": [
    "Frequência relativa da variável 'GI'."
   ]
  },
  {
   "cell_type": "code",
   "execution_count": 43,
   "id": "6b2bfed2",
   "metadata": {},
   "outputs": [
    {
     "data": {
      "text/plain": [
       "3    45.0\n",
       "2    17.5\n",
       "4    15.0\n",
       "1    12.5\n",
       "6     7.5\n",
       "5     2.5\n",
       "Name: GI, dtype: float64"
      ]
     },
     "execution_count": 43,
     "metadata": {},
     "output_type": "execute_result"
    }
   ],
   "source": [
    "df['GI'].value_counts(normalize=True)*100"
   ]
  },
  {
   "cell_type": "markdown",
   "id": "23cff38c",
   "metadata": {},
   "source": [
    "Frequência absoluta da variável 'RES'."
   ]
  },
  {
   "cell_type": "code",
   "execution_count": 44,
   "id": "bfb1afe8",
   "metadata": {},
   "outputs": [
    {
     "data": {
      "text/plain": [
       "4    13\n",
       "5    11\n",
       "3     6\n",
       "6     4\n",
       "2     3\n",
       "8     2\n",
       "1     1\n",
       "Name: RES, dtype: int64"
      ]
     },
     "execution_count": 44,
     "metadata": {},
     "output_type": "execute_result"
    }
   ],
   "source": [
    "df['RES'].value_counts()"
   ]
  },
  {
   "cell_type": "markdown",
   "id": "24ad1258",
   "metadata": {},
   "source": [
    "Frequência relativa da variável 'RES'."
   ]
  },
  {
   "cell_type": "code",
   "execution_count": 45,
   "id": "b1a8d820",
   "metadata": {},
   "outputs": [
    {
     "data": {
      "text/plain": [
       "4    32.5\n",
       "5    27.5\n",
       "3    15.0\n",
       "6    10.0\n",
       "2     7.5\n",
       "8     5.0\n",
       "1     2.5\n",
       "Name: RES, dtype: float64"
      ]
     },
     "execution_count": 45,
     "metadata": {},
     "output_type": "execute_result"
    }
   ],
   "source": [
    "df['RES'].value_counts(normalize=True)*100"
   ]
  },
  {
   "cell_type": "markdown",
   "id": "6e109a78",
   "metadata": {},
   "source": [
    "Frequência absluta da variável 'RENDA'."
   ]
  },
  {
   "cell_type": "code",
   "execution_count": 46,
   "id": "e8ac8edf",
   "metadata": {},
   "outputs": [
    {
     "data": {
      "text/plain": [
       "12,9    3\n",
       "2,4     2\n",
       "10,3    2\n",
       "9       2\n",
       "5,1     2\n",
       "5,8     2\n",
       "7,7     2\n",
       "8,4     2\n",
       "4       1\n",
       "8,6     1\n",
       "2,1     1\n",
       "4,6     1\n",
       "3,9     1\n",
       "18,6    1\n",
       "15,4    1\n",
       "4,8     1\n",
       "9,6     1\n",
       "4,1     1\n",
       "2,6     1\n",
       "19,3    1\n",
       "10,9    1\n",
       "12,2    1\n",
       "12,5    1\n",
       "5,5     1\n",
       "8,9     1\n",
       "10,4    1\n",
       "1,1     1\n",
       "6,8     1\n",
       "7,1     1\n",
       "7,5     1\n",
       "7,2     1\n",
       "Name: RENDA, dtype: int64"
      ]
     },
     "execution_count": 46,
     "metadata": {},
     "output_type": "execute_result"
    }
   ],
   "source": [
    "df['RENDA'].value_counts()"
   ]
  },
  {
   "cell_type": "markdown",
   "id": "af64958a",
   "metadata": {},
   "source": [
    "Frequência relativa da variável 'RENDA'."
   ]
  },
  {
   "cell_type": "code",
   "execution_count": 47,
   "id": "0fb4e7c0",
   "metadata": {},
   "outputs": [
    {
     "data": {
      "text/plain": [
       "12,9    7.5\n",
       "2,4     5.0\n",
       "10,3    5.0\n",
       "9       5.0\n",
       "5,1     5.0\n",
       "5,8     5.0\n",
       "7,7     5.0\n",
       "8,4     5.0\n",
       "4       2.5\n",
       "8,6     2.5\n",
       "2,1     2.5\n",
       "4,6     2.5\n",
       "3,9     2.5\n",
       "18,6    2.5\n",
       "15,4    2.5\n",
       "4,8     2.5\n",
       "9,6     2.5\n",
       "4,1     2.5\n",
       "2,6     2.5\n",
       "19,3    2.5\n",
       "10,9    2.5\n",
       "12,2    2.5\n",
       "12,5    2.5\n",
       "5,5     2.5\n",
       "8,9     2.5\n",
       "10,4    2.5\n",
       "1,1     2.5\n",
       "6,8     2.5\n",
       "7,1     2.5\n",
       "7,5     2.5\n",
       "7,2     2.5\n",
       "Name: RENDA, dtype: float64"
      ]
     },
     "execution_count": 47,
     "metadata": {},
     "output_type": "execute_result"
    }
   ],
   "source": [
    "df['RENDA'].value_counts(normalize=True)*100"
   ]
  }
 ],
 "metadata": {
  "kernelspec": {
   "display_name": "Python 3",
   "language": "python",
   "name": "python3"
  },
  "language_info": {
   "codemirror_mode": {
    "name": "ipython",
    "version": 3
   },
   "file_extension": ".py",
   "mimetype": "text/x-python",
   "name": "python",
   "nbconvert_exporter": "python",
   "pygments_lexer": "ipython3",
   "version": "3.8.8"
  }
 },
 "nbformat": 4,
 "nbformat_minor": 5
}
