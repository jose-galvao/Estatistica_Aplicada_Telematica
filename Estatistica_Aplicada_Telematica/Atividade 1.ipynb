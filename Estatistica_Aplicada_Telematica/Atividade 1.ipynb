{
 "cells": [
  {
   "cell_type": "markdown",
   "id": "bc0e720d-677d-4ff3-929f-9a6b8e69d264",
   "metadata": {},
   "source": [
    "# <center> ESTATÍSTICA APLICADA </center>"
   ]
  },
  {
   "cell_type": "markdown",
   "id": "6a738c69-045b-4c17-a428-4de70fa39f7f",
   "metadata": {},
   "source": [
    "# <center>  Lista de exercícios 1 </center>"
   ]
  },
  {
   "cell_type": "markdown",
   "id": "cfa552ee-78a0-4a3e-a291-c91f169585ce",
   "metadata": {},
   "source": [
    "# <center>  José Silvestre da Silva Galvão </center>"
   ]
  },
  {
   "cell_type": "markdown",
   "id": "dad23cd6-7f46-4f0d-b0f1-11ed99a8492e",
   "metadata": {},
   "source": [
    "### <center> Questão 1 </center>"
   ]
  },
  {
   "cell_type": "markdown",
   "id": "72c963f4-3ef1-4b65-9772-86b5cd4c8fbb",
   "metadata": {},
   "source": [
    "A- Altura do balão seria quantitativa, pois altura é uma caracteristica que dá pra contar, sendo assim uma ***variável quantitativa discreta.***\n",
    "\n",
    "B- A capacidade também seria quantitativa, pois dá para pesar a média de coisas que dá para transportar.\n",
    "\n",
    "C- A cor dos olhos é uma caracteristica/variável qualitativa, pois os olhos dão qualidades e ***não dá pra fazer calculo*** com a cor dos olhos.\n",
    "\n",
    "D- O número de identidade é qualitativa, pois os números não apresentam um valor, e sim uma caracteristica do documento. ***Uma variável qualitativa ordinal***, pois vai representar a ordem q cada identidade foi feita.\n",
    "\n",
    "E- Qualitativa, pois cada pessoa vai ter uma opinião diferente."
   ]
  },
  {
   "cell_type": "markdown",
   "id": "0a2c014b-7b1f-4e69-8f34-b38b8e14372d",
   "metadata": {},
   "source": [
    "### <center> Questão 2 </center>"
   ]
  },
  {
   "cell_type": "markdown",
   "id": "8a83e9a6-6870-4fe3-9275-9fc6d667e554",
   "metadata": {},
   "source": [
    "O sexo é uma variável qualitativa nominal, pois não existe nenhum valor de quantidade.\n",
    "\n",
    "A materia preferida seria quanlitativa ordinal, pois podemos fazer a observação de qual matéria os alunos preferem mais.\n",
    "\n",
    "A nota seria quantitativa discreta, pois com os dados obitidos dá para fazer uma media de acertos/erros na turma.\n",
    "    "
   ]
  },
  {
   "cell_type": "markdown",
   "id": "ae409db2-44ca-4616-b1bc-3ef273912241",
   "metadata": {},
   "source": [
    "### <center>Questão 3 </center>"
   ]
  },
  {
   "cell_type": "markdown",
   "id": "5aefdd53-20c2-446a-bbbf-972a62264726",
   "metadata": {},
   "source": [
    "PAP- ***Qualitativa nominal***, pois apesar de usar número para o dado, o número está servindo como uma caracteristica, se for 1 significa sim, se for 0 sifnifica não.\n",
    "\n",
    "GI- ***Qualitativa ordinal***, apesar de também ser representado por número, o número está representando um nível de escolaridade, onde um pode ser maior ou menor que o outro.\n",
    "\n",
    "RES- ***Quantitativa discreta***, pois dá para contar a quantidade de pessoas em cada casa.\n",
    "\n",
    "RENDA- ***Quantitativo contínuo***, pois é um número decimal, podendo ter varias casas após a vírgula."
   ]
  }
 ],
 "metadata": {
  "kernelspec": {
   "display_name": "Python 3.9.13 64-bit (microsoft store)",
   "language": "python",
   "name": "python3"
  },
  "language_info": {
   "codemirror_mode": {
    "name": "ipython",
    "version": 3
   },
   "file_extension": ".py",
   "mimetype": "text/x-python",
   "name": "python",
   "nbconvert_exporter": "python",
   "pygments_lexer": "ipython3",
   "version": "3.9.13"
  },
  "vscode": {
   "interpreter": {
    "hash": "92620262f98eb96ff24517672e5d9b221ba493f2b65aa91b9dc2340200823c7f"
   }
  }
 },
 "nbformat": 4,
 "nbformat_minor": 5
}
